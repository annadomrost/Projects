{
 "cells": [
  {
   "cell_type": "markdown",
   "metadata": {},
   "source": [
    "# Исследование сервиса для чтения книг по подписке\n",
    "\n",
    "**Цель** - проанализировать базу данных\n",
    "\n",
    "**Задача** -  сформулировать ценностное предложение для нового продукта\n",
    "\n",
    "**Описание данных:**\n",
    "\n",
    "Таблица books содержит данные о книгах:\n",
    "- book_id — идентификатор книги;\n",
    "- author_id — идентификатор автора;\n",
    "- title — название книги;\n",
    "- num_pages — количество страниц;\n",
    "- publication_date — дата публикации книги;\n",
    "- publisher_id — идентификатор издателя.\n",
    "\n",
    "Таблица authors содержит данные об авторах:\n",
    "- author_id — идентификатор автора;\n",
    "- author — имя автора.\n",
    "\n",
    "Таблица publishers содержит данные об издательствах:\n",
    "- publisher_id — идентификатор издательства;\n",
    "- publisher — название издательства.\n",
    "\n",
    "Таблица ratings содержит данные о пользовательских оценках книг:\n",
    "- rating_id — идентификатор оценки;\n",
    "- book_id — идентификатор книги;\n",
    "- username — имя пользователя, оставившего оценку;\n",
    "- rating — оценка книги.\n",
    "\n",
    "Таблица reviews содержит данные о пользовательских обзорах:\n",
    "- review_id — идентификатор обзора;\n",
    "- book_id — идентификатор книги;\n",
    "- username — имя автора обзора;\n",
    "- text — текст обзора.\n",
    "\n",
    "**Ход исследования:**\n",
    "1. загрузка и чтение основной информации датасетов\n",
    "2. изучение данных:\n",
    "- сколько книг вышло после 1 января 2000 года;\n",
    "- для каждой книги посчитать количество обзоров и среднюю оценку;\n",
    "- определить издательство, которое выпустило наибольшее число книг толще 50 страниц — так вы исключите из анализа брошюры;\n",
    "- определить автора с самой высокой средней оценкой книг — учитывайте только книги с 50 и более оценками;\n",
    "- посчитать среднее количество обзоров от пользователей, которые поставили больше 48 оценок.\n",
    "3. составление выводов\n",
    "4. формулировка рекомендаций"
   ]
  },
  {
   "cell_type": "markdown",
   "metadata": {},
   "source": [
    "## Загрузка и чтение основной информации датасетов"
   ]
  },
  {
   "cell_type": "markdown",
   "metadata": {},
   "source": [
    "### Подготовка к чтению"
   ]
  },
  {
   "cell_type": "code",
   "execution_count": 1,
   "metadata": {},
   "outputs": [],
   "source": [
    "# импорт библиотеки\n",
    "import pandas as pd\n",
    "from sqlalchemy import text, create_engine"
   ]
  },
  {
   "cell_type": "code",
   "execution_count": 2,
   "metadata": {},
   "outputs": [],
   "source": [
    "# установка параметров\n",
    "db_config = {'user': 'praktikum_student', # имя пользователя\n",
    "             'pwd': 'Sdf4$2;d-d30pp', # пароль\n",
    "             'host': 'rc1b-wcoijxj3yxfsf3fs.mdb.yandexcloud.net',\n",
    "             'port': 6432, # порт подключения\n",
    "             'db': 'data-analyst-final-project-db'} # название базы данных\n",
    "connection_string = 'postgresql://{user}:{pwd}@{host}:{port}/{db}'.format(**db_config)"
   ]
  },
  {
   "cell_type": "code",
   "execution_count": 3,
   "metadata": {},
   "outputs": [],
   "source": [
    "# сохранение коннектора\n",
    "engine = create_engine(connection_string, connect_args={'sslmode':'require'})"
   ]
  },
  {
   "cell_type": "code",
   "execution_count": 4,
   "metadata": {},
   "outputs": [],
   "source": [
    "con=engine.connect()"
   ]
  },
  {
   "cell_type": "code",
   "execution_count": 5,
   "metadata": {},
   "outputs": [],
   "source": [
    "#создание функции для отображение sql_запроса\n",
    "def sql_query(query):\n",
    "    result = pd.io.sql.read_sql(query, con)\n",
    "    return result"
   ]
  },
  {
   "cell_type": "markdown",
   "metadata": {},
   "source": [
    "### Таблица books"
   ]
  },
  {
   "cell_type": "code",
   "execution_count": 6,
   "metadata": {},
   "outputs": [
    {
     "data": {
      "text/html": [
       "<div>\n",
       "<style scoped>\n",
       "    .dataframe tbody tr th:only-of-type {\n",
       "        vertical-align: middle;\n",
       "    }\n",
       "\n",
       "    .dataframe tbody tr th {\n",
       "        vertical-align: top;\n",
       "    }\n",
       "\n",
       "    .dataframe thead th {\n",
       "        text-align: right;\n",
       "    }\n",
       "</style>\n",
       "<table border=\"1\" class=\"dataframe\">\n",
       "  <thead>\n",
       "    <tr style=\"text-align: right;\">\n",
       "      <th></th>\n",
       "      <th>book_id</th>\n",
       "      <th>author_id</th>\n",
       "      <th>title</th>\n",
       "      <th>num_pages</th>\n",
       "      <th>publication_date</th>\n",
       "      <th>publisher_id</th>\n",
       "    </tr>\n",
       "  </thead>\n",
       "  <tbody>\n",
       "    <tr>\n",
       "      <th>0</th>\n",
       "      <td>1</td>\n",
       "      <td>546</td>\n",
       "      <td>'Salem's Lot</td>\n",
       "      <td>594</td>\n",
       "      <td>2005-11-01</td>\n",
       "      <td>93</td>\n",
       "    </tr>\n",
       "    <tr>\n",
       "      <th>1</th>\n",
       "      <td>2</td>\n",
       "      <td>465</td>\n",
       "      <td>1 000 Places to See Before You Die</td>\n",
       "      <td>992</td>\n",
       "      <td>2003-05-22</td>\n",
       "      <td>336</td>\n",
       "    </tr>\n",
       "    <tr>\n",
       "      <th>2</th>\n",
       "      <td>3</td>\n",
       "      <td>407</td>\n",
       "      <td>13 Little Blue Envelopes (Little Blue Envelope...</td>\n",
       "      <td>322</td>\n",
       "      <td>2010-12-21</td>\n",
       "      <td>135</td>\n",
       "    </tr>\n",
       "    <tr>\n",
       "      <th>3</th>\n",
       "      <td>4</td>\n",
       "      <td>82</td>\n",
       "      <td>1491: New Revelations of the Americas Before C...</td>\n",
       "      <td>541</td>\n",
       "      <td>2006-10-10</td>\n",
       "      <td>309</td>\n",
       "    </tr>\n",
       "    <tr>\n",
       "      <th>4</th>\n",
       "      <td>5</td>\n",
       "      <td>125</td>\n",
       "      <td>1776</td>\n",
       "      <td>386</td>\n",
       "      <td>2006-07-04</td>\n",
       "      <td>268</td>\n",
       "    </tr>\n",
       "  </tbody>\n",
       "</table>\n",
       "</div>"
      ],
      "text/plain": [
       "   book_id  author_id                                              title  \\\n",
       "0        1        546                                       'Salem's Lot   \n",
       "1        2        465                 1 000 Places to See Before You Die   \n",
       "2        3        407  13 Little Blue Envelopes (Little Blue Envelope...   \n",
       "3        4         82  1491: New Revelations of the Americas Before C...   \n",
       "4        5        125                                               1776   \n",
       "\n",
       "   num_pages publication_date  publisher_id  \n",
       "0        594       2005-11-01            93  \n",
       "1        992       2003-05-22           336  \n",
       "2        322       2010-12-21           135  \n",
       "3        541       2006-10-10           309  \n",
       "4        386       2006-07-04           268  "
      ]
     },
     "execution_count": 6,
     "metadata": {},
     "output_type": "execute_result"
    }
   ],
   "source": [
    "books = '''\n",
    "            SELECT *\n",
    "            FROM books\n",
    "            LIMIT 5;\n",
    "        '''\n",
    "sql_query(books)"
   ]
  },
  {
   "cell_type": "code",
   "execution_count": 7,
   "metadata": {},
   "outputs": [
    {
     "data": {
      "text/html": [
       "<div>\n",
       "<style scoped>\n",
       "    .dataframe tbody tr th:only-of-type {\n",
       "        vertical-align: middle;\n",
       "    }\n",
       "\n",
       "    .dataframe tbody tr th {\n",
       "        vertical-align: top;\n",
       "    }\n",
       "\n",
       "    .dataframe thead th {\n",
       "        text-align: right;\n",
       "    }\n",
       "</style>\n",
       "<table border=\"1\" class=\"dataframe\">\n",
       "  <thead>\n",
       "    <tr style=\"text-align: right;\">\n",
       "      <th></th>\n",
       "      <th>count</th>\n",
       "    </tr>\n",
       "  </thead>\n",
       "  <tbody>\n",
       "    <tr>\n",
       "      <th>0</th>\n",
       "      <td>1000</td>\n",
       "    </tr>\n",
       "  </tbody>\n",
       "</table>\n",
       "</div>"
      ],
      "text/plain": [
       "   count\n",
       "0   1000"
      ]
     },
     "execution_count": 7,
     "metadata": {},
     "output_type": "execute_result"
    }
   ],
   "source": [
    "books_count = '''\n",
    "            SELECT\n",
    "                COUNT (*) \n",
    "            FROM books;\n",
    "            '''\n",
    "sql_query(books_count)"
   ]
  },
  {
   "cell_type": "code",
   "execution_count": 8,
   "metadata": {},
   "outputs": [
    {
     "data": {
      "text/html": [
       "<div>\n",
       "<style scoped>\n",
       "    .dataframe tbody tr th:only-of-type {\n",
       "        vertical-align: middle;\n",
       "    }\n",
       "\n",
       "    .dataframe tbody tr th {\n",
       "        vertical-align: top;\n",
       "    }\n",
       "\n",
       "    .dataframe thead th {\n",
       "        text-align: right;\n",
       "    }\n",
       "</style>\n",
       "<table border=\"1\" class=\"dataframe\">\n",
       "  <thead>\n",
       "    <tr style=\"text-align: right;\">\n",
       "      <th></th>\n",
       "      <th>books_unique</th>\n",
       "      <th>author_unique</th>\n",
       "      <th>title_unique</th>\n",
       "      <th>pages_min</th>\n",
       "      <th>pages_max</th>\n",
       "      <th>date_min</th>\n",
       "      <th>date_max</th>\n",
       "      <th>publisher_unique</th>\n",
       "    </tr>\n",
       "  </thead>\n",
       "  <tbody>\n",
       "    <tr>\n",
       "      <th>0</th>\n",
       "      <td>1000</td>\n",
       "      <td>636</td>\n",
       "      <td>999</td>\n",
       "      <td>14</td>\n",
       "      <td>2690</td>\n",
       "      <td>1952-12-01</td>\n",
       "      <td>2020-03-31</td>\n",
       "      <td>340</td>\n",
       "    </tr>\n",
       "  </tbody>\n",
       "</table>\n",
       "</div>"
      ],
      "text/plain": [
       "   books_unique  author_unique  title_unique  pages_min  pages_max  \\\n",
       "0          1000            636           999         14       2690   \n",
       "\n",
       "     date_min    date_max  publisher_unique  \n",
       "0  1952-12-01  2020-03-31               340  "
      ]
     },
     "execution_count": 8,
     "metadata": {},
     "output_type": "execute_result"
    }
   ],
   "source": [
    "books_info = '''\n",
    "            SELECT\n",
    "                COUNT (DISTINCT book_id) AS books_unique,\n",
    "                COUNT (DISTINCT author_id) AS author_unique,\n",
    "                COUNT (DISTINCT title) AS title_unique,\n",
    "                MIN (num_pages) AS pages_min,\n",
    "                MAX (num_pages) AS pages_max,\n",
    "                MIN (publication_date) AS date_min,\n",
    "                MAX (publication_date) AS date_max,\n",
    "                COUNT (DISTINCT publisher_id) AS publisher_unique\n",
    "            FROM books;\n",
    "            '''\n",
    "sql_query(books_info)"
   ]
  },
  {
   "cell_type": "code",
   "execution_count": 9,
   "metadata": {},
   "outputs": [
    {
     "data": {
      "text/html": [
       "<div>\n",
       "<style scoped>\n",
       "    .dataframe tbody tr th:only-of-type {\n",
       "        vertical-align: middle;\n",
       "    }\n",
       "\n",
       "    .dataframe tbody tr th {\n",
       "        vertical-align: top;\n",
       "    }\n",
       "\n",
       "    .dataframe thead th {\n",
       "        text-align: right;\n",
       "    }\n",
       "</style>\n",
       "<table border=\"1\" class=\"dataframe\">\n",
       "  <thead>\n",
       "    <tr style=\"text-align: right;\">\n",
       "      <th></th>\n",
       "      <th>book_id</th>\n",
       "      <th>author_id</th>\n",
       "      <th>title</th>\n",
       "      <th>num_pages</th>\n",
       "      <th>publication_date</th>\n",
       "      <th>publisher_id</th>\n",
       "    </tr>\n",
       "  </thead>\n",
       "  <tbody>\n",
       "    <tr>\n",
       "      <th>0</th>\n",
       "      <td>426</td>\n",
       "      <td>39</td>\n",
       "      <td>Memoirs of a Geisha</td>\n",
       "      <td>434</td>\n",
       "      <td>2005-11-15</td>\n",
       "      <td>241</td>\n",
       "    </tr>\n",
       "    <tr>\n",
       "      <th>1</th>\n",
       "      <td>427</td>\n",
       "      <td>39</td>\n",
       "      <td>Memoirs of a Geisha</td>\n",
       "      <td>503</td>\n",
       "      <td>2005-11-22</td>\n",
       "      <td>311</td>\n",
       "    </tr>\n",
       "  </tbody>\n",
       "</table>\n",
       "</div>"
      ],
      "text/plain": [
       "   book_id  author_id                title  num_pages publication_date  \\\n",
       "0      426         39  Memoirs of a Geisha        434       2005-11-15   \n",
       "1      427         39  Memoirs of a Geisha        503       2005-11-22   \n",
       "\n",
       "   publisher_id  \n",
       "0           241  \n",
       "1           311  "
      ]
     },
     "execution_count": 9,
     "metadata": {},
     "output_type": "execute_result"
    }
   ],
   "source": [
    "duplicated_title = '''  SELECT *\n",
    "                              FROM books \n",
    "                              WHERE books.title = (SELECT \n",
    "                                                       title\n",
    "                                                   FROM books\n",
    "                                                   GROUP BY title\n",
    "                                                   HAVING COUNT(*)>1)\n",
    "                        '''\n",
    "sql_query(duplicated_title)"
   ]
  },
  {
   "cell_type": "code",
   "execution_count": 10,
   "metadata": {},
   "outputs": [
    {
     "data": {
      "text/html": [
       "<div>\n",
       "<style scoped>\n",
       "    .dataframe tbody tr th:only-of-type {\n",
       "        vertical-align: middle;\n",
       "    }\n",
       "\n",
       "    .dataframe tbody tr th {\n",
       "        vertical-align: top;\n",
       "    }\n",
       "\n",
       "    .dataframe thead th {\n",
       "        text-align: right;\n",
       "    }\n",
       "</style>\n",
       "<table border=\"1\" class=\"dataframe\">\n",
       "  <thead>\n",
       "    <tr style=\"text-align: right;\">\n",
       "      <th></th>\n",
       "      <th>book_id</th>\n",
       "      <th>author_id</th>\n",
       "      <th>title</th>\n",
       "      <th>num_pages</th>\n",
       "      <th>publication_date</th>\n",
       "      <th>publisher_id</th>\n",
       "    </tr>\n",
       "  </thead>\n",
       "  <tbody>\n",
       "  </tbody>\n",
       "</table>\n",
       "</div>"
      ],
      "text/plain": [
       "Empty DataFrame\n",
       "Columns: [book_id, author_id, title, num_pages, publication_date, publisher_id]\n",
       "Index: []"
      ]
     },
     "execution_count": 10,
     "metadata": {},
     "output_type": "execute_result"
    }
   ],
   "source": [
    "books_null = '''\n",
    "            SELECT *\n",
    "            FROM books\n",
    "            WHERE (author_id IS NULL) OR (num_pages IS NULL) OR (publication_date IS NULL) OR (publisher_id IS NULL);\n",
    "            '''\n",
    "sql_query(books_null)"
   ]
  },
  {
   "cell_type": "markdown",
   "metadata": {},
   "source": [
    "В таблице books представлены данные о книгах сервиса. Всего в датасете содержится 1000 книг, опубликованных в период с 1-12-1952 по 31-03-2020. Название одной книги повторяется, однако это не считается дубликатом, т.к. количество страниц, издательство и дата выпуска книг отличаются. Возможно, это разные версии книги, отличающиеся по переводу. Пропусков в таблице нет"
   ]
  },
  {
   "cell_type": "markdown",
   "metadata": {},
   "source": [
    "### Таблица authors"
   ]
  },
  {
   "cell_type": "code",
   "execution_count": 11,
   "metadata": {},
   "outputs": [
    {
     "data": {
      "text/html": [
       "<div>\n",
       "<style scoped>\n",
       "    .dataframe tbody tr th:only-of-type {\n",
       "        vertical-align: middle;\n",
       "    }\n",
       "\n",
       "    .dataframe tbody tr th {\n",
       "        vertical-align: top;\n",
       "    }\n",
       "\n",
       "    .dataframe thead th {\n",
       "        text-align: right;\n",
       "    }\n",
       "</style>\n",
       "<table border=\"1\" class=\"dataframe\">\n",
       "  <thead>\n",
       "    <tr style=\"text-align: right;\">\n",
       "      <th></th>\n",
       "      <th>author_id</th>\n",
       "      <th>author</th>\n",
       "    </tr>\n",
       "  </thead>\n",
       "  <tbody>\n",
       "    <tr>\n",
       "      <th>0</th>\n",
       "      <td>1</td>\n",
       "      <td>A.S. Byatt</td>\n",
       "    </tr>\n",
       "    <tr>\n",
       "      <th>1</th>\n",
       "      <td>2</td>\n",
       "      <td>Aesop/Laura Harris/Laura Gibbs</td>\n",
       "    </tr>\n",
       "    <tr>\n",
       "      <th>2</th>\n",
       "      <td>3</td>\n",
       "      <td>Agatha Christie</td>\n",
       "    </tr>\n",
       "    <tr>\n",
       "      <th>3</th>\n",
       "      <td>4</td>\n",
       "      <td>Alan Brennert</td>\n",
       "    </tr>\n",
       "    <tr>\n",
       "      <th>4</th>\n",
       "      <td>5</td>\n",
       "      <td>Alan Moore/David   Lloyd</td>\n",
       "    </tr>\n",
       "  </tbody>\n",
       "</table>\n",
       "</div>"
      ],
      "text/plain": [
       "   author_id                          author\n",
       "0          1                      A.S. Byatt\n",
       "1          2  Aesop/Laura Harris/Laura Gibbs\n",
       "2          3                 Agatha Christie\n",
       "3          4                   Alan Brennert\n",
       "4          5        Alan Moore/David   Lloyd"
      ]
     },
     "execution_count": 11,
     "metadata": {},
     "output_type": "execute_result"
    }
   ],
   "source": [
    "authors = '''\n",
    "            SELECT *\n",
    "            FROM authors\n",
    "            LIMIT 5;\n",
    "        '''\n",
    "sql_query(authors)"
   ]
  },
  {
   "cell_type": "code",
   "execution_count": 12,
   "metadata": {},
   "outputs": [
    {
     "data": {
      "text/html": [
       "<div>\n",
       "<style scoped>\n",
       "    .dataframe tbody tr th:only-of-type {\n",
       "        vertical-align: middle;\n",
       "    }\n",
       "\n",
       "    .dataframe tbody tr th {\n",
       "        vertical-align: top;\n",
       "    }\n",
       "\n",
       "    .dataframe thead th {\n",
       "        text-align: right;\n",
       "    }\n",
       "</style>\n",
       "<table border=\"1\" class=\"dataframe\">\n",
       "  <thead>\n",
       "    <tr style=\"text-align: right;\">\n",
       "      <th></th>\n",
       "      <th>count</th>\n",
       "    </tr>\n",
       "  </thead>\n",
       "  <tbody>\n",
       "    <tr>\n",
       "      <th>0</th>\n",
       "      <td>636</td>\n",
       "    </tr>\n",
       "  </tbody>\n",
       "</table>\n",
       "</div>"
      ],
      "text/plain": [
       "   count\n",
       "0    636"
      ]
     },
     "execution_count": 12,
     "metadata": {},
     "output_type": "execute_result"
    }
   ],
   "source": [
    "authors_count = '''\n",
    "            SELECT\n",
    "                COUNT (*) \n",
    "            FROM authors;\n",
    "            '''\n",
    "sql_query(authors_count)"
   ]
  },
  {
   "cell_type": "code",
   "execution_count": 13,
   "metadata": {},
   "outputs": [
    {
     "data": {
      "text/html": [
       "<div>\n",
       "<style scoped>\n",
       "    .dataframe tbody tr th:only-of-type {\n",
       "        vertical-align: middle;\n",
       "    }\n",
       "\n",
       "    .dataframe tbody tr th {\n",
       "        vertical-align: top;\n",
       "    }\n",
       "\n",
       "    .dataframe thead th {\n",
       "        text-align: right;\n",
       "    }\n",
       "</style>\n",
       "<table border=\"1\" class=\"dataframe\">\n",
       "  <thead>\n",
       "    <tr style=\"text-align: right;\">\n",
       "      <th></th>\n",
       "      <th>author_id_unique</th>\n",
       "      <th>author_unique</th>\n",
       "    </tr>\n",
       "  </thead>\n",
       "  <tbody>\n",
       "    <tr>\n",
       "      <th>0</th>\n",
       "      <td>636</td>\n",
       "      <td>636</td>\n",
       "    </tr>\n",
       "  </tbody>\n",
       "</table>\n",
       "</div>"
      ],
      "text/plain": [
       "   author_id_unique  author_unique\n",
       "0               636            636"
      ]
     },
     "execution_count": 13,
     "metadata": {},
     "output_type": "execute_result"
    }
   ],
   "source": [
    "authors_info = '''\n",
    "                SELECT\n",
    "                    COUNT (DISTINCT author_id) AS author_id_unique,\n",
    "                    COUNT (DISTINCT author) AS author_unique\n",
    "                FROM authors;\n",
    "                '''\n",
    "sql_query(authors_info)"
   ]
  },
  {
   "cell_type": "markdown",
   "metadata": {},
   "source": [
    "Таблица authors содержит в себе данные об авторах книг, а именно идентификатор и имя автора. Всего авторов - 636. Пропусков в таблице нет."
   ]
  },
  {
   "cell_type": "markdown",
   "metadata": {},
   "source": [
    "### Таблица ratings"
   ]
  },
  {
   "cell_type": "code",
   "execution_count": 14,
   "metadata": {},
   "outputs": [
    {
     "data": {
      "text/html": [
       "<div>\n",
       "<style scoped>\n",
       "    .dataframe tbody tr th:only-of-type {\n",
       "        vertical-align: middle;\n",
       "    }\n",
       "\n",
       "    .dataframe tbody tr th {\n",
       "        vertical-align: top;\n",
       "    }\n",
       "\n",
       "    .dataframe thead th {\n",
       "        text-align: right;\n",
       "    }\n",
       "</style>\n",
       "<table border=\"1\" class=\"dataframe\">\n",
       "  <thead>\n",
       "    <tr style=\"text-align: right;\">\n",
       "      <th></th>\n",
       "      <th>rating_id</th>\n",
       "      <th>book_id</th>\n",
       "      <th>username</th>\n",
       "      <th>rating</th>\n",
       "    </tr>\n",
       "  </thead>\n",
       "  <tbody>\n",
       "    <tr>\n",
       "      <th>0</th>\n",
       "      <td>1</td>\n",
       "      <td>1</td>\n",
       "      <td>ryanfranco</td>\n",
       "      <td>4</td>\n",
       "    </tr>\n",
       "    <tr>\n",
       "      <th>1</th>\n",
       "      <td>2</td>\n",
       "      <td>1</td>\n",
       "      <td>grantpatricia</td>\n",
       "      <td>2</td>\n",
       "    </tr>\n",
       "    <tr>\n",
       "      <th>2</th>\n",
       "      <td>3</td>\n",
       "      <td>1</td>\n",
       "      <td>brandtandrea</td>\n",
       "      <td>5</td>\n",
       "    </tr>\n",
       "    <tr>\n",
       "      <th>3</th>\n",
       "      <td>4</td>\n",
       "      <td>2</td>\n",
       "      <td>lorichen</td>\n",
       "      <td>3</td>\n",
       "    </tr>\n",
       "    <tr>\n",
       "      <th>4</th>\n",
       "      <td>5</td>\n",
       "      <td>2</td>\n",
       "      <td>mariokeller</td>\n",
       "      <td>2</td>\n",
       "    </tr>\n",
       "  </tbody>\n",
       "</table>\n",
       "</div>"
      ],
      "text/plain": [
       "   rating_id  book_id       username  rating\n",
       "0          1        1     ryanfranco       4\n",
       "1          2        1  grantpatricia       2\n",
       "2          3        1   brandtandrea       5\n",
       "3          4        2       lorichen       3\n",
       "4          5        2    mariokeller       2"
      ]
     },
     "execution_count": 14,
     "metadata": {},
     "output_type": "execute_result"
    }
   ],
   "source": [
    "ratings = '''\n",
    "            SELECT *\n",
    "            FROM ratings\n",
    "            LIMIT 5;\n",
    "        '''\n",
    "sql_query(ratings)"
   ]
  },
  {
   "cell_type": "code",
   "execution_count": 15,
   "metadata": {},
   "outputs": [
    {
     "data": {
      "text/html": [
       "<div>\n",
       "<style scoped>\n",
       "    .dataframe tbody tr th:only-of-type {\n",
       "        vertical-align: middle;\n",
       "    }\n",
       "\n",
       "    .dataframe tbody tr th {\n",
       "        vertical-align: top;\n",
       "    }\n",
       "\n",
       "    .dataframe thead th {\n",
       "        text-align: right;\n",
       "    }\n",
       "</style>\n",
       "<table border=\"1\" class=\"dataframe\">\n",
       "  <thead>\n",
       "    <tr style=\"text-align: right;\">\n",
       "      <th></th>\n",
       "      <th>count</th>\n",
       "    </tr>\n",
       "  </thead>\n",
       "  <tbody>\n",
       "    <tr>\n",
       "      <th>0</th>\n",
       "      <td>6456</td>\n",
       "    </tr>\n",
       "  </tbody>\n",
       "</table>\n",
       "</div>"
      ],
      "text/plain": [
       "   count\n",
       "0   6456"
      ]
     },
     "execution_count": 15,
     "metadata": {},
     "output_type": "execute_result"
    }
   ],
   "source": [
    "ratings_count = '''\n",
    "            SELECT\n",
    "                COUNT (*) \n",
    "            FROM ratings;\n",
    "            '''\n",
    "sql_query(ratings_count)"
   ]
  },
  {
   "cell_type": "code",
   "execution_count": 16,
   "metadata": {},
   "outputs": [
    {
     "data": {
      "text/html": [
       "<div>\n",
       "<style scoped>\n",
       "    .dataframe tbody tr th:only-of-type {\n",
       "        vertical-align: middle;\n",
       "    }\n",
       "\n",
       "    .dataframe tbody tr th {\n",
       "        vertical-align: top;\n",
       "    }\n",
       "\n",
       "    .dataframe thead th {\n",
       "        text-align: right;\n",
       "    }\n",
       "</style>\n",
       "<table border=\"1\" class=\"dataframe\">\n",
       "  <thead>\n",
       "    <tr style=\"text-align: right;\">\n",
       "      <th></th>\n",
       "      <th>rating_unique</th>\n",
       "      <th>book_unique</th>\n",
       "      <th>user_unique</th>\n",
       "      <th>rating_min</th>\n",
       "      <th>rating_max</th>\n",
       "    </tr>\n",
       "  </thead>\n",
       "  <tbody>\n",
       "    <tr>\n",
       "      <th>0</th>\n",
       "      <td>6456</td>\n",
       "      <td>1000</td>\n",
       "      <td>160</td>\n",
       "      <td>1</td>\n",
       "      <td>5</td>\n",
       "    </tr>\n",
       "  </tbody>\n",
       "</table>\n",
       "</div>"
      ],
      "text/plain": [
       "   rating_unique  book_unique  user_unique  rating_min  rating_max\n",
       "0           6456         1000          160           1           5"
      ]
     },
     "execution_count": 16,
     "metadata": {},
     "output_type": "execute_result"
    }
   ],
   "source": [
    "ratings_info = '''\n",
    "                 SELECT \n",
    "                       COUNT(DISTINCT rating_id) AS rating_unique,\n",
    "                       COUNT(DISTINCT book_id) AS book_unique,\n",
    "                       COUNT(DISTINCT username) AS user_unique,\n",
    "                       MIN(rating) AS rating_min,\n",
    "                       MAX(rating) AS rating_max\n",
    "                 FROM ratings;\n",
    "              '''\n",
    "sql_query(ratings_info)"
   ]
  },
  {
   "cell_type": "code",
   "execution_count": 17,
   "metadata": {},
   "outputs": [
    {
     "data": {
      "text/html": [
       "<div>\n",
       "<style scoped>\n",
       "    .dataframe tbody tr th:only-of-type {\n",
       "        vertical-align: middle;\n",
       "    }\n",
       "\n",
       "    .dataframe tbody tr th {\n",
       "        vertical-align: top;\n",
       "    }\n",
       "\n",
       "    .dataframe thead th {\n",
       "        text-align: right;\n",
       "    }\n",
       "</style>\n",
       "<table border=\"1\" class=\"dataframe\">\n",
       "  <thead>\n",
       "    <tr style=\"text-align: right;\">\n",
       "      <th></th>\n",
       "      <th>rating_id</th>\n",
       "      <th>book_id</th>\n",
       "      <th>username</th>\n",
       "      <th>rating</th>\n",
       "    </tr>\n",
       "  </thead>\n",
       "  <tbody>\n",
       "  </tbody>\n",
       "</table>\n",
       "</div>"
      ],
      "text/plain": [
       "Empty DataFrame\n",
       "Columns: [rating_id, book_id, username, rating]\n",
       "Index: []"
      ]
     },
     "execution_count": 17,
     "metadata": {},
     "output_type": "execute_result"
    }
   ],
   "source": [
    "ratings_null = '''\n",
    "                SELECT *\n",
    "                FROM ratings\n",
    "                WHERE (book_id IS NULL) OR (username IS NULL) OR (rating IS NULL);\n",
    "                '''\n",
    "sql_query(ratings_null)"
   ]
  },
  {
   "cell_type": "markdown",
   "metadata": {},
   "source": [
    "Таблица ratings содержит в себе данные о рейтингах книг. Всего оценило книги 160 пользователей. Значение рейтинга варьируется от 1 до 5. Пропусков в таблице нет."
   ]
  },
  {
   "cell_type": "markdown",
   "metadata": {},
   "source": [
    "### Таблица reviews"
   ]
  },
  {
   "cell_type": "code",
   "execution_count": 18,
   "metadata": {},
   "outputs": [
    {
     "data": {
      "text/html": [
       "<div>\n",
       "<style scoped>\n",
       "    .dataframe tbody tr th:only-of-type {\n",
       "        vertical-align: middle;\n",
       "    }\n",
       "\n",
       "    .dataframe tbody tr th {\n",
       "        vertical-align: top;\n",
       "    }\n",
       "\n",
       "    .dataframe thead th {\n",
       "        text-align: right;\n",
       "    }\n",
       "</style>\n",
       "<table border=\"1\" class=\"dataframe\">\n",
       "  <thead>\n",
       "    <tr style=\"text-align: right;\">\n",
       "      <th></th>\n",
       "      <th>review_id</th>\n",
       "      <th>book_id</th>\n",
       "      <th>username</th>\n",
       "      <th>text</th>\n",
       "    </tr>\n",
       "  </thead>\n",
       "  <tbody>\n",
       "    <tr>\n",
       "      <th>0</th>\n",
       "      <td>1</td>\n",
       "      <td>1</td>\n",
       "      <td>brandtandrea</td>\n",
       "      <td>Mention society tell send professor analysis. ...</td>\n",
       "    </tr>\n",
       "    <tr>\n",
       "      <th>1</th>\n",
       "      <td>2</td>\n",
       "      <td>1</td>\n",
       "      <td>ryanfranco</td>\n",
       "      <td>Foot glass pretty audience hit themselves. Amo...</td>\n",
       "    </tr>\n",
       "    <tr>\n",
       "      <th>2</th>\n",
       "      <td>3</td>\n",
       "      <td>2</td>\n",
       "      <td>lorichen</td>\n",
       "      <td>Listen treat keep worry. Miss husband tax but ...</td>\n",
       "    </tr>\n",
       "    <tr>\n",
       "      <th>3</th>\n",
       "      <td>4</td>\n",
       "      <td>3</td>\n",
       "      <td>johnsonamanda</td>\n",
       "      <td>Finally month interesting blue could nature cu...</td>\n",
       "    </tr>\n",
       "    <tr>\n",
       "      <th>4</th>\n",
       "      <td>5</td>\n",
       "      <td>3</td>\n",
       "      <td>scotttamara</td>\n",
       "      <td>Nation purpose heavy give wait song will. List...</td>\n",
       "    </tr>\n",
       "  </tbody>\n",
       "</table>\n",
       "</div>"
      ],
      "text/plain": [
       "   review_id  book_id       username  \\\n",
       "0          1        1   brandtandrea   \n",
       "1          2        1     ryanfranco   \n",
       "2          3        2       lorichen   \n",
       "3          4        3  johnsonamanda   \n",
       "4          5        3    scotttamara   \n",
       "\n",
       "                                                text  \n",
       "0  Mention society tell send professor analysis. ...  \n",
       "1  Foot glass pretty audience hit themselves. Amo...  \n",
       "2  Listen treat keep worry. Miss husband tax but ...  \n",
       "3  Finally month interesting blue could nature cu...  \n",
       "4  Nation purpose heavy give wait song will. List...  "
      ]
     },
     "execution_count": 18,
     "metadata": {},
     "output_type": "execute_result"
    }
   ],
   "source": [
    "reviews = '''\n",
    "            SELECT *\n",
    "            FROM reviews\n",
    "            LIMIT 5;\n",
    "        '''\n",
    "sql_query(reviews)"
   ]
  },
  {
   "cell_type": "code",
   "execution_count": 19,
   "metadata": {},
   "outputs": [
    {
     "data": {
      "text/html": [
       "<div>\n",
       "<style scoped>\n",
       "    .dataframe tbody tr th:only-of-type {\n",
       "        vertical-align: middle;\n",
       "    }\n",
       "\n",
       "    .dataframe tbody tr th {\n",
       "        vertical-align: top;\n",
       "    }\n",
       "\n",
       "    .dataframe thead th {\n",
       "        text-align: right;\n",
       "    }\n",
       "</style>\n",
       "<table border=\"1\" class=\"dataframe\">\n",
       "  <thead>\n",
       "    <tr style=\"text-align: right;\">\n",
       "      <th></th>\n",
       "      <th>count</th>\n",
       "    </tr>\n",
       "  </thead>\n",
       "  <tbody>\n",
       "    <tr>\n",
       "      <th>0</th>\n",
       "      <td>2793</td>\n",
       "    </tr>\n",
       "  </tbody>\n",
       "</table>\n",
       "</div>"
      ],
      "text/plain": [
       "   count\n",
       "0   2793"
      ]
     },
     "execution_count": 19,
     "metadata": {},
     "output_type": "execute_result"
    }
   ],
   "source": [
    "reviews_count = '''\n",
    "                SELECT\n",
    "                     COUNT (*) \n",
    "                FROM reviews;\n",
    "            '''\n",
    "sql_query(reviews_count)"
   ]
  },
  {
   "cell_type": "code",
   "execution_count": 20,
   "metadata": {},
   "outputs": [
    {
     "data": {
      "text/html": [
       "<div>\n",
       "<style scoped>\n",
       "    .dataframe tbody tr th:only-of-type {\n",
       "        vertical-align: middle;\n",
       "    }\n",
       "\n",
       "    .dataframe tbody tr th {\n",
       "        vertical-align: top;\n",
       "    }\n",
       "\n",
       "    .dataframe thead th {\n",
       "        text-align: right;\n",
       "    }\n",
       "</style>\n",
       "<table border=\"1\" class=\"dataframe\">\n",
       "  <thead>\n",
       "    <tr style=\"text-align: right;\">\n",
       "      <th></th>\n",
       "      <th>reviews_unique</th>\n",
       "      <th>book_unique</th>\n",
       "      <th>user_unique</th>\n",
       "      <th>text_unique</th>\n",
       "    </tr>\n",
       "  </thead>\n",
       "  <tbody>\n",
       "    <tr>\n",
       "      <th>0</th>\n",
       "      <td>2793</td>\n",
       "      <td>994</td>\n",
       "      <td>160</td>\n",
       "      <td>2793</td>\n",
       "    </tr>\n",
       "  </tbody>\n",
       "</table>\n",
       "</div>"
      ],
      "text/plain": [
       "   reviews_unique  book_unique  user_unique  text_unique\n",
       "0            2793          994          160         2793"
      ]
     },
     "execution_count": 20,
     "metadata": {},
     "output_type": "execute_result"
    }
   ],
   "source": [
    "reviews_info = '''\n",
    "                 SELECT \n",
    "                       COUNT(DISTINCT review_id) AS reviews_unique,\n",
    "                       COUNT(DISTINCT book_id) AS book_unique,\n",
    "                       COUNT(DISTINCT username) AS user_unique,\n",
    "                       COUNT(DISTINCT text) AS text_unique\n",
    "                 FROM reviews;\n",
    "              '''\n",
    "sql_query(reviews_info)"
   ]
  },
  {
   "cell_type": "code",
   "execution_count": 21,
   "metadata": {},
   "outputs": [
    {
     "data": {
      "text/html": [
       "<div>\n",
       "<style scoped>\n",
       "    .dataframe tbody tr th:only-of-type {\n",
       "        vertical-align: middle;\n",
       "    }\n",
       "\n",
       "    .dataframe tbody tr th {\n",
       "        vertical-align: top;\n",
       "    }\n",
       "\n",
       "    .dataframe thead th {\n",
       "        text-align: right;\n",
       "    }\n",
       "</style>\n",
       "<table border=\"1\" class=\"dataframe\">\n",
       "  <thead>\n",
       "    <tr style=\"text-align: right;\">\n",
       "      <th></th>\n",
       "      <th>review_id</th>\n",
       "      <th>book_id</th>\n",
       "      <th>username</th>\n",
       "      <th>text</th>\n",
       "    </tr>\n",
       "  </thead>\n",
       "  <tbody>\n",
       "  </tbody>\n",
       "</table>\n",
       "</div>"
      ],
      "text/plain": [
       "Empty DataFrame\n",
       "Columns: [review_id, book_id, username, text]\n",
       "Index: []"
      ]
     },
     "execution_count": 21,
     "metadata": {},
     "output_type": "execute_result"
    }
   ],
   "source": [
    "reviews_null = '''\n",
    "                SELECT *\n",
    "                FROM reviews\n",
    "                WHERE (book_id IS NULL) OR (username IS NULL);\n",
    "                '''\n",
    "sql_query(reviews_null)"
   ]
  },
  {
   "cell_type": "markdown",
   "metadata": {},
   "source": [
    "Таблица reviews содержит в себе данные обзоров на книги. Обзоры на книги оставили 160 пользователей, написали 2793 текстовых отзывов. Пропусков в таблице нет."
   ]
  },
  {
   "cell_type": "markdown",
   "metadata": {},
   "source": [
    " "
   ]
  },
  {
   "cell_type": "markdown",
   "metadata": {},
   "source": [
    "### Таблица publishers"
   ]
  },
  {
   "cell_type": "code",
   "execution_count": 22,
   "metadata": {},
   "outputs": [
    {
     "data": {
      "text/html": [
       "<div>\n",
       "<style scoped>\n",
       "    .dataframe tbody tr th:only-of-type {\n",
       "        vertical-align: middle;\n",
       "    }\n",
       "\n",
       "    .dataframe tbody tr th {\n",
       "        vertical-align: top;\n",
       "    }\n",
       "\n",
       "    .dataframe thead th {\n",
       "        text-align: right;\n",
       "    }\n",
       "</style>\n",
       "<table border=\"1\" class=\"dataframe\">\n",
       "  <thead>\n",
       "    <tr style=\"text-align: right;\">\n",
       "      <th></th>\n",
       "      <th>publisher_id</th>\n",
       "      <th>publisher</th>\n",
       "    </tr>\n",
       "  </thead>\n",
       "  <tbody>\n",
       "    <tr>\n",
       "      <th>0</th>\n",
       "      <td>1</td>\n",
       "      <td>Ace</td>\n",
       "    </tr>\n",
       "    <tr>\n",
       "      <th>1</th>\n",
       "      <td>2</td>\n",
       "      <td>Ace Book</td>\n",
       "    </tr>\n",
       "    <tr>\n",
       "      <th>2</th>\n",
       "      <td>3</td>\n",
       "      <td>Ace Books</td>\n",
       "    </tr>\n",
       "    <tr>\n",
       "      <th>3</th>\n",
       "      <td>4</td>\n",
       "      <td>Ace Hardcover</td>\n",
       "    </tr>\n",
       "    <tr>\n",
       "      <th>4</th>\n",
       "      <td>5</td>\n",
       "      <td>Addison Wesley Publishing Company</td>\n",
       "    </tr>\n",
       "  </tbody>\n",
       "</table>\n",
       "</div>"
      ],
      "text/plain": [
       "   publisher_id                          publisher\n",
       "0             1                                Ace\n",
       "1             2                           Ace Book\n",
       "2             3                          Ace Books\n",
       "3             4                      Ace Hardcover\n",
       "4             5  Addison Wesley Publishing Company"
      ]
     },
     "execution_count": 22,
     "metadata": {},
     "output_type": "execute_result"
    }
   ],
   "source": [
    "publishers = '''\n",
    "               SELECT *\n",
    "               FROM publishers\n",
    "               LIMIT 5;\n",
    "             '''\n",
    "sql_query(publishers)"
   ]
  },
  {
   "cell_type": "code",
   "execution_count": 23,
   "metadata": {},
   "outputs": [
    {
     "data": {
      "text/html": [
       "<div>\n",
       "<style scoped>\n",
       "    .dataframe tbody tr th:only-of-type {\n",
       "        vertical-align: middle;\n",
       "    }\n",
       "\n",
       "    .dataframe tbody tr th {\n",
       "        vertical-align: top;\n",
       "    }\n",
       "\n",
       "    .dataframe thead th {\n",
       "        text-align: right;\n",
       "    }\n",
       "</style>\n",
       "<table border=\"1\" class=\"dataframe\">\n",
       "  <thead>\n",
       "    <tr style=\"text-align: right;\">\n",
       "      <th></th>\n",
       "      <th>count</th>\n",
       "    </tr>\n",
       "  </thead>\n",
       "  <tbody>\n",
       "    <tr>\n",
       "      <th>0</th>\n",
       "      <td>340</td>\n",
       "    </tr>\n",
       "  </tbody>\n",
       "</table>\n",
       "</div>"
      ],
      "text/plain": [
       "   count\n",
       "0    340"
      ]
     },
     "execution_count": 23,
     "metadata": {},
     "output_type": "execute_result"
    }
   ],
   "source": [
    "publishers_len = '''\n",
    "                SELECT\n",
    "                     COUNT (*) \n",
    "                FROM publishers;\n",
    "              '''\n",
    "sql_query(publishers_len)"
   ]
  },
  {
   "cell_type": "code",
   "execution_count": 24,
   "metadata": {},
   "outputs": [
    {
     "data": {
      "text/html": [
       "<div>\n",
       "<style scoped>\n",
       "    .dataframe tbody tr th:only-of-type {\n",
       "        vertical-align: middle;\n",
       "    }\n",
       "\n",
       "    .dataframe tbody tr th {\n",
       "        vertical-align: top;\n",
       "    }\n",
       "\n",
       "    .dataframe thead th {\n",
       "        text-align: right;\n",
       "    }\n",
       "</style>\n",
       "<table border=\"1\" class=\"dataframe\">\n",
       "  <thead>\n",
       "    <tr style=\"text-align: right;\">\n",
       "      <th></th>\n",
       "      <th>publ_id_unique</th>\n",
       "      <th>publisher_unique</th>\n",
       "    </tr>\n",
       "  </thead>\n",
       "  <tbody>\n",
       "    <tr>\n",
       "      <th>0</th>\n",
       "      <td>340</td>\n",
       "      <td>340</td>\n",
       "    </tr>\n",
       "  </tbody>\n",
       "</table>\n",
       "</div>"
      ],
      "text/plain": [
       "   publ_id_unique  publisher_unique\n",
       "0             340               340"
      ]
     },
     "execution_count": 24,
     "metadata": {},
     "output_type": "execute_result"
    }
   ],
   "source": [
    "publishers_info = '''\n",
    "                 SELECT \n",
    "                       COUNT(DISTINCT publisher_id) AS publ_id_unique,\n",
    "                       COUNT(DISTINCT publisher) AS publisher_unique\n",
    "                 FROM publishers;\n",
    "              '''\n",
    "sql_query(publishers_info)"
   ]
  },
  {
   "cell_type": "markdown",
   "metadata": {},
   "source": [
    "Таблица publishers содержит в себе данные об издательствах. Всего издательств - 340. Пропусков в таблице нет."
   ]
  },
  {
   "cell_type": "markdown",
   "metadata": {},
   "source": [
    "Общая информация о датасете:\n",
    "- 1000 книг\n",
    "- 636 авторов\n",
    "- 160 пользователей оставили текстовый обзор и поставили оценку от 1 до 5\n",
    "- 340 издательств выпустили книги датасета."
   ]
  },
  {
   "cell_type": "markdown",
   "metadata": {},
   "source": [
    " "
   ]
  },
  {
   "cell_type": "markdown",
   "metadata": {},
   "source": [
    "## Изучение данных"
   ]
  },
  {
   "cell_type": "markdown",
   "metadata": {},
   "source": [
    "### Количество книг, вышедших после 1 января 2000"
   ]
  },
  {
   "cell_type": "code",
   "execution_count": 25,
   "metadata": {},
   "outputs": [
    {
     "data": {
      "text/html": [
       "<div>\n",
       "<style scoped>\n",
       "    .dataframe tbody tr th:only-of-type {\n",
       "        vertical-align: middle;\n",
       "    }\n",
       "\n",
       "    .dataframe tbody tr th {\n",
       "        vertical-align: top;\n",
       "    }\n",
       "\n",
       "    .dataframe thead th {\n",
       "        text-align: right;\n",
       "    }\n",
       "</style>\n",
       "<table border=\"1\" class=\"dataframe\">\n",
       "  <thead>\n",
       "    <tr style=\"text-align: right;\">\n",
       "      <th></th>\n",
       "      <th>books_after_2000_count</th>\n",
       "    </tr>\n",
       "  </thead>\n",
       "  <tbody>\n",
       "    <tr>\n",
       "      <th>0</th>\n",
       "      <td>821</td>\n",
       "    </tr>\n",
       "  </tbody>\n",
       "</table>\n",
       "</div>"
      ],
      "text/plain": [
       "   books_after_2000_count\n",
       "0                     821"
      ]
     },
     "execution_count": 25,
     "metadata": {},
     "output_type": "execute_result"
    }
   ],
   "source": [
    "books_after_2000 = '''\n",
    "                     SELECT \n",
    "                           COUNT(book_id) AS books_after_2000_count\n",
    "                     FROM books\n",
    "                     WHERE publication_date >= '2000-01-01';\n",
    "                  '''\n",
    "sql_query(books_after_2000)"
   ]
  },
  {
   "cell_type": "markdown",
   "metadata": {},
   "source": [
    "После 1 января 2020 года было выпущено 821 книга"
   ]
  },
  {
   "cell_type": "markdown",
   "metadata": {},
   "source": [
    " "
   ]
  },
  {
   "cell_type": "markdown",
   "metadata": {},
   "source": [
    "### Количество обзоров и средняя оценка книг"
   ]
  },
  {
   "cell_type": "code",
   "execution_count": 33,
   "metadata": {},
   "outputs": [
    {
     "data": {
      "text/html": [
       "<div>\n",
       "<style scoped>\n",
       "    .dataframe tbody tr th:only-of-type {\n",
       "        vertical-align: middle;\n",
       "    }\n",
       "\n",
       "    .dataframe tbody tr th {\n",
       "        vertical-align: top;\n",
       "    }\n",
       "\n",
       "    .dataframe thead th {\n",
       "        text-align: right;\n",
       "    }\n",
       "</style>\n",
       "<table border=\"1\" class=\"dataframe\">\n",
       "  <thead>\n",
       "    <tr style=\"text-align: right;\">\n",
       "      <th></th>\n",
       "      <th>book_id</th>\n",
       "      <th>title</th>\n",
       "      <th>review_count</th>\n",
       "      <th>avg_rating</th>\n",
       "    </tr>\n",
       "  </thead>\n",
       "  <tbody>\n",
       "    <tr>\n",
       "      <th>0</th>\n",
       "      <td>948</td>\n",
       "      <td>Twilight (Twilight  #1)</td>\n",
       "      <td>7</td>\n",
       "      <td>3.662500</td>\n",
       "    </tr>\n",
       "    <tr>\n",
       "      <th>1</th>\n",
       "      <td>854</td>\n",
       "      <td>The Road</td>\n",
       "      <td>6</td>\n",
       "      <td>3.772727</td>\n",
       "    </tr>\n",
       "    <tr>\n",
       "      <th>2</th>\n",
       "      <td>207</td>\n",
       "      <td>Eat  Pray  Love</td>\n",
       "      <td>6</td>\n",
       "      <td>3.395833</td>\n",
       "    </tr>\n",
       "    <tr>\n",
       "      <th>3</th>\n",
       "      <td>656</td>\n",
       "      <td>The Book Thief</td>\n",
       "      <td>6</td>\n",
       "      <td>4.264151</td>\n",
       "    </tr>\n",
       "    <tr>\n",
       "      <th>4</th>\n",
       "      <td>733</td>\n",
       "      <td>The Giver (The Giver  #1)</td>\n",
       "      <td>6</td>\n",
       "      <td>3.750000</td>\n",
       "    </tr>\n",
       "    <tr>\n",
       "      <th>5</th>\n",
       "      <td>779</td>\n",
       "      <td>The Lightning Thief (Percy Jackson and the Oly...</td>\n",
       "      <td>6</td>\n",
       "      <td>4.080645</td>\n",
       "    </tr>\n",
       "    <tr>\n",
       "      <th>6</th>\n",
       "      <td>302</td>\n",
       "      <td>Harry Potter and the Prisoner of Azkaban (Harr...</td>\n",
       "      <td>6</td>\n",
       "      <td>4.414634</td>\n",
       "    </tr>\n",
       "    <tr>\n",
       "      <th>7</th>\n",
       "      <td>299</td>\n",
       "      <td>Harry Potter and the Chamber of Secrets (Harry...</td>\n",
       "      <td>6</td>\n",
       "      <td>4.287500</td>\n",
       "    </tr>\n",
       "    <tr>\n",
       "      <th>8</th>\n",
       "      <td>497</td>\n",
       "      <td>Outlander (Outlander  #1)</td>\n",
       "      <td>6</td>\n",
       "      <td>4.125000</td>\n",
       "    </tr>\n",
       "    <tr>\n",
       "      <th>9</th>\n",
       "      <td>627</td>\n",
       "      <td>The Alchemist</td>\n",
       "      <td>6</td>\n",
       "      <td>3.789474</td>\n",
       "    </tr>\n",
       "    <tr>\n",
       "      <th>10</th>\n",
       "      <td>695</td>\n",
       "      <td>The Curious Incident of the Dog in the Night-Time</td>\n",
       "      <td>6</td>\n",
       "      <td>4.081081</td>\n",
       "    </tr>\n",
       "    <tr>\n",
       "      <th>11</th>\n",
       "      <td>696</td>\n",
       "      <td>The Da Vinci Code (Robert Langdon  #2)</td>\n",
       "      <td>6</td>\n",
       "      <td>3.830508</td>\n",
       "    </tr>\n",
       "    <tr>\n",
       "      <th>12</th>\n",
       "      <td>734</td>\n",
       "      <td>The Glass Castle</td>\n",
       "      <td>6</td>\n",
       "      <td>4.206897</td>\n",
       "    </tr>\n",
       "    <tr>\n",
       "      <th>13</th>\n",
       "      <td>750</td>\n",
       "      <td>The Hobbit  or There and Back Again</td>\n",
       "      <td>6</td>\n",
       "      <td>4.125000</td>\n",
       "    </tr>\n",
       "    <tr>\n",
       "      <th>14</th>\n",
       "      <td>673</td>\n",
       "      <td>The Catcher in the Rye</td>\n",
       "      <td>6</td>\n",
       "      <td>3.825581</td>\n",
       "    </tr>\n",
       "  </tbody>\n",
       "</table>\n",
       "</div>"
      ],
      "text/plain": [
       "    book_id                                              title  review_count  \\\n",
       "0       948                            Twilight (Twilight  #1)             7   \n",
       "1       854                                           The Road             6   \n",
       "2       207                                    Eat  Pray  Love             6   \n",
       "3       656                                     The Book Thief             6   \n",
       "4       733                          The Giver (The Giver  #1)             6   \n",
       "5       779  The Lightning Thief (Percy Jackson and the Oly...             6   \n",
       "6       302  Harry Potter and the Prisoner of Azkaban (Harr...             6   \n",
       "7       299  Harry Potter and the Chamber of Secrets (Harry...             6   \n",
       "8       497                          Outlander (Outlander  #1)             6   \n",
       "9       627                                      The Alchemist             6   \n",
       "10      695  The Curious Incident of the Dog in the Night-Time             6   \n",
       "11      696             The Da Vinci Code (Robert Langdon  #2)             6   \n",
       "12      734                                   The Glass Castle             6   \n",
       "13      750                The Hobbit  or There and Back Again             6   \n",
       "14      673                             The Catcher in the Rye             6   \n",
       "\n",
       "    avg_rating  \n",
       "0     3.662500  \n",
       "1     3.772727  \n",
       "2     3.395833  \n",
       "3     4.264151  \n",
       "4     3.750000  \n",
       "5     4.080645  \n",
       "6     4.414634  \n",
       "7     4.287500  \n",
       "8     4.125000  \n",
       "9     3.789474  \n",
       "10    4.081081  \n",
       "11    3.830508  \n",
       "12    4.206897  \n",
       "13    4.125000  \n",
       "14    3.825581  "
      ]
     },
     "execution_count": 33,
     "metadata": {},
     "output_type": "execute_result"
    }
   ],
   "source": [
    "review_rating = '''\n",
    "                   SELECT \n",
    "                         b.book_id,\n",
    "                         b.title,\n",
    "                         COUNT( DISTINCT rev.review_id) AS review_count,\n",
    "                         AVG (rat.rating) AS avg_rating\n",
    "                   FROM books AS b\n",
    "                   LEFT JOIN reviews AS rev ON b.book_id=rev.book_id\n",
    "                   LEFT JOIN ratings AS rat On b.book_id=rat.book_id\n",
    "                   GROUP BY b.book_id\n",
    "                   ORDER BY review_count DESC\n",
    "                   LIMIT 15;\n",
    "                '''\n",
    "sql_query(review_rating)"
   ]
  },
  {
   "cell_type": "code",
   "execution_count": 27,
   "metadata": {},
   "outputs": [
    {
     "data": {
      "text/html": [
       "<div>\n",
       "<style scoped>\n",
       "    .dataframe tbody tr th:only-of-type {\n",
       "        vertical-align: middle;\n",
       "    }\n",
       "\n",
       "    .dataframe tbody tr th {\n",
       "        vertical-align: top;\n",
       "    }\n",
       "\n",
       "    .dataframe thead th {\n",
       "        text-align: right;\n",
       "    }\n",
       "</style>\n",
       "<table border=\"1\" class=\"dataframe\">\n",
       "  <thead>\n",
       "    <tr style=\"text-align: right;\">\n",
       "      <th></th>\n",
       "      <th>book_id</th>\n",
       "      <th>title</th>\n",
       "      <th>review_count</th>\n",
       "      <th>avg_rating</th>\n",
       "    </tr>\n",
       "  </thead>\n",
       "  <tbody>\n",
       "    <tr>\n",
       "      <th>0</th>\n",
       "      <td>182</td>\n",
       "      <td>Dead Souls</td>\n",
       "      <td>2</td>\n",
       "      <td>5.0</td>\n",
       "    </tr>\n",
       "    <tr>\n",
       "      <th>1</th>\n",
       "      <td>275</td>\n",
       "      <td>Geek Love</td>\n",
       "      <td>2</td>\n",
       "      <td>5.0</td>\n",
       "    </tr>\n",
       "    <tr>\n",
       "      <th>2</th>\n",
       "      <td>169</td>\n",
       "      <td>Crucial Conversations: Tools for Talking When ...</td>\n",
       "      <td>2</td>\n",
       "      <td>5.0</td>\n",
       "    </tr>\n",
       "    <tr>\n",
       "      <th>3</th>\n",
       "      <td>86</td>\n",
       "      <td>Arrows of the Queen (Heralds of Valdemar  #1)</td>\n",
       "      <td>2</td>\n",
       "      <td>5.0</td>\n",
       "    </tr>\n",
       "    <tr>\n",
       "      <th>4</th>\n",
       "      <td>229</td>\n",
       "      <td>Evil Under the Sun (Hercule Poirot  #24)</td>\n",
       "      <td>2</td>\n",
       "      <td>5.0</td>\n",
       "    </tr>\n",
       "    <tr>\n",
       "      <th>5</th>\n",
       "      <td>224</td>\n",
       "      <td>Evening Class</td>\n",
       "      <td>2</td>\n",
       "      <td>5.0</td>\n",
       "    </tr>\n",
       "    <tr>\n",
       "      <th>6</th>\n",
       "      <td>57</td>\n",
       "      <td>Act of Treason (Mitch Rapp  #9)</td>\n",
       "      <td>2</td>\n",
       "      <td>5.0</td>\n",
       "    </tr>\n",
       "    <tr>\n",
       "      <th>7</th>\n",
       "      <td>20</td>\n",
       "      <td>A Fistful of Charms (The Hollows  #4)</td>\n",
       "      <td>2</td>\n",
       "      <td>5.0</td>\n",
       "    </tr>\n",
       "    <tr>\n",
       "      <th>8</th>\n",
       "      <td>55</td>\n",
       "      <td>A Woman of Substance (Emma Harte Saga #1)</td>\n",
       "      <td>2</td>\n",
       "      <td>5.0</td>\n",
       "    </tr>\n",
       "    <tr>\n",
       "      <th>9</th>\n",
       "      <td>76</td>\n",
       "      <td>Angels Fall</td>\n",
       "      <td>2</td>\n",
       "      <td>5.0</td>\n",
       "    </tr>\n",
       "    <tr>\n",
       "      <th>10</th>\n",
       "      <td>62</td>\n",
       "      <td>Alas  Babylon</td>\n",
       "      <td>2</td>\n",
       "      <td>5.0</td>\n",
       "    </tr>\n",
       "    <tr>\n",
       "      <th>11</th>\n",
       "      <td>213</td>\n",
       "      <td>Emily of New Moon (Emily  #1)</td>\n",
       "      <td>2</td>\n",
       "      <td>5.0</td>\n",
       "    </tr>\n",
       "    <tr>\n",
       "      <th>12</th>\n",
       "      <td>136</td>\n",
       "      <td>Captivating: Unveiling the Mystery of a Woman'...</td>\n",
       "      <td>2</td>\n",
       "      <td>5.0</td>\n",
       "    </tr>\n",
       "    <tr>\n",
       "      <th>13</th>\n",
       "      <td>17</td>\n",
       "      <td>A Dirty Job (Grim Reaper  #1)</td>\n",
       "      <td>4</td>\n",
       "      <td>5.0</td>\n",
       "    </tr>\n",
       "    <tr>\n",
       "      <th>14</th>\n",
       "      <td>297</td>\n",
       "      <td>Hard Times</td>\n",
       "      <td>2</td>\n",
       "      <td>5.0</td>\n",
       "    </tr>\n",
       "  </tbody>\n",
       "</table>\n",
       "</div>"
      ],
      "text/plain": [
       "    book_id                                              title  review_count  \\\n",
       "0       182                                         Dead Souls             2   \n",
       "1       275                                          Geek Love             2   \n",
       "2       169  Crucial Conversations: Tools for Talking When ...             2   \n",
       "3        86      Arrows of the Queen (Heralds of Valdemar  #1)             2   \n",
       "4       229           Evil Under the Sun (Hercule Poirot  #24)             2   \n",
       "5       224                                      Evening Class             2   \n",
       "6        57                    Act of Treason (Mitch Rapp  #9)             2   \n",
       "7        20              A Fistful of Charms (The Hollows  #4)             2   \n",
       "8        55          A Woman of Substance (Emma Harte Saga #1)             2   \n",
       "9        76                                        Angels Fall             2   \n",
       "10       62                                      Alas  Babylon             2   \n",
       "11      213                      Emily of New Moon (Emily  #1)             2   \n",
       "12      136  Captivating: Unveiling the Mystery of a Woman'...             2   \n",
       "13       17                      A Dirty Job (Grim Reaper  #1)             4   \n",
       "14      297                                         Hard Times             2   \n",
       "\n",
       "    avg_rating  \n",
       "0          5.0  \n",
       "1          5.0  \n",
       "2          5.0  \n",
       "3          5.0  \n",
       "4          5.0  \n",
       "5          5.0  \n",
       "6          5.0  \n",
       "7          5.0  \n",
       "8          5.0  \n",
       "9          5.0  \n",
       "10         5.0  \n",
       "11         5.0  \n",
       "12         5.0  \n",
       "13         5.0  \n",
       "14         5.0  "
      ]
     },
     "execution_count": 27,
     "metadata": {},
     "output_type": "execute_result"
    }
   ],
   "source": [
    "rating_review = '''\n",
    "                   SELECT \n",
    "                         b.book_id,\n",
    "                         b.title,\n",
    "                         COUNT( DISTINCT rev.review_id) AS review_count,\n",
    "                         AVG (rat.rating) AS avg_rating\n",
    "                   FROM books AS b\n",
    "                   LEFT JOIN reviews AS rev ON b.book_id=rev.book_id\n",
    "                   LEFT JOIN ratings AS rat On b.book_id=rat.book_id\n",
    "                   GROUP BY b.book_id\n",
    "                   ORDER BY avg_rating DESC\n",
    "                   LIMIT 15;\n",
    "                '''\n",
    "sql_query(rating_review)"
   ]
  },
  {
   "cell_type": "markdown",
   "metadata": {},
   "source": [
    "Самое большое количество обзоров оставили книгу Twilight 1 (Сумерки часть 1) - 7 обзоров.\n",
    "\n",
    "В датасете имеются книги с средним рейтингом 5.0, но чаще всего на такие книги мало обзоров."
   ]
  },
  {
   "cell_type": "markdown",
   "metadata": {},
   "source": [
    " "
   ]
  },
  {
   "cell_type": "markdown",
   "metadata": {},
   "source": [
    "### Издательство, выпустившее объемные книги"
   ]
  },
  {
   "cell_type": "code",
   "execution_count": 28,
   "metadata": {},
   "outputs": [
    {
     "data": {
      "text/html": [
       "<div>\n",
       "<style scoped>\n",
       "    .dataframe tbody tr th:only-of-type {\n",
       "        vertical-align: middle;\n",
       "    }\n",
       "\n",
       "    .dataframe tbody tr th {\n",
       "        vertical-align: top;\n",
       "    }\n",
       "\n",
       "    .dataframe thead th {\n",
       "        text-align: right;\n",
       "    }\n",
       "</style>\n",
       "<table border=\"1\" class=\"dataframe\">\n",
       "  <thead>\n",
       "    <tr style=\"text-align: right;\">\n",
       "      <th></th>\n",
       "      <th>publisher</th>\n",
       "      <th>books_count</th>\n",
       "    </tr>\n",
       "  </thead>\n",
       "  <tbody>\n",
       "    <tr>\n",
       "      <th>0</th>\n",
       "      <td>Penguin Books</td>\n",
       "      <td>42</td>\n",
       "    </tr>\n",
       "  </tbody>\n",
       "</table>\n",
       "</div>"
      ],
      "text/plain": [
       "       publisher  books_count\n",
       "0  Penguin Books           42"
      ]
     },
     "execution_count": 28,
     "metadata": {},
     "output_type": "execute_result"
    }
   ],
   "source": [
    "publisher_books = '''\n",
    "                     SELECT \n",
    "                           p.publisher,\n",
    "                           COUNT(b.book_id) AS books_count\n",
    "                     FROM publishers AS p\n",
    "                     JOIN books AS b ON p.publisher_id=b.publisher_id\n",
    "                     WHERE b.num_pages > 50\n",
    "                     GROUP by p.publisher_id\n",
    "                     ORDER BY COUNT(b.book_id) DESC\n",
    "                     LIMIT 1;\n",
    "                  '''\n",
    "sql_query(publisher_books)"
   ]
  },
  {
   "cell_type": "markdown",
   "metadata": {},
   "source": [
    "Издательством, выпустившим наибольшее количество книг (42 книги) толще 50 листов, является издательство Penguin Books."
   ]
  },
  {
   "cell_type": "markdown",
   "metadata": {},
   "source": [
    "  "
   ]
  },
  {
   "cell_type": "markdown",
   "metadata": {},
   "source": [
    "### Автор с самой высокой средней оценкой книг"
   ]
  },
  {
   "cell_type": "code",
   "execution_count": 29,
   "metadata": {},
   "outputs": [
    {
     "data": {
      "text/html": [
       "<div>\n",
       "<style scoped>\n",
       "    .dataframe tbody tr th:only-of-type {\n",
       "        vertical-align: middle;\n",
       "    }\n",
       "\n",
       "    .dataframe tbody tr th {\n",
       "        vertical-align: top;\n",
       "    }\n",
       "\n",
       "    .dataframe thead th {\n",
       "        text-align: right;\n",
       "    }\n",
       "</style>\n",
       "<table border=\"1\" class=\"dataframe\">\n",
       "  <thead>\n",
       "    <tr style=\"text-align: right;\">\n",
       "      <th></th>\n",
       "      <th>author</th>\n",
       "      <th>avg_rating</th>\n",
       "    </tr>\n",
       "  </thead>\n",
       "  <tbody>\n",
       "    <tr>\n",
       "      <th>0</th>\n",
       "      <td>J.K. Rowling/Mary GrandPré</td>\n",
       "      <td>4.288462</td>\n",
       "    </tr>\n",
       "  </tbody>\n",
       "</table>\n",
       "</div>"
      ],
      "text/plain": [
       "                       author  avg_rating\n",
       "0  J.K. Rowling/Mary GrandPré    4.288462"
      ]
     },
     "execution_count": 29,
     "metadata": {},
     "output_type": "execute_result"
    }
   ],
   "source": [
    "top_author = '''\n",
    "                SELECT\n",
    "                     a.author,\n",
    "                     AVG(r.rating) AS avg_rating\n",
    "                FROM books b\n",
    "                LEFT JOIN authors AS a ON b.author_id=a.author_id\n",
    "                LEFT JOIN ratings AS r ON r.book_id=b.book_id\n",
    "                GROUP BY a.author\n",
    "                HAVING COUNT(r.rating) > 50\n",
    "                ORDER BY avg_rating DESC\n",
    "                LIMIT 1; \n",
    "             '''\n",
    "sql_query(top_author)"
   ]
  },
  {
   "cell_type": "markdown",
   "metadata": {},
   "source": [
    "Автором с самой высокой средней оценкой книг, которые набрали более 50 оценок является J.K. Rowling с иллюстратором Mary GrandPré."
   ]
  },
  {
   "cell_type": "markdown",
   "metadata": {},
   "source": [
    " "
   ]
  },
  {
   "cell_type": "markdown",
   "metadata": {},
   "source": [
    "### Cреднее количество обзоров от активных пользователей"
   ]
  },
  {
   "cell_type": "code",
   "execution_count": 30,
   "metadata": {},
   "outputs": [
    {
     "data": {
      "text/html": [
       "<div>\n",
       "<style scoped>\n",
       "    .dataframe tbody tr th:only-of-type {\n",
       "        vertical-align: middle;\n",
       "    }\n",
       "\n",
       "    .dataframe tbody tr th {\n",
       "        vertical-align: top;\n",
       "    }\n",
       "\n",
       "    .dataframe thead th {\n",
       "        text-align: right;\n",
       "    }\n",
       "</style>\n",
       "<table border=\"1\" class=\"dataframe\">\n",
       "  <thead>\n",
       "    <tr style=\"text-align: right;\">\n",
       "      <th></th>\n",
       "      <th>avg_review</th>\n",
       "    </tr>\n",
       "  </thead>\n",
       "  <tbody>\n",
       "    <tr>\n",
       "      <th>0</th>\n",
       "      <td>24.0</td>\n",
       "    </tr>\n",
       "  </tbody>\n",
       "</table>\n",
       "</div>"
      ],
      "text/plain": [
       "   avg_review\n",
       "0        24.0"
      ]
     },
     "execution_count": 30,
     "metadata": {},
     "output_type": "execute_result"
    }
   ],
   "source": [
    "review_topuser = '''WITH\n",
    "                    rating_count AS (SELECT\n",
    "                                           username\n",
    "                                     FROM ratings\n",
    "                                     GROUP BY username\n",
    "                                     HAVING COUNT(ratings) > 48\n",
    "                                     ),\n",
    "                    count_review AS (SELECT\n",
    "                                           reviews.username,\n",
    "                                           COUNT(review_id) AS count_reviews\n",
    "                                     FROM reviews\n",
    "                                     RIGHT JOIN rating_count AS rc ON rc.username=reviews.username\n",
    "                                     GROUP BY reviews.username)\n",
    "                                     \n",
    "                    SELECT \n",
    "                          AVG(count_reviews) AS avg_review\n",
    "                    FROM count_review;\n",
    "                 '''\n",
    "sql_query(review_topuser)"
   ]
  },
  {
   "cell_type": "markdown",
   "metadata": {},
   "source": [
    "Cреднее количество обзоров от пользователей, которые поставили больше 48 оценок, составляет 24 обзора."
   ]
  },
  {
   "cell_type": "markdown",
   "metadata": {},
   "source": [
    " "
   ]
  },
  {
   "cell_type": "markdown",
   "metadata": {},
   "source": [
    "## Выводы:\n",
    "1. данные открыты и прочтены\n",
    "2. данные подробно изучены:\n",
    "- После 1 января 2020 года было выпущено 821 книга.\n",
    "- Самое большое количество обзоров оставили книгу Twilight 1 (Сумерки часть 1) - 7 обзоров.\n",
    "- В датасете имеются книги с средним рейтингом 5.0, но чаще всего на такие книги мало обзоров.\n",
    "- Издательством, выпустившим наибольшее количество книг (42 книги) толще 50 листов, является издательство Penguin Books.\n",
    "- Автором с самой высокой средней оценкой книг, которые набрали более 50 оценок является J.K. Rowling с иллюстратором Mary GrandPré.\n",
    "- Cреднее количество обзоров от пользователей, которые поставили больше 48 оценок, составляет 24 обзора.\n",
    "3. составлен вывод\n",
    "4. даны рекомендации"
   ]
  },
  {
   "cell_type": "markdown",
   "metadata": {},
   "source": [
    "## Рекомендации"
   ]
  },
  {
   "cell_type": "markdown",
   "metadata": {},
   "source": [
    "Компании стоит обратить внимание на продвижение продаж бестселлеров, а также книг с высоким рейтингом.\n",
    "\n",
    "В качестве нового продукта сервиса можно внедрить раздел аудиокниг, начать который стоит также с бестселлеров или классической отечественной и зарубежной литературы.\n",
    "\n",
    "Для увеличения продаж и активности сервиса стоит проводить рекламные акции по выдачи, например, подарочных промокодов при написании отзыва и добавлении оценки, а также проводить специальные предложения для особо активных клиентов."
   ]
  },
  {
   "cell_type": "code",
   "execution_count": null,
   "metadata": {},
   "outputs": [],
   "source": []
  }
 ],
 "metadata": {
  "ExecuteTimeLog": [
   {
    "duration": 551,
    "start_time": "2024-07-23T11:44:00.996Z"
   },
   {
    "duration": 3,
    "start_time": "2024-07-23T11:44:58.923Z"
   },
   {
    "duration": 7931,
    "start_time": "2024-07-23T11:45:23.795Z"
   },
   {
    "duration": 186,
    "start_time": "2024-07-23T11:46:13.041Z"
   },
   {
    "duration": 3,
    "start_time": "2024-07-23T11:46:22.995Z"
   },
   {
    "duration": 171,
    "start_time": "2024-07-23T11:48:05.724Z"
   },
   {
    "duration": 3,
    "start_time": "2024-07-23T11:48:42.287Z"
   },
   {
    "duration": 4,
    "start_time": "2024-07-23T11:48:42.528Z"
   },
   {
    "duration": 3,
    "start_time": "2024-07-23T11:48:42.699Z"
   },
   {
    "duration": 180,
    "start_time": "2024-07-23T11:48:42.863Z"
   },
   {
    "duration": 3,
    "start_time": "2024-07-23T11:48:43.541Z"
   },
   {
    "duration": 41,
    "start_time": "2024-07-23T11:48:44.234Z"
   },
   {
    "duration": 68,
    "start_time": "2024-07-23T11:51:37.918Z"
   },
   {
    "duration": 3,
    "start_time": "2024-07-23T11:51:44.029Z"
   },
   {
    "duration": 3,
    "start_time": "2024-07-23T11:51:44.132Z"
   },
   {
    "duration": 3,
    "start_time": "2024-07-23T11:51:44.292Z"
   },
   {
    "duration": 428,
    "start_time": "2024-07-23T11:51:44.444Z"
   },
   {
    "duration": 2,
    "start_time": "2024-07-23T11:51:44.874Z"
   },
   {
    "duration": 45,
    "start_time": "2024-07-23T11:51:44.877Z"
   },
   {
    "duration": 28,
    "start_time": "2024-07-23T11:51:44.924Z"
   },
   {
    "duration": 2,
    "start_time": "2024-07-23T11:56:02.756Z"
   },
   {
    "duration": 52,
    "start_time": "2024-07-23T11:56:20.452Z"
   },
   {
    "duration": 42,
    "start_time": "2024-07-23T11:57:03.142Z"
   },
   {
    "duration": 32,
    "start_time": "2024-07-23T11:59:29.802Z"
   },
   {
    "duration": 2,
    "start_time": "2024-07-23T12:07:51.731Z"
   },
   {
    "duration": 48,
    "start_time": "2024-07-23T12:08:03.061Z"
   },
   {
    "duration": 40,
    "start_time": "2024-07-23T12:08:17.613Z"
   },
   {
    "duration": 53,
    "start_time": "2024-07-23T12:12:06.669Z"
   },
   {
    "duration": 61,
    "start_time": "2024-07-23T12:13:04.800Z"
   },
   {
    "duration": 38,
    "start_time": "2024-07-23T12:13:16.260Z"
   },
   {
    "duration": 28,
    "start_time": "2024-07-23T12:13:39.771Z"
   },
   {
    "duration": 50,
    "start_time": "2024-07-23T12:13:48.685Z"
   },
   {
    "duration": 39,
    "start_time": "2024-07-23T12:14:06.601Z"
   },
   {
    "duration": 49,
    "start_time": "2024-07-23T12:14:22.685Z"
   },
   {
    "duration": 66,
    "start_time": "2024-07-23T12:15:13.396Z"
   },
   {
    "duration": 59,
    "start_time": "2024-07-23T12:15:24.233Z"
   },
   {
    "duration": 60,
    "start_time": "2024-07-23T12:16:45.742Z"
   },
   {
    "duration": 59,
    "start_time": "2024-07-23T12:17:40.146Z"
   },
   {
    "duration": 60,
    "start_time": "2024-07-23T12:17:46.161Z"
   },
   {
    "duration": 59,
    "start_time": "2024-07-23T12:18:06.941Z"
   },
   {
    "duration": 42,
    "start_time": "2024-07-23T12:19:50.346Z"
   },
   {
    "duration": 29,
    "start_time": "2024-07-23T12:21:20.717Z"
   },
   {
    "duration": 29,
    "start_time": "2024-07-23T12:22:10.544Z"
   },
   {
    "duration": 27,
    "start_time": "2024-07-23T12:23:04.044Z"
   },
   {
    "duration": 29,
    "start_time": "2024-07-23T12:23:43.859Z"
   },
   {
    "duration": 31,
    "start_time": "2024-07-23T12:24:20.661Z"
   },
   {
    "duration": 28,
    "start_time": "2024-07-23T12:24:45.966Z"
   },
   {
    "duration": 7,
    "start_time": "2024-07-23T12:33:13.126Z"
   },
   {
    "duration": 32,
    "start_time": "2024-07-23T12:33:18.393Z"
   },
   {
    "duration": 29,
    "start_time": "2024-07-23T12:34:08.949Z"
   },
   {
    "duration": 29,
    "start_time": "2024-07-23T12:34:17.241Z"
   },
   {
    "duration": 33,
    "start_time": "2024-07-23T12:34:34.200Z"
   },
   {
    "duration": 32,
    "start_time": "2024-07-23T12:34:39.533Z"
   },
   {
    "duration": 30,
    "start_time": "2024-07-23T12:35:13.480Z"
   },
   {
    "duration": 30,
    "start_time": "2024-07-23T12:35:22.947Z"
   },
   {
    "duration": 30,
    "start_time": "2024-07-23T12:36:14.233Z"
   },
   {
    "duration": 48,
    "start_time": "2024-07-23T12:37:19.385Z"
   },
   {
    "duration": 46,
    "start_time": "2024-07-23T12:37:30.214Z"
   },
   {
    "duration": 29,
    "start_time": "2024-07-23T12:38:50.689Z"
   },
   {
    "duration": 29,
    "start_time": "2024-07-23T12:39:52.030Z"
   },
   {
    "duration": 28,
    "start_time": "2024-07-23T12:41:14.909Z"
   },
   {
    "duration": 29,
    "start_time": "2024-07-23T12:42:32.025Z"
   },
   {
    "duration": 64,
    "start_time": "2024-07-23T12:44:13.189Z"
   },
   {
    "duration": 2,
    "start_time": "2024-07-23T12:46:56.537Z"
   },
   {
    "duration": 29,
    "start_time": "2024-07-23T12:47:08.859Z"
   },
   {
    "duration": 3,
    "start_time": "2024-07-23T12:57:28.941Z"
   },
   {
    "duration": 54,
    "start_time": "2024-07-23T12:57:42.727Z"
   },
   {
    "duration": 59,
    "start_time": "2024-07-23T12:57:51.815Z"
   },
   {
    "duration": 1223,
    "start_time": "2024-07-23T12:58:07.051Z"
   },
   {
    "duration": 65,
    "start_time": "2024-07-23T12:59:23.059Z"
   },
   {
    "duration": 65,
    "start_time": "2024-07-23T12:59:28.363Z"
   },
   {
    "duration": 64,
    "start_time": "2024-07-23T13:01:15.716Z"
   },
   {
    "duration": 65,
    "start_time": "2024-07-23T13:01:21.247Z"
   },
   {
    "duration": 63,
    "start_time": "2024-07-23T13:01:53.461Z"
   },
   {
    "duration": 66,
    "start_time": "2024-07-23T13:02:19.250Z"
   },
   {
    "duration": 65,
    "start_time": "2024-07-23T13:04:20.011Z"
   },
   {
    "duration": 57,
    "start_time": "2024-07-23T13:06:56.004Z"
   },
   {
    "duration": 83,
    "start_time": "2024-07-23T13:07:04.080Z"
   },
   {
    "duration": 71,
    "start_time": "2024-07-23T13:07:50.097Z"
   },
   {
    "duration": 65,
    "start_time": "2024-07-23T13:07:58.840Z"
   },
   {
    "duration": 39,
    "start_time": "2024-07-23T13:08:19.107Z"
   },
   {
    "duration": 39,
    "start_time": "2024-07-23T13:08:38.971Z"
   },
   {
    "duration": 42,
    "start_time": "2024-07-23T13:08:46.023Z"
   },
   {
    "duration": 43,
    "start_time": "2024-07-23T13:08:56.949Z"
   },
   {
    "duration": 61,
    "start_time": "2024-07-23T13:23:34.704Z"
   },
   {
    "duration": 43,
    "start_time": "2024-07-23T13:24:00.375Z"
   },
   {
    "duration": 31,
    "start_time": "2024-07-23T13:24:21.426Z"
   },
   {
    "duration": 50,
    "start_time": "2024-07-23T13:25:00.093Z"
   },
   {
    "duration": 40,
    "start_time": "2024-07-23T13:25:14.162Z"
   },
   {
    "duration": 42,
    "start_time": "2024-07-23T13:27:16.636Z"
   },
   {
    "duration": 44,
    "start_time": "2024-07-23T13:27:30.019Z"
   },
   {
    "duration": 46,
    "start_time": "2024-07-23T13:27:35.277Z"
   },
   {
    "duration": 50,
    "start_time": "2024-07-23T13:28:24.679Z"
   },
   {
    "duration": 42,
    "start_time": "2024-07-23T13:30:06.045Z"
   },
   {
    "duration": 41,
    "start_time": "2024-07-23T13:30:10.153Z"
   },
   {
    "duration": 347,
    "start_time": "2024-07-23T13:31:23.408Z"
   },
   {
    "duration": 52,
    "start_time": "2024-07-23T13:44:50.422Z"
   },
   {
    "duration": 48,
    "start_time": "2024-07-23T13:44:57.212Z"
   },
   {
    "duration": 33,
    "start_time": "2024-07-23T13:52:06.378Z"
   },
   {
    "duration": 35,
    "start_time": "2024-07-23T13:52:28.518Z"
   },
   {
    "duration": 59,
    "start_time": "2024-07-23T13:57:44.506Z"
   },
   {
    "duration": 60,
    "start_time": "2024-07-23T13:57:50.670Z"
   },
   {
    "duration": 59,
    "start_time": "2024-07-23T13:58:02.268Z"
   },
   {
    "duration": 41,
    "start_time": "2024-07-23T14:01:27.775Z"
   },
   {
    "duration": 30,
    "start_time": "2024-07-23T14:03:49.851Z"
   },
   {
    "duration": 32,
    "start_time": "2024-07-23T14:05:43.369Z"
   },
   {
    "duration": 32,
    "start_time": "2024-07-23T14:10:42.695Z"
   },
   {
    "duration": 50,
    "start_time": "2024-07-23T14:12:07.931Z"
   },
   {
    "duration": 59,
    "start_time": "2024-07-23T14:12:37.333Z"
   },
   {
    "duration": 60,
    "start_time": "2024-07-23T14:19:05.436Z"
   },
   {
    "duration": 64,
    "start_time": "2024-07-23T14:20:20.889Z"
   },
   {
    "duration": 60,
    "start_time": "2024-07-23T14:20:55.940Z"
   },
   {
    "duration": 46,
    "start_time": "2024-07-23T14:21:04.013Z"
   },
   {
    "duration": 31,
    "start_time": "2024-07-23T14:22:05.608Z"
   },
   {
    "duration": 48,
    "start_time": "2024-07-23T14:23:22.243Z"
   },
   {
    "duration": 43,
    "start_time": "2024-07-23T14:23:35.352Z"
   },
   {
    "duration": 33,
    "start_time": "2024-07-23T14:26:38.158Z"
   },
   {
    "duration": 32,
    "start_time": "2024-07-23T14:26:47.675Z"
   },
   {
    "duration": 32,
    "start_time": "2024-07-23T14:26:59.712Z"
   },
   {
    "duration": 33,
    "start_time": "2024-07-23T14:28:43.817Z"
   },
   {
    "duration": 32,
    "start_time": "2024-07-23T14:28:56.910Z"
   },
   {
    "duration": 55,
    "start_time": "2024-07-23T14:29:16.501Z"
   },
   {
    "duration": 34,
    "start_time": "2024-07-23T14:30:07.278Z"
   },
   {
    "duration": 32,
    "start_time": "2024-07-23T14:32:29.112Z"
   },
   {
    "duration": 40,
    "start_time": "2024-07-23T15:20:24.983Z"
   },
   {
    "duration": 34,
    "start_time": "2024-07-23T15:20:49.168Z"
   },
   {
    "duration": 484,
    "start_time": "2024-07-24T06:09:10.016Z"
   },
   {
    "duration": 3,
    "start_time": "2024-07-24T06:09:10.501Z"
   },
   {
    "duration": 7188,
    "start_time": "2024-07-24T06:09:10.505Z"
   },
   {
    "duration": 39,
    "start_time": "2024-07-24T06:09:17.695Z"
   },
   {
    "duration": 2,
    "start_time": "2024-07-24T06:09:17.736Z"
   },
   {
    "duration": 18,
    "start_time": "2024-07-24T06:09:17.739Z"
   },
   {
    "duration": 7,
    "start_time": "2024-07-24T06:09:17.758Z"
   },
   {
    "duration": 11,
    "start_time": "2024-07-24T06:09:17.766Z"
   },
   {
    "duration": 9,
    "start_time": "2024-07-24T06:09:17.778Z"
   },
   {
    "duration": 9,
    "start_time": "2024-07-24T06:09:17.790Z"
   },
   {
    "duration": 7,
    "start_time": "2024-07-24T06:09:17.801Z"
   },
   {
    "duration": 7,
    "start_time": "2024-07-24T06:09:17.809Z"
   },
   {
    "duration": 7,
    "start_time": "2024-07-24T06:09:17.817Z"
   },
   {
    "duration": 7,
    "start_time": "2024-07-24T06:09:17.826Z"
   },
   {
    "duration": 31,
    "start_time": "2024-07-24T06:09:17.834Z"
   },
   {
    "duration": 15,
    "start_time": "2024-07-24T06:09:17.867Z"
   },
   {
    "duration": 8,
    "start_time": "2024-07-24T06:09:17.883Z"
   },
   {
    "duration": 8,
    "start_time": "2024-07-24T06:09:17.892Z"
   },
   {
    "duration": 13,
    "start_time": "2024-07-24T06:09:17.901Z"
   },
   {
    "duration": 10,
    "start_time": "2024-07-24T06:09:17.915Z"
   },
   {
    "duration": 6,
    "start_time": "2024-07-24T06:09:17.926Z"
   },
   {
    "duration": 7,
    "start_time": "2024-07-24T06:09:17.933Z"
   },
   {
    "duration": 5,
    "start_time": "2024-07-24T06:09:17.941Z"
   },
   {
    "duration": 12,
    "start_time": "2024-07-24T06:09:17.948Z"
   },
   {
    "duration": 5,
    "start_time": "2024-07-24T06:09:17.962Z"
   },
   {
    "duration": 19,
    "start_time": "2024-07-24T06:09:17.968Z"
   },
   {
    "duration": 19,
    "start_time": "2024-07-24T06:09:17.996Z"
   },
   {
    "duration": 8,
    "start_time": "2024-07-24T06:09:18.017Z"
   },
   {
    "duration": 11,
    "start_time": "2024-07-24T06:09:18.026Z"
   },
   {
    "duration": 10,
    "start_time": "2024-07-24T06:09:18.038Z"
   },
   {
    "duration": 73,
    "start_time": "2024-07-24T06:10:28.186Z"
   },
   {
    "duration": 29,
    "start_time": "2024-07-24T06:10:35.317Z"
   },
   {
    "duration": 19,
    "start_time": "2024-07-24T06:10:42.973Z"
   }
  ],
  "kernelspec": {
   "display_name": "Python 3 (ipykernel)",
   "language": "python",
   "name": "python3"
  },
  "language_info": {
   "codemirror_mode": {
    "name": "ipython",
    "version": 3
   },
   "file_extension": ".py",
   "mimetype": "text/x-python",
   "name": "python",
   "nbconvert_exporter": "python",
   "pygments_lexer": "ipython3",
   "version": "3.9.5"
  },
  "toc": {
   "base_numbering": 1,
   "nav_menu": {},
   "number_sections": true,
   "sideBar": true,
   "skip_h1_title": true,
   "title_cell": "Table of Contents",
   "title_sidebar": "Contents",
   "toc_cell": false,
   "toc_position": {},
   "toc_section_display": true,
   "toc_window_display": true
  }
 },
 "nbformat": 4,
 "nbformat_minor": 2
}
