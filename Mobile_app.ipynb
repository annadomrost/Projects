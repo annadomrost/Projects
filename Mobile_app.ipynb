{
 "cells": [
  {
   "cell_type": "markdown",
   "metadata": {},
   "source": [
    "<div class=\"alert alert-success\">\n",
    "  <b> ✔️Комментарий ревьюера ✔️</b>\n",
    "\n",
    "Привет, Анна! Меня зовут Михаил, я буду проверять твой проект. Предлагаю общаться на 'ты' :)\n",
    "Однако, если это неудобно - сообщи, и мы перейдем на 'Вы'. Моя главная цель —  поделиться с тобой своим опытом и помочь тебе стать крутым специалистом, а не только указать на совершенные тобой ошибки.\n",
    "\n",
    "Видно, что к проекту приложен большой труд. Все ключевые этапы в работе выполнены, статистическое исследование проведено качественно. Так что в целом справиться с задачей тебе удалось.\n",
    "\n",
    "Есть несколько аспектов, которые **требуют** твоего **внимания**. Комментарии по ним помечены красным цветом и символами ❌. После их доработки проект будет принят, осталось совсем немного :) \n",
    "    \n",
    "\n",
    "Давай работать над проектом в диалоге: если **ты что-то меняешь** в проекте по моим рекомендациям — **пиши об этом**. Мне будет легче отследить изменения, если ты будешь использовать синюю форму, которую я прикреплю ниже. Пожалуйста, **не перемещай, не изменяй и не удаляй мои комментарии**. Всё это поможет выполнить повторную проверку твоего проекта оперативнее. \n",
    "\n",
    "\n",
    "\n",
    "Жду проект на повторное ревью. Успехов в изучении!\n",
    "\n",
    "\n",
    "\n",
    "</div>\n",
    "<div class=\"alert alert-block alert-danger\"> <b>❌ Комментарий ревьюера ❌</b> \n",
    "    Так я выделяю моменты, которые требуют особого внимания. Нужно будет учесть их и внести корректировки в свою работу. </div>\n",
    "<div class=\"alert alert-block alert-warning\"> <b>⚠️ Комментарий ревьюера ⚠️</b> \n",
    "    Желтым я отмечу рекомендации, которые, могут быть полезными при твоей работе. Они носят рекомендационный характер, но будет классно, если ты будешь учитывать их при работе.</div>\n",
    "<div class=\"alert alert-block alert-success\"> <b>✔️ Комментарий ревьюера ✔️</b>\n",
    "    Так я выделяю удачные и элегантные решения, на которые можно опираться в будущих проектах.</div>\n",
    "<div class=\"alert alert-block alert-info\">\n",
    "    \n",
    "А в таком блоке ты можешь оставить комментарии для меня \n",
    "    \n",
    "</div>"
   ]
  },
  {
   "cell_type": "markdown",
   "metadata": {},
   "source": [
    "# Анализ поведения пользователей стартапа - мобильного приложения по продаже продуктов питания"
   ]
  },
  {
   "cell_type": "markdown",
   "metadata": {},
   "source": [
    "Цель исследования - разобраться, как ведут себя пользователи мобильного приложения\n",
    "\n",
    "Задачи исследования:\n",
    "- изучить воронку продаж\n",
    "- исследовать результаты А/А/В-эксперимента\n",
    "- сделать выводы о поведении пользователей\n",
    "\n",
    "Описание данных:\n",
    "\n",
    "Каждая запись в логе — это действие пользователя, или событие.\n",
    "\n",
    "EventName — название события;\n",
    "\n",
    "DeviceIDHash — уникальный идентификатор пользователя;\n",
    "\n",
    "EventTimestamp — время события;\n",
    "\n",
    "ExpId — номер эксперимента: 246 и 247 — контрольные группы, а 248 — экспериментальная.\n",
    "\n",
    "\n",
    "Ход исследования: \n",
    "1. открыть данные и изучить общую информацию\n",
    "2. подготовить данные\n",
    "3. изучить и проверить данные:\n",
    "- сколько всего событий в логе?\n",
    "- сколько всего пользователей в логе?\n",
    "- cколько в среднем событий приходится на пользователя?\n",
    "- данными за какой период мы располагаем? \n",
    "- много ли событий и пользователей мы потеряли, отбросив старые данные?\n",
    "- проверить, что у нас есть пользователи из всех трёх экспериментальных групп\n",
    "4. изучить воронку событий:\n",
    "- посмотреть, какие события есть в логах, как часто они встречаются и отсортировать события по частоте\n",
    "- посчитать, сколько пользователей совершали каждое из этих событий, отсортировать события по числу пользователей и посчитайте долю пользователей, которые хоть раз совершали событие\n",
    "- предположить, в каком порядке происходят события, все ли они выстраиваются в последовательную цепочку? \n",
    "- по воронке событий посчитать, какая доля пользователей проходит на следующий шаг воронки (от числа пользователей на предыдущем)\n",
    "- на каком шаге теряется больше всего пользователей?\n",
    "- какая доля пользователей доходит от первого события до оплаты?\n",
    "5. изучить результаты эксперимента:\n",
    "- определить, сколько пользователей в каждой экспериментальной группе\n",
    "-  проверить корректность всех механизмов и расчётов и проверить, находят ли статистические критерии разницу между выборками 246 и 247.\n",
    "- выбрать самое популярное событие, посчитать число пользователей, совершивших это событие в каждой из контрольных групп, посчитать долю пользователей, совершивших это событие, проверить, будет ли отличие между группами статистически достоверным. Проделать то же самое для всех других событий. Можно ли сказать, что разбиение на группы работает корректно?\n",
    "- Аналогично поступить с группой с изменённым шрифтом, сравнить результаты с каждой из контрольных групп в отдельности по каждому событию, сравнить результаты с объединённой контрольной группой\n",
    "- сделать выводы\n",
    "- ответить на вопросы: Какой уровень значимости выбрали при проверке статистических гипотез выше? посчитать, сколько проверок статистических гипотез сделали. Какой уровень значимости стоит применить? \n",
    "6. сформулировать общий вывод."
   ]
  },
  {
   "cell_type": "markdown",
   "metadata": {},
   "source": [
    "<div class=\"alert alert-success\">\n",
    "\n",
    "**✔️ Комментарий ревьюера ✔️**\n",
    "   \n",
    "   Хорошее введение в проект - пригодится в будущем, когда соберешь большое портфолио и откроешь проект вновь👍\n",
    "\n",
    "</div>\n"
   ]
  },
  {
   "cell_type": "markdown",
   "metadata": {},
   "source": [
    "### Загрузка данных"
   ]
  },
  {
   "cell_type": "markdown",
   "metadata": {},
   "source": [
    "**1.1 Импорт необходимых библиотек**"
   ]
  },
  {
   "cell_type": "code",
   "execution_count": 1,
   "metadata": {},
   "outputs": [
    {
     "ename": "AttributeError",
     "evalue": "module 'matplotlib.cm' has no attribute 'register_cmap'",
     "output_type": "error",
     "traceback": [
      "\u001b[0;31m---------------------------------------------------------------------------\u001b[0m",
      "\u001b[0;31mAttributeError\u001b[0m                            Traceback (most recent call last)",
      "\u001b[0;32m/tmp/ipykernel_63/184712749.py\u001b[0m in \u001b[0;36m<module>\u001b[0;34m\u001b[0m\n\u001b[1;32m      3\u001b[0m \u001b[0;32mimport\u001b[0m \u001b[0mplotly\u001b[0m\u001b[0;34m.\u001b[0m\u001b[0mexpress\u001b[0m \u001b[0;32mas\u001b[0m \u001b[0mpx\u001b[0m\u001b[0;34m\u001b[0m\u001b[0;34m\u001b[0m\u001b[0m\n\u001b[1;32m      4\u001b[0m \u001b[0;32mimport\u001b[0m \u001b[0mmatplotlib\u001b[0m\u001b[0;34m.\u001b[0m\u001b[0mpyplot\u001b[0m \u001b[0;32mas\u001b[0m \u001b[0mplt\u001b[0m\u001b[0;34m\u001b[0m\u001b[0;34m\u001b[0m\u001b[0m\n\u001b[0;32m----> 5\u001b[0;31m \u001b[0;32mimport\u001b[0m \u001b[0mseaborn\u001b[0m \u001b[0;32mas\u001b[0m \u001b[0msns\u001b[0m\u001b[0;34m\u001b[0m\u001b[0;34m\u001b[0m\u001b[0m\n\u001b[0m\u001b[1;32m      6\u001b[0m \u001b[0;32mimport\u001b[0m \u001b[0mnumpy\u001b[0m \u001b[0;32mas\u001b[0m \u001b[0mnp\u001b[0m\u001b[0;34m\u001b[0m\u001b[0;34m\u001b[0m\u001b[0m\n\u001b[1;32m      7\u001b[0m \u001b[0;32mfrom\u001b[0m \u001b[0mplotly\u001b[0m \u001b[0;32mimport\u001b[0m \u001b[0mgraph_objects\u001b[0m \u001b[0;32mas\u001b[0m \u001b[0mgo\u001b[0m\u001b[0;34m\u001b[0m\u001b[0;34m\u001b[0m\u001b[0m\n",
      "\u001b[0;32m/opt/conda/lib/python3.9/site-packages/seaborn/__init__.py\u001b[0m in \u001b[0;36m<module>\u001b[0;34m\u001b[0m\n\u001b[1;32m      7\u001b[0m \u001b[0;32mfrom\u001b[0m \u001b[0;34m.\u001b[0m\u001b[0mcategorical\u001b[0m \u001b[0;32mimport\u001b[0m \u001b[0;34m*\u001b[0m  \u001b[0;31m# noqa: F401,F403\u001b[0m\u001b[0;34m\u001b[0m\u001b[0;34m\u001b[0m\u001b[0m\n\u001b[1;32m      8\u001b[0m \u001b[0;32mfrom\u001b[0m \u001b[0;34m.\u001b[0m\u001b[0mdistributions\u001b[0m \u001b[0;32mimport\u001b[0m \u001b[0;34m*\u001b[0m  \u001b[0;31m# noqa: F401,F403\u001b[0m\u001b[0;34m\u001b[0m\u001b[0;34m\u001b[0m\u001b[0m\n\u001b[0;32m----> 9\u001b[0;31m \u001b[0;32mfrom\u001b[0m \u001b[0;34m.\u001b[0m\u001b[0mmatrix\u001b[0m \u001b[0;32mimport\u001b[0m \u001b[0;34m*\u001b[0m  \u001b[0;31m# noqa: F401,F403\u001b[0m\u001b[0;34m\u001b[0m\u001b[0;34m\u001b[0m\u001b[0m\n\u001b[0m\u001b[1;32m     10\u001b[0m \u001b[0;32mfrom\u001b[0m \u001b[0;34m.\u001b[0m\u001b[0mmiscplot\u001b[0m \u001b[0;32mimport\u001b[0m \u001b[0;34m*\u001b[0m  \u001b[0;31m# noqa: F401,F403\u001b[0m\u001b[0;34m\u001b[0m\u001b[0;34m\u001b[0m\u001b[0m\n\u001b[1;32m     11\u001b[0m \u001b[0;32mfrom\u001b[0m \u001b[0;34m.\u001b[0m\u001b[0maxisgrid\u001b[0m \u001b[0;32mimport\u001b[0m \u001b[0;34m*\u001b[0m  \u001b[0;31m# noqa: F401,F403\u001b[0m\u001b[0;34m\u001b[0m\u001b[0;34m\u001b[0m\u001b[0m\n",
      "\u001b[0;32m/opt/conda/lib/python3.9/site-packages/seaborn/matrix.py\u001b[0m in \u001b[0;36m<module>\u001b[0;34m\u001b[0m\n\u001b[1;32m     11\u001b[0m \u001b[0;32mfrom\u001b[0m \u001b[0mscipy\u001b[0m\u001b[0;34m.\u001b[0m\u001b[0mcluster\u001b[0m \u001b[0;32mimport\u001b[0m \u001b[0mhierarchy\u001b[0m\u001b[0;34m\u001b[0m\u001b[0;34m\u001b[0m\u001b[0m\n\u001b[1;32m     12\u001b[0m \u001b[0;34m\u001b[0m\u001b[0m\n\u001b[0;32m---> 13\u001b[0;31m \u001b[0;32mfrom\u001b[0m \u001b[0;34m.\u001b[0m \u001b[0;32mimport\u001b[0m \u001b[0mcm\u001b[0m\u001b[0;34m\u001b[0m\u001b[0;34m\u001b[0m\u001b[0m\n\u001b[0m\u001b[1;32m     14\u001b[0m \u001b[0;32mfrom\u001b[0m \u001b[0;34m.\u001b[0m\u001b[0maxisgrid\u001b[0m \u001b[0;32mimport\u001b[0m \u001b[0mGrid\u001b[0m\u001b[0;34m\u001b[0m\u001b[0;34m\u001b[0m\u001b[0m\n\u001b[1;32m     15\u001b[0m from .utils import (despine, axis_ticklabels_overlap, relative_luminance,\n",
      "\u001b[0;32m/opt/conda/lib/python3.9/site-packages/seaborn/cm.py\u001b[0m in \u001b[0;36m<module>\u001b[0;34m\u001b[0m\n\u001b[1;32m   1580\u001b[0m     \u001b[0mlocals\u001b[0m\u001b[0;34m(\u001b[0m\u001b[0;34m)\u001b[0m\u001b[0;34m[\u001b[0m\u001b[0m_name\u001b[0m \u001b[0;34m+\u001b[0m \u001b[0;34m\"_r\"\u001b[0m\u001b[0;34m]\u001b[0m \u001b[0;34m=\u001b[0m \u001b[0m_cmap_r\u001b[0m\u001b[0;34m\u001b[0m\u001b[0;34m\u001b[0m\u001b[0m\n\u001b[1;32m   1581\u001b[0m \u001b[0;34m\u001b[0m\u001b[0m\n\u001b[0;32m-> 1582\u001b[0;31m     \u001b[0mmpl_cm\u001b[0m\u001b[0;34m.\u001b[0m\u001b[0mregister_cmap\u001b[0m\u001b[0;34m(\u001b[0m\u001b[0m_name\u001b[0m\u001b[0;34m,\u001b[0m \u001b[0m_cmap\u001b[0m\u001b[0;34m)\u001b[0m\u001b[0;34m\u001b[0m\u001b[0;34m\u001b[0m\u001b[0m\n\u001b[0m\u001b[1;32m   1583\u001b[0m     \u001b[0mmpl_cm\u001b[0m\u001b[0;34m.\u001b[0m\u001b[0mregister_cmap\u001b[0m\u001b[0;34m(\u001b[0m\u001b[0m_name\u001b[0m \u001b[0;34m+\u001b[0m \u001b[0;34m\"_r\"\u001b[0m\u001b[0;34m,\u001b[0m \u001b[0m_cmap_r\u001b[0m\u001b[0;34m)\u001b[0m\u001b[0;34m\u001b[0m\u001b[0;34m\u001b[0m\u001b[0m\n\u001b[1;32m   1584\u001b[0m \u001b[0;34m\u001b[0m\u001b[0m\n",
      "\u001b[0;31mAttributeError\u001b[0m: module 'matplotlib.cm' has no attribute 'register_cmap'"
     ]
    }
   ],
   "source": [
    "import pandas as pd\n",
    "import datetime as dt\n",
    "import plotly.express as px\n",
    "import matplotlib.pyplot as plt\n",
    "import seaborn as sns\n",
    "import numpy as np\n",
    "from plotly import graph_objects as go\n",
    "from scipy import stats as st\n",
    "import math as mth\n",
    "import plotly.offline as pyo"
   ]
  },
  {
   "cell_type": "markdown",
   "metadata": {},
   "source": [
    "**1.2 Загрузка и чтение данных из csv-файла в датафрейм c помощью библиотеки pandas**"
   ]
  },
  {
   "cell_type": "code",
   "execution_count": null,
   "metadata": {},
   "outputs": [],
   "source": [
    "logs = pd.read_csv('/datasets/logs_exp.csv', sep='\\t')"
   ]
  },
  {
   "cell_type": "code",
   "execution_count": null,
   "metadata": {},
   "outputs": [],
   "source": [
    "#создание функции для чтение первичной информации для датасетов\n",
    "def data_full_info(dataset):\n",
    "    print (dataset.info())\n",
    "    print('\\033[1m' + 'Количество дубликатов в таблице:' + '\\033[0m', dataset.duplicated().sum())\n",
    "    return (dataset.head(10))"
   ]
  },
  {
   "cell_type": "code",
   "execution_count": null,
   "metadata": {},
   "outputs": [],
   "source": [
    "data_full_info(logs)"
   ]
  },
  {
   "cell_type": "code",
   "execution_count": null,
   "metadata": {},
   "outputs": [],
   "source": [
    "logs['EventName'].unique()"
   ]
  },
  {
   "cell_type": "markdown",
   "metadata": {},
   "source": [
    "Датасет содержит в себе информацию о  действиях пользователей, или событиях.\n",
    "После изучения общей информации о датасете видно, что пропуски в записях отсутствуют, однако имеются явные дубликаты, которые необходимо удалить в хоже предобработки данных.\n",
    "Кроме того, нужно будет изменить названия столбцов и типы данных для комфортного дальнейшего анализа."
   ]
  },
  {
   "cell_type": "markdown",
   "metadata": {},
   "source": [
    "<div class=\"alert alert-success\">\n",
    "\n",
    "**✔️ Комментарий ревьюера ✔️**\n",
    "   \n",
    "   Хорошо. Приступим к предобработке\n",
    "\n",
    "</div>\n"
   ]
  },
  {
   "cell_type": "markdown",
   "metadata": {},
   "source": [
    " "
   ]
  },
  {
   "cell_type": "markdown",
   "metadata": {},
   "source": [
    "### Подготовка данных"
   ]
  },
  {
   "cell_type": "markdown",
   "metadata": {},
   "source": [
    "**2.1 Изменение названий столбцов**"
   ]
  },
  {
   "cell_type": "code",
   "execution_count": null,
   "metadata": {},
   "outputs": [],
   "source": [
    "logs.columns = ['event_name', 'user_id', 'event_time', 'exp_id']"
   ]
  },
  {
   "cell_type": "markdown",
   "metadata": {},
   "source": [
    "**2.2 Удаление дубликатов**"
   ]
  },
  {
   "cell_type": "code",
   "execution_count": null,
   "metadata": {},
   "outputs": [],
   "source": [
    "logs = logs.drop_duplicates().reset_index(drop=True)"
   ]
  },
  {
   "cell_type": "markdown",
   "metadata": {},
   "source": [
    "**2.3 Изменение типа данных и добавление столбцов**"
   ]
  },
  {
   "cell_type": "code",
   "execution_count": null,
   "metadata": {},
   "outputs": [],
   "source": [
    "logs['date'] = pd.to_datetime(logs['event_time'], unit='s')\n",
    "logs['day'] = logs['date'].astype('datetime64[D]')"
   ]
  },
  {
   "cell_type": "markdown",
   "metadata": {},
   "source": [
    "**2.4 Проверка датасета на корректность после обработки**"
   ]
  },
  {
   "cell_type": "code",
   "execution_count": null,
   "metadata": {},
   "outputs": [],
   "source": [
    "logs"
   ]
  },
  {
   "cell_type": "markdown",
   "metadata": {},
   "source": [
    "**2.5 Проверка на наличие повторяющихся пользователей в группах**"
   ]
  },
  {
   "cell_type": "code",
   "execution_count": null,
   "metadata": {},
   "outputs": [],
   "source": [
    "group_246 = logs[logs['exp_id'] == '246']['user_id']\n",
    "group_247 = logs[logs['exp_id'] == '247']['user_id']\n",
    "group_248 = logs[logs['exp_id'] == '248']['user_id']\n",
    "groups = logs.query('user_id in @group_246 and user_id in @group_247 and user_id in @group_248')\n",
    "display(groups['user_id'].unique())\n",
    "print('Количество повторяющихся пользователей в группах:', groups['user_id'].nunique())\n"
   ]
  },
  {
   "cell_type": "markdown",
   "metadata": {},
   "source": [
    "Предобработка данных завершена, можно приступить к работе."
   ]
  },
  {
   "cell_type": "markdown",
   "metadata": {},
   "source": [
    "<div class=\"alert alert-success\">\n",
    "\n",
    "**✔️ Комментарий ревьюера ✔️**\n",
    "   \n",
    "   Очень хорошо, что не забываешь проверять данные на наличие пропусков, дубликатов, а также пользователей, которые могли попасть в несколько групп одновременно.  Молодец, что приводишь даты к нужному формату - предобработка проведена отлично.\n",
    "\n",
    "</div>"
   ]
  },
  {
   "cell_type": "markdown",
   "metadata": {},
   "source": [
    " "
   ]
  },
  {
   "cell_type": "markdown",
   "metadata": {},
   "source": [
    "### Изучение и проверка данных"
   ]
  },
  {
   "cell_type": "markdown",
   "metadata": {},
   "source": [
    "**3.1 Сколько всего событий в логе?**"
   ]
  },
  {
   "cell_type": "code",
   "execution_count": null,
   "metadata": {},
   "outputs": [],
   "source": [
    "print('Уникальных событий в логе:', logs['event_name'].nunique())\n",
    "print('Общее количество событий в логе:', logs['event_name'].count())\n",
    "print('Количество каждого события:\\n',\n",
    "      logs['event_name'].value_counts())"
   ]
  },
  {
   "cell_type": "markdown",
   "metadata": {},
   "source": [
    "**3.2 Cколько всего пользователей в логе?**"
   ]
  },
  {
   "cell_type": "code",
   "execution_count": null,
   "metadata": {},
   "outputs": [],
   "source": [
    "print('Количество уникальных пользователей в логе:', logs['user_id'].nunique())\n",
    "\n",
    "for i in logs['exp_id'].unique():\n",
    "    exp_users = logs[logs[\"exp_id\"]==i]['user_id'].nunique()\n",
    "    print(f'В группе {i} - {exp_users} уникальных пользователей')"
   ]
  },
  {
   "cell_type": "markdown",
   "metadata": {},
   "source": [
    "**3.3 Сколько в среднем событий приходится на пользователя?**"
   ]
  },
  {
   "cell_type": "code",
   "execution_count": null,
   "metadata": {},
   "outputs": [],
   "source": [
    "event_per_user = logs.groupby('user_id')['event_name'].count()\n",
    "event_per_user.describe()"
   ]
  },
  {
   "cell_type": "markdown",
   "metadata": {},
   "source": [
    "В среднем на одного пользователя приходится 32 события.\n",
    "\n",
    "Однако медианное значение составляет - 20 событий на пользователя."
   ]
  },
  {
   "cell_type": "markdown",
   "metadata": {},
   "source": [
    "**3.4 Анализ периода исследования**"
   ]
  },
  {
   "cell_type": "code",
   "execution_count": null,
   "metadata": {},
   "outputs": [],
   "source": [
    "print('Дата начала событий в логе:', logs['date'].min())\n",
    "print('Дата окончания событий в логе:', logs['date'].max())\n",
    "print('Период событий в логе:', logs['date'].max() - logs['date'].min())"
   ]
  },
  {
   "cell_type": "code",
   "execution_count": null,
   "metadata": {
    "scrolled": false
   },
   "outputs": [],
   "source": [
    "event_per_day = logs.pivot_table(index='day', columns='exp_id', values='event_name', aggfunc='count') \\\n",
    "                 .sort_values('day')\n",
    "\n",
    "fig = px.bar(event_per_day,\n",
    "            template='plotly_white', title='Распределение количество событий в зависимости от времени в разрезе групп',\n",
    "              labels=dict(day=\"дата\", value=\"количество событий\", variable=\"номер эксперимента\"))\n",
    "fig.show()"
   ]
  },
  {
   "cell_type": "markdown",
   "metadata": {},
   "source": [
    "Исходя из визуализации столбчатой диаграммы, мы можем с уверенностью сказать, что мы располагаем неполными данными в течение всего периода исследования. До 31 июля включительно данные являются неполными, следовательно их нужно отбросить. Для дальнейшей работы следует оставить период с 1 августа по 7 августа 2019 г."
   ]
  },
  {
   "cell_type": "code",
   "execution_count": null,
   "metadata": {},
   "outputs": [],
   "source": [
    "old_logs= logs.query('day <= \"2019-07-31\"')\n",
    "new_logs = logs.query('day >= \"2019-08-01\"')"
   ]
  },
  {
   "cell_type": "code",
   "execution_count": null,
   "metadata": {},
   "outputs": [],
   "source": [
    "new_logs.reset_index(drop=True)"
   ]
  },
  {
   "cell_type": "code",
   "execution_count": null,
   "metadata": {},
   "outputs": [],
   "source": [
    "print('Количество событий после очищения данных:', new_logs['event_name'].count())\n",
    "print('Количество отброшенных событий:', logs['event_name'].count() - new_logs['event_name'].count())\n",
    "print('Доля отброшенных событий:', \"{0:.2f}%\".format((old_logs['event_name'].count() / logs['event_name'].count()) * 100))"
   ]
  },
  {
   "cell_type": "code",
   "execution_count": null,
   "metadata": {},
   "outputs": [],
   "source": [
    "print('Количество пользователей после очищения данных:', new_logs['user_id'].nunique())\n",
    "print('Количество отброшенных пользователей:', logs['user_id'].nunique() - new_logs['user_id'].nunique())\n",
    "print('Доля отброшенных пользователей:', \"{0:.2f}%\".format(((logs['user_id'].nunique() - new_logs['user_id'].nunique())/logs['user_id'].nunique()) *100))"
   ]
  },
  {
   "cell_type": "code",
   "execution_count": null,
   "metadata": {},
   "outputs": [],
   "source": [
    "display(new_logs.groupby('exp_id').agg(nunique=('user_id', 'nunique')))\n",
    "display(new_logs.groupby('exp_id').agg(count=('user_id', 'count')))"
   ]
  },
  {
   "cell_type": "markdown",
   "metadata": {},
   "source": [
    "Отбросив неполные данные мы потеряли 1.16% событий и 0.23% пользователей, что в последующем не должно оказать существенного влияния на ход и результаты исследования.\n",
    "Данные с которыми дальше будет проводиться работа:\n",
    "- всего 240887 события\n",
    "- в период с 1.08.2019 по 7.08.2019\n",
    "- 7534 пользователя\n",
    "\n",
    "Распределение пользователей по группам эксперимента:\n",
    "- 246 группа - 79302 пользователя, из которых 2484 уникальных.\n",
    "- 247 группа - 77022 пользователя, из которых 2513 уникальных.\n",
    "- 246 группа - 84563 пользователя, из которых 2537 уникальных."
   ]
  },
  {
   "cell_type": "markdown",
   "metadata": {},
   "source": [
    "<div class=\"alert alert-success\">\n",
    "\n",
    "**✔️ Комментарий ревьюера ✔️**\n",
    "   \n",
    "   Хорошо👍 Мы убедились, что доля потерь мала, а пользователи сохранены по каждой из трех групп после фильтрации - приступим к изучению воронки\n",
    "\n",
    "</div>\n"
   ]
  },
  {
   "cell_type": "markdown",
   "metadata": {},
   "source": [
    "### Изучение воронки событий"
   ]
  },
  {
   "cell_type": "markdown",
   "metadata": {},
   "source": [
    "**4.1 Какие события есть в логах, как часто они встречаются?**"
   ]
  },
  {
   "cell_type": "code",
   "execution_count": null,
   "metadata": {},
   "outputs": [],
   "source": [
    "events_count = new_logs.groupby('event_name').agg(count = ('user_id', 'count')).sort_values('count', ascending=False).reset_index()"
   ]
  },
  {
   "cell_type": "code",
   "execution_count": null,
   "metadata": {},
   "outputs": [],
   "source": [
    "events_count"
   ]
  },
  {
   "cell_type": "code",
   "execution_count": null,
   "metadata": {},
   "outputs": [],
   "source": [
    "plt.figure(figsize=(15, 7))\n",
    "plt.title('Количество событий в логах')\n",
    "sns.barplot(y=events_count['event_name'], x=events_count['count'], palette='Set2', orient='h')\n",
    "\n",
    "for i, v in enumerate(events_count['count'].values):\n",
    "    plt.text(v + 800, i - 0.1, str(v), color='black', fontsize = 10)\n",
    "    plt.text(v + 800, i + 0.2, '({:.2%})'.format(v / events_count['count'].sum()), color='black', fontsize = 10)\n",
    "\n",
    "plt.xlabel('')\n",
    "plt.ylabel('')\n",
    "sns.despine()\n",
    "plt.show()"
   ]
  },
  {
   "cell_type": "markdown",
   "metadata": {},
   "source": [
    "В логах встречается 5 типов событий:\n",
    "1. MainScrennAppear - просмотр главного экрана\n",
    "2. OfferScreenAppear - появление страницы каталога товаров\n",
    "3. CartScrennAppear - посмотр корзины\n",
    "4. PaymentScreenSuccessful - просмотр страницы успешного прохождения оплаты\n",
    "5. Tutorial - прохождение обучения\n",
    "\n",
    "Чаще всего проиходит просмотр главного экрана(117328 событий - около 49%). Далее по частоте совершения идут: просмотр страницы каталога, просмотр корзины, а после страница успешной оплаты. Реже всего пользователи проходят этап обучение (1005 событий - меньше 1%)"
   ]
  },
  {
   "cell_type": "markdown",
   "metadata": {},
   "source": [
    "**4.2 Cколько пользователей совершали каждое из событий?**"
   ]
  },
  {
   "cell_type": "code",
   "execution_count": null,
   "metadata": {},
   "outputs": [],
   "source": [
    "user_per_event = new_logs.groupby('event_name').agg(users=('user_id','nunique')).sort_values('users', ascending=False).reset_index()"
   ]
  },
  {
   "cell_type": "code",
   "execution_count": null,
   "metadata": {},
   "outputs": [],
   "source": [
    "plt.figure(figsize=(15, 7))\n",
    "plt.title('Количество пользователей, совершивших события')\n",
    "sns.barplot(y=user_per_event['event_name'], x=user_per_event['users'], palette='Set2', orient='h')\n",
    "\n",
    "for i, v in enumerate(user_per_event['users'].values):\n",
    "    plt.text(v + 200, i - 0.1, str(v), color='black', fontsize = 10)\n",
    "\n",
    "plt.xlabel('')\n",
    "plt.ylabel('')\n",
    "sns.despine()\n",
    "plt.show()"
   ]
  },
  {
   "cell_type": "code",
   "execution_count": null,
   "metadata": {},
   "outputs": [],
   "source": [
    "user_per_event"
   ]
  },
  {
   "cell_type": "markdown",
   "metadata": {},
   "source": [
    "7419 пользователей просмотрели главную экран. \n",
    "\n",
    "4593 пользователей просмотрели каталог товаров.\n",
    "\n",
    "3734 пользователей просмотрели страницу корзины,с добавленными товарами.\n",
    "\n",
    "3539 пользователей увидели страницу успешно совершенной покупки.\n",
    "\n",
    "Минимальное количество пользователей: 840, - прошли обучение."
   ]
  },
  {
   "cell_type": "markdown",
   "metadata": {},
   "source": [
    "**4.3 Последовательность событий**"
   ]
  },
  {
   "cell_type": "markdown",
   "metadata": {},
   "source": [
    "Основываясь на рассмотренных данных можно предположить следующую цепочку событий:\n",
    "1. пользователь открывает главную страницу (MainScreenAppear)\n",
    "2. пользователь просматривает каталог товаров (OffersScreenAppear)\n",
    "3. открывает страницу корзины с добавленным товарами (CartScreenAppear)\n",
    "4. успешно совершает покупку (PaymentScreenSuccessfull)\n",
    "\n",
    "Прохождение обучения (Tutorial) соверша.т минимальное количество пользователей. Оно выбивается из логической последовательни. Предположительно, данный шаг не является обязательным."
   ]
  },
  {
   "cell_type": "markdown",
   "metadata": {},
   "source": [
    "**4.4 Анализ воронки событий**"
   ]
  },
  {
   "cell_type": "markdown",
   "metadata": {},
   "source": [
    "Уберем событие Tutorial перед построением воронки"
   ]
  },
  {
   "cell_type": "code",
   "execution_count": null,
   "metadata": {},
   "outputs": [],
   "source": [
    "user_per_event = user_per_event.query('event_name != \"Tutorial\"')"
   ]
  },
  {
   "cell_type": "code",
   "execution_count": null,
   "metadata": {},
   "outputs": [],
   "source": [
    "user_per_event"
   ]
  },
  {
   "cell_type": "code",
   "execution_count": null,
   "metadata": {},
   "outputs": [],
   "source": [
    "pyo.init_notebook_mode()"
   ]
  },
  {
   "cell_type": "code",
   "execution_count": null,
   "metadata": {},
   "outputs": [],
   "source": [
    "fig = go.Figure()\n",
    "fig = go.Figure(go.Funnel(\n",
    "    y = user_per_event['event_name'],\n",
    "    x = user_per_event['users'],\n",
    "    textinfo = \"value+percent initial+percent previous\",\n",
    "    opacity = 0.65))\n",
    "\n",
    "fig.update_layout(title='Воронка')"
   ]
  },
  {
   "cell_type": "markdown",
   "metadata": {},
   "source": [
    "<div class=\"alert alert-danger\">\n",
    "\n",
    "**❌ Комментарий ревьюера ❌**\n",
    "   \n",
    "   При построении таких воронок принято, что конечный этап является целевым, поэтому tutorial стоит убрать с визуализации\n",
    "\n",
    "</div>\n"
   ]
  },
  {
   "cell_type": "markdown",
   "metadata": {},
   "source": [
    "<div class=\"alert alert-block alert-info\">\n",
    "    \n",
    "Устранила Tutorial из воронки.\n",
    "<div class=\"alert alert-success\">\n",
    "\n",
    "**✔️ Комментарий ревьюера v2✔️**\n",
    "   \n",
    "   Теперь воронка выглядит отлично👍\n",
    "\n",
    "</div>\n",
    "    \n",
    "</div>"
   ]
  },
  {
   "cell_type": "markdown",
   "metadata": {},
   "source": [
    "После первого шага (просмотр главного экрана) приступили к следующему шагу (просмотр каталога товаров) 62% пользователей.\n",
    "От второго события к просмотру корзины с товарами перешли 81% пользователей. До успешного прохождения оплаты после просмотра корзины дошли 95% пользователей."
   ]
  },
  {
   "cell_type": "markdown",
   "metadata": {},
   "source": [
    "Больше всего пользователей теряется на втором шаге, то есть при переходе с главной страницы к каталогу товаров. Такие пользователи составляют 38% .\n",
    "Причинами такой доли потери клиентов могли стать:\n",
    "- технические неполадки при переходе с одной страницы на другую\n",
    "- незаинтересованность клиентов (их \"не цепляет\" начальный экран, и они не хотят продолжать взаимодействие)"
   ]
  },
  {
   "cell_type": "markdown",
   "metadata": {},
   "source": [
    "Около 48% процентов пользователей доходят до последнего события воронки, проходя все этапы от просмотра главного экрана до успешной оплаты заказа.\n",
    "\n",
    "Учитывая, что до второго этапа доходят лишь 62% пользователей, данный показатель неплох."
   ]
  },
  {
   "cell_type": "markdown",
   "metadata": {},
   "source": [
    "<div class=\"alert alert-success\">\n",
    "\n",
    "**✔️ Комментарий ревьюера ✔️** \n",
    "   \n",
    "   Очень хорошо - проблема обнаружена - провал на первом шаге: от `MainScreenAppear` к `OffersScreenAppear`. Вероятно, нужно лучше прорабатывать механику, чтобы пользователи переходили к `OffersScreen`.\n",
    "    \n",
    "`Tutorial`, действительно, можно просто пропустить.\n",
    "</div>\n"
   ]
  },
  {
   "cell_type": "markdown",
   "metadata": {},
   "source": [
    " "
   ]
  },
  {
   "cell_type": "markdown",
   "metadata": {},
   "source": [
    "### Изучение результатов эксперимента"
   ]
  },
  {
   "cell_type": "markdown",
   "metadata": {},
   "source": [
    "**5.1 Количество пользователей в каждой экспериментальной группе**"
   ]
  },
  {
   "cell_type": "code",
   "execution_count": null,
   "metadata": {},
   "outputs": [],
   "source": [
    "print('Количество уникальных пользователей:', new_logs['user_id'].nunique())\n",
    "\n",
    "for i in new_logs['exp_id'].unique():\n",
    "    nexp_users = new_logs[new_logs[\"exp_id\"]==i]['user_id'].nunique()\n",
    "    print(f'В группе {i} - {nexp_users} уникальных пользователей')"
   ]
  },
  {
   "cell_type": "markdown",
   "metadata": {},
   "source": [
    "**5.2 Проверка выборок 246 и 247**"
   ]
  },
  {
   "cell_type": "markdown",
   "metadata": {},
   "source": [
    "Проведем проверку равенства долей с помощью z-test."
   ]
  },
  {
   "cell_type": "markdown",
   "metadata": {},
   "source": [
    "H0: между долями нет значимой разницы\n",
    "\n",
    "H1: между долями есть значимая разница"
   ]
  },
  {
   "cell_type": "code",
   "execution_count": null,
   "metadata": {},
   "outputs": [],
   "source": [
    "alpha = 0.05\n",
    "unique_1 = new_logs.query('exp_id == 246')['user_id'].nunique()\n",
    "unique_2 = new_logs.query('exp_id == 247')['user_id'].nunique()\n",
    "total_1 = new_logs.query('exp_id == 246')['user_id'].count()\n",
    "total_2 = new_logs.query('exp_id == 247')['user_id'].count()\n",
    "\n",
    "p1 = unique_1/total_1\n",
    "p2 = unique_2/total_2\n",
    "\n",
    "p_combined = (unique_1 + unique_2) / (total_1 + total_2)\n",
    "difference = p1-p2\n",
    "z_value = difference / mth.sqrt(p_combined * (1 - p_combined) * (1/unique_1 + 1/unique_2)) \n",
    "\n",
    "distr = st.norm(0, 1)\n",
    "\n",
    "p_value = (1 - distr.cdf(abs(z_value))) * 2 \n",
    "\n",
    "print('p-значение: ', p_value)\n",
    "\n",
    "if p_value < alpha:\n",
    "    print('Отвергаем нулевую гипотезу: между долями есть значимая разница')\n",
    "else:\n",
    "    print(\n",
    "        'Не получилось отвергнуть нулевую гипотезу, нет оснований считать группы разными'\n",
    "    )"
   ]
  },
  {
   "cell_type": "markdown",
   "metadata": {},
   "source": [
    "По результатам тестирования для всех событий разница не оказалось значимой, поэтому эти группы можно считать контрольными."
   ]
  },
  {
   "cell_type": "markdown",
   "metadata": {},
   "source": [
    "**5.3 Выберем самое популярное событие. Посчитаем число пользователей, совершивших это событие в каждой из контрольных групп. Посчитаем долю пользователей, совершивших это событие. Проверим, будет ли отличие между группами статистически достоверным. Проделаем то же самое для всех других событий**"
   ]
  },
  {
   "cell_type": "code",
   "execution_count": null,
   "metadata": {},
   "outputs": [],
   "source": [
    "#Создадим отдельные датасеты с группами\n",
    "group_246 = new_logs.query('exp_id == 246 and event_name != \"Tutorial\"')\n",
    "group_247 = new_logs.query('exp_id == 247 and event_name != \"Tutorial\"')\n",
    "group_248 = new_logs.query('exp_id == 248 and event_name != \"Tutorial\"')"
   ]
  },
  {
   "cell_type": "code",
   "execution_count": null,
   "metadata": {},
   "outputs": [],
   "source": [
    "newest_logs = new_logs.query('event_name != \"Tutorial\"')"
   ]
  },
  {
   "cell_type": "code",
   "execution_count": null,
   "metadata": {},
   "outputs": [],
   "source": [
    "#самое популярное событие в группе 246\n",
    "group_246.pivot_table(index = 'event_name', values = 'user_id', aggfunc = 'nunique').sort_values(by = 'user_id', ascending = False)"
   ]
  },
  {
   "cell_type": "code",
   "execution_count": null,
   "metadata": {},
   "outputs": [],
   "source": [
    "group_247.pivot_table(index = 'event_name', values = 'user_id', aggfunc = 'nunique').sort_values(by = 'user_id', ascending = False)"
   ]
  },
  {
   "cell_type": "markdown",
   "metadata": {},
   "source": [
    "Самое популярное событие - MainScreenAppear. По нему будет совершаться проверка гипотезы."
   ]
  },
  {
   "cell_type": "markdown",
   "metadata": {},
   "source": [
    "H0: между группами нет значимой разницы\n",
    "\n",
    "H1: между группами есть значимая разница"
   ]
  },
  {
   "cell_type": "code",
   "execution_count": null,
   "metadata": {},
   "outputs": [],
   "source": [
    "#критический уровень статистической значимости\n",
    "alpha = 0.05\n",
    "    \n",
    "#количсетво уникальных пользователей совершивших событие в каждой группе \n",
    "unique_user_event = np.array([group_246[group_246['event_name'] == 'MainScreenAppear']['user_id'].nunique(), group_247[group_247['event_name'] == 'MainScreenAppear']['user_id'].nunique()])\n",
    "        \n",
    "#количество уникальных пользователей в группах\n",
    "total_unique = np.array([group_246['user_id'].nunique(), group_247['user_id'].nunique()])\n",
    "    \n",
    "# пропорция успехов в первой группе:\n",
    "p1 = unique_user_event[0]/total_unique[0]\n",
    "# пропорция успехов во второй группе:\n",
    "p2 = unique_user_event[1]/total_unique[1]\n",
    "    \n",
    "# пропорция успехов в комбинированном датасете:\n",
    "p_combined = (unique_user_event[0] + unique_user_event[1]) / (total_unique[0] + total_unique[1])\n",
    "    \n",
    "# разница пропорций в датасетах\n",
    "difference = p1 - p2\n",
    "    \n",
    "# считаем статистику в ст.отклонениях стандартного нормального распределения\n",
    "z_value = difference / mth.sqrt(p_combined * (1 - p_combined) * (1/unique_user_event[0] + 1/unique_user_event[1]))\n",
    "    \n",
    "# задаем стандартное нормальное распределение (среднее 0, ст.отклонение 1)\n",
    "distr = st.norm(0, 1)  \n",
    "    \n",
    "#Так как распределение статистики нормальное, вызовем метод cdf()\n",
    "#Саму статистику возьмём по модулю методом abs() — чтобы получить правильный результат независимо от её знака.\n",
    "#Это возможно, потому что тест двусторонний. По этой же причине удваиваем результат:\n",
    "p_value = (1 - distr.cdf(abs(z_value))) * 2\n",
    "          \n",
    "print('p-значение: ', p_value)\n",
    "\n",
    "if p_value < alpha:\n",
    "    print('Отвергаем нулевую гипотезу: между долями есть значимая разница')\n",
    "else:\n",
    "    print('Не получилось отвергнуть нулевую гипотезу, нет оснований считать доли разными')"
   ]
  },
  {
   "cell_type": "markdown",
   "metadata": {},
   "source": [
    "Значимой разницы между группами по событию MainScreenAppear - нет."
   ]
  },
  {
   "cell_type": "markdown",
   "metadata": {},
   "source": [
    "Проверка по всем событиям"
   ]
  },
  {
   "cell_type": "markdown",
   "metadata": {},
   "source": [
    "Также применим поправку Бонферрони для устранения эффекта множественных сравнений, так как есть шанс совершить ошибку первого рода (отвергнуть нулевую гипотезу, когда она на самом деле верна).\n",
    "\n",
    "Выбрали значение 16, так как будет совершено 4 проверки групп по 4 событиям."
   ]
  },
  {
   "cell_type": "code",
   "execution_count": null,
   "metadata": {},
   "outputs": [],
   "source": [
    "def z_test_check(g1, g2, event_name, alpha):\n",
    "    \n",
    "    \n",
    "    #количсетво уникальных пользователей совершивших событие в каждой группе \n",
    "    unique_user_event = np.array([g1[g1['event_name'] == event_name]['user_id'].nunique(), g2[g2['event_name'] == event_name]['user_id'].nunique()])\n",
    "        \n",
    "    #количество уникальных пользователей в группах\n",
    "    total_unique = np.array([g1['user_id'].nunique(), g2['user_id'].nunique()])\n",
    "    \n",
    "    # пропорция успехов в первой группе:\n",
    "    p1 = unique_user_event[0]/total_unique[0]\n",
    "    # пропорция успехов во второй группе:\n",
    "    p2 = unique_user_event[1]/total_unique[1]\n",
    "    \n",
    "    # пропорция успехов в комбинированном датасете:\n",
    "    p_combined = (unique_user_event[0] + unique_user_event[1]) / (total_unique[0] + total_unique[1])\n",
    "    \n",
    "    # разница пропорций в датасетах\n",
    "    difference = p1 - p2\n",
    "    \n",
    "    # считаем статистику в ст.отклонениях стандартного нормального распределения\n",
    "    z_value = difference / mth.sqrt(p_combined * (1 - p_combined) * (1/unique_user_event[0] + 1/unique_user_event[1]))\n",
    "    \n",
    "    # задаем стандартное нормальное распределение (среднее 0, ст.отклонение 1)\n",
    "    distr = st.norm(0, 1)  \n",
    "    \n",
    "    #Так как распределение статистики нормальное, вызовем метод cdf()\n",
    "    #Саму статистику возьмём по модулю методом abs() — чтобы получить правильный результат независимо от её знака.\n",
    "    #Это возможно, потому что тест двусторонний. По этой же причине удваиваем результат:\n",
    "    p_value = (1 - distr.cdf(abs(z_value))) * 2\n",
    "    \n",
    "    #Применим поправку Бонферрони\n",
    "    bonferroni_alpha = alpha / 16\n",
    "    \n",
    "    print(event_name)\n",
    "          \n",
    "    print('p-значение: ', p_value)\n",
    "\n",
    "    if p_value < alpha:\n",
    "        print('Отвергаем нулевую гипотезу: между долями есть значимая разница')\n",
    "    else:\n",
    "        print('Не получилось отвергнуть нулевую гипотезу, нет оснований считать доли разными')\n",
    "    print()"
   ]
  },
  {
   "cell_type": "code",
   "execution_count": null,
   "metadata": {},
   "outputs": [],
   "source": [
    "#создадим список с уникальными событиями:\n",
    "event_name_array = newest_logs['event_name'].unique()\n",
    "#создадим цикл, который будет подставлять в функцию уникальные значения собитый:\n",
    "for event_name in event_name_array:\n",
    "    z_test_check(group_246, group_247, event_name, 0.05)"
   ]
  },
  {
   "cell_type": "markdown",
   "metadata": {},
   "source": [
    "Значимой разницы между контрольными группами по событиям - нет.  Разбиение на группы сработало корректно."
   ]
  },
  {
   "cell_type": "markdown",
   "metadata": {},
   "source": [
    "**5.4 Сравнение с экспериментальной группой**"
   ]
  },
  {
   "cell_type": "markdown",
   "metadata": {},
   "source": [
    "Так как для теста контрольной и экспериментальной группы не нужна высокая точность, то для дальнейших экспериментов выберем самый стандартный уровень значимости равный 5%. "
   ]
  },
  {
   "cell_type": "markdown",
   "metadata": {},
   "source": [
    "проверка контрольной группы 246 и экспериментальной 248"
   ]
  },
  {
   "cell_type": "code",
   "execution_count": null,
   "metadata": {},
   "outputs": [],
   "source": [
    "for event_name in event_name_array:\n",
    "    z_test_check(group_246, group_248, event_name, 0.05)"
   ]
  },
  {
   "cell_type": "markdown",
   "metadata": {},
   "source": [
    "Значимой разницы между группами 246 и 248 нет."
   ]
  },
  {
   "cell_type": "markdown",
   "metadata": {},
   "source": [
    "проверка контрольной группы 247 и экспериментальной 248"
   ]
  },
  {
   "cell_type": "code",
   "execution_count": null,
   "metadata": {},
   "outputs": [],
   "source": [
    "for event_name in event_name_array:\n",
    "    z_test_check(group_247, group_248, event_name, 0.05)"
   ]
  },
  {
   "cell_type": "markdown",
   "metadata": {},
   "source": [
    "Значимой разницы между группами 247 и 248 нет."
   ]
  },
  {
   "cell_type": "markdown",
   "metadata": {},
   "source": [
    "Проверка объединенной конрольной группы и экспериментальной"
   ]
  },
  {
   "cell_type": "code",
   "execution_count": null,
   "metadata": {},
   "outputs": [],
   "source": [
    "#объеденим группы методом pd.concat\n",
    "group_246_247 = pd.concat([group_246, group_247])"
   ]
  },
  {
   "cell_type": "code",
   "execution_count": null,
   "metadata": {},
   "outputs": [],
   "source": [
    "for event_name in event_name_array:\n",
    "    z_test_check(group_246_247, group_248, event_name, 0.05)"
   ]
  },
  {
   "cell_type": "markdown",
   "metadata": {},
   "source": [
    "Значимой разницы между объединенными контрольными группами и экспериментальной нет."
   ]
  },
  {
   "cell_type": "markdown",
   "metadata": {},
   "source": [
    "**5.5 Выбор уровня значимости**"
   ]
  },
  {
   "cell_type": "markdown",
   "metadata": {},
   "source": [
    "При проверке гипотез между контрольными и экспериментальной группами уровень статистической значимости был выбран 0.05. Это озачает что мы рискуем получить ошибку первого рода в 5% случаев. \n",
    "\n",
    "И так как совершаем множественную проверку (16 экспериментов), применили поправку Бонферрони."
   ]
  },
  {
   "cell_type": "markdown",
   "metadata": {},
   "source": [
    "<div class=\"alert alert-danger\">\n",
    "\n",
    "**❌ Комментарий ревьюера ❌**\n",
    "   \n",
    "   Стоит использовать один уровень стат значимости для всех проверок\n",
    "\n",
    "</div>\n"
   ]
  },
  {
   "cell_type": "markdown",
   "metadata": {},
   "source": [
    "<div class=\"alert alert-block alert-info\">\n",
    "    \n",
    "Во всех проверках исправила на 0.05.\n",
    "<div class=\"alert alert-success\">\n",
    "\n",
    "**✔️ Комментарий ревьюера v2✔️**\n",
    "   \n",
    "   Хорошо👍\n",
    "\n",
    "</div>\n",
    "    \n",
    "</div>"
   ]
  },
  {
   "cell_type": "markdown",
   "metadata": {},
   "source": [
    "После изучения результатов исследования, было определено что:\n",
    "- Количество уникальных пользователей: 7534\n",
    "- В группе 246 - 2484 уникальных пользователей\n",
    "- В группе 247 - 2513 уникальных пользователей\n",
    "- В группе 248 - 2537 уникальных пользователей\n",
    "- Самое популярное событие - MainScreenAppear\n",
    "- Статистически значимой разницы между контрольными и экспериментальной группами по всем событиям не наблюдается"
   ]
  },
  {
   "cell_type": "markdown",
   "metadata": {},
   "source": [
    "<div class=\"alert alert-success\">\n",
    "\n",
    "**✔️ Комментарий ревьюера ✔️**\n",
    "   \n",
    "\n",
    "\n",
    "   \n",
    "   Очень хорошо, что используешь поправку Бонферрони и знакомa с поправками на множественную проверку гипотез. Однако отмечу, что данная поправка используется редко. Причины: эта поправка слишком сильно уменьшает уровень альфа, опровергнуть нулевую гипотезу становится фактически невозможно; повышается вероятность совершить ошибку второго рода. Возможное решение - использовать менее мощные поправки - рекомендую ознакомиться со статьей: https://studfile.net/preview/10706903/page:19/\n",
    "Также рекомендую статью: https://habr.com/ru/company/yandex/blog/476826/ - в ней описывается применение метода Холма из библиотеки `statsmodels` - пригодится в дальнейшем                    \n",
    "\n",
    "</div>\n",
    "\n",
    "\n"
   ]
  },
  {
   "cell_type": "markdown",
   "metadata": {},
   "source": [
    "Спасибо, изучу!"
   ]
  },
  {
   "cell_type": "markdown",
   "metadata": {},
   "source": [
    "### Общий вывод"
   ]
  },
  {
   "cell_type": "markdown",
   "metadata": {},
   "source": [
    "В ходе проведения исследования для  мобильного приложения по продаже продуктов питания было выполнено:\n",
    "1. Загрука данных:\n",
    "- импортированы необходимые библиотеки \n",
    "- загружен и прочтен датафрейм\n",
    "- определено, что данные нуждаются в предобработке\n",
    "2. Предобработка данных:\n",
    "- изменены названия столбцов\n",
    "- добавлены новые столбцы и изменены типы данных\n",
    "- удалены дубликаты\n",
    "- проверка на пересечение данных групп\n",
    "3. Изучение и проверка данных:\n",
    "- всего событий в логе - 243713\n",
    "- всего пользователей в логе - 7551\n",
    "- в среднем на одного пользователя приходится 20 событий\n",
    "- мы располагаем данными с 25.07.2019 по 7.08.2019\n",
    "- для дальнейшей работы взяты полные данные за 1.08.2019-7.08.2019\n",
    "- после очищения событий - 240887\n",
    "- после очищения пользователей - 7534\n",
    "- процент отброшенных собитий и пользователей составил около 1 %, что не оказало существенного влияния\n",
    "- во всех трех группах есть пользователи\n",
    "4. Изучение воронки данных:\n",
    "- в логах 5 событий MainScrennAppear, OfferScreenAppear, CartScrennAppear, PaymentScreenSuccessful, Tutorial \n",
    "- Чаще всего проиходит просмотр главного экрана(117328 событий - около 49%). Далее по частоте совершения идут: просмотр страницы каталога, просмотр корзины, а после страница успешной оплаты. Реже всего пользователи проходят этап обучение (1005 событий - меньше 1%)\n",
    "- 7419 пользователей просмотрели главную экран, 4593 пользователей просмотрели каталог товаров, 3734 пользователей просмотрели страницу корзины,с добавленными товарами, 3539 пользователей увидели страницу успешно совершенной покупки, 840 прошли обучение.\n",
    "- Цепрочка событий: пользователь открывает главную страницу (MainScreenAppear), пользователь просматривает каталог товаров (OffersScreenAppear), открывает страницу корзины с добавленным товарами (CartScreenAppear), успешно совершает покупку (PaymentScreenSuccessfull)\n",
    "- От просмотра главного экрана до каталога товаров прошли 62% пользователей. От второго события к просмотру корзины с товарами перешли 81% пользователей. До успешного прохождения оплаты после просмотра корзины дошли 95% пользователей. Больше всего пользователей теряется на втором шаге, то есть при переходе с главной страницы к каталогу товаров. \n",
    "- Около 48% процентов пользователей доходят до последнего события воронки, проходя все этапы от просмотра главного экрана до успешной оплаты заказа.\n",
    "5. Изучение результатов эксперимента:\n",
    "- уникальных пользователей в каждой группе: в 246 группе 2484 уникальных пользователей, в 247 группе 2513 уникальных пользователей, в 248 группе 2537 уникальных пользователей\n",
    "- проверены две контрольные группы, статистически занкимой разницы между которыми нет\n",
    "- создана функцию для теста статистических различий между группами для каждого события\n",
    "- проанализированы результаты с каждой из контрольных групп в отдельности и экспериментальной группой по каждому событию\n",
    "- проанализированы результаты с объединённой контрольной группой\n",
    "- В ходе тестирования были проведены 16 экспериментов: 246-247 - 4 эксперемента (для каждого события) / уровень статистической значимости - 0.01, 246-248 - 4 эксперемента (для каждого события) / уровень статистической значимости - 0.05, 247-248 - 4 эксперемента (для каждого события) / уровень статистической значимости - 0.05, 246+247-248 - 4 эксперемента (для каждого события) / уровень статистической значимости - 0.05\n",
    "- ни один из экспериментов не выявил значимой разницы между группами.\n",
    "\n",
    "Исходя из того факта, что множество проведенных экспериментов по каждому из событий между всеми имеющимися группами не выявили статистически значимой разницы между группами, можно утверждать, что изменение шрифтов в приложении интернет-магазина не оказало большого влияния на поведение пользователей. Тестирование можно назвать успешным.\n"
   ]
  },
  {
   "cell_type": "markdown",
   "metadata": {},
   "source": [
    "<div class=\"alert alert-success\">\n",
    "\n",
    "**✔️ Комментарий ревьюера ✔️**\n",
    "   \n",
    "   Анна, проведен основательный и подробный анализ. Все наглядно - графики и гистограммы подтверждают обоснованные выводы. Учти мои замечания. Возможно, придется немного подправить выводы. Жду твой проект на повторное ревью. Успехов!\n",
    "\n",
    "</div>\n"
   ]
  },
  {
   "cell_type": "markdown",
   "metadata": {},
   "source": [
    "<div class=\"alert alert-success\">\n",
    "\n",
    "**✔️ Комментарий ревьюера v2✔️**\n",
    "   \n",
    "   Анна, замечания устранены 👍. Уверен, мои советы пригодятся тебе в новых проектах. Успехов в обучении! 😉 \n",
    "\n",
    "</div>"
   ]
  },
  {
   "cell_type": "markdown",
   "metadata": {},
   "source": [
    "<div class=\"alert alert-block alert-info\">\n",
    "    \n",
    "Спасибо за ревью!:)\n",
    "    \n",
    "</div>"
   ]
  },
  {
   "cell_type": "code",
   "execution_count": null,
   "metadata": {},
   "outputs": [],
   "source": []
  }
 ],
 "metadata": {
  "ExecuteTimeLog": [
   {
    "duration": 396,
    "start_time": "2024-05-30T15:17:37.515Z"
   },
   {
    "duration": 2,
    "start_time": "2024-05-30T15:17:40.327Z"
   },
   {
    "duration": 2178,
    "start_time": "2024-05-30T15:18:51.508Z"
   },
   {
    "duration": 15,
    "start_time": "2024-05-30T15:18:56.321Z"
   },
   {
    "duration": 318,
    "start_time": "2024-05-30T16:00:54.867Z"
   },
   {
    "duration": 205,
    "start_time": "2024-05-30T16:01:22.067Z"
   },
   {
    "duration": 5,
    "start_time": "2024-05-30T16:04:13.261Z"
   },
   {
    "duration": 87,
    "start_time": "2024-05-30T16:04:48.224Z"
   },
   {
    "duration": 21,
    "start_time": "2024-05-30T16:10:45.037Z"
   },
   {
    "duration": 3,
    "start_time": "2024-05-30T16:18:59.691Z"
   },
   {
    "duration": 10,
    "start_time": "2024-05-30T16:19:03.805Z"
   },
   {
    "duration": 70,
    "start_time": "2024-05-30T16:20:30.720Z"
   },
   {
    "duration": 10,
    "start_time": "2024-05-30T16:20:36.516Z"
   },
   {
    "duration": 69,
    "start_time": "2024-05-30T16:23:52.494Z"
   },
   {
    "duration": 16,
    "start_time": "2024-05-30T16:23:55.938Z"
   },
   {
    "duration": 16,
    "start_time": "2024-05-30T16:25:15.248Z"
   },
   {
    "duration": 14,
    "start_time": "2024-05-30T16:25:21.122Z"
   },
   {
    "duration": 16,
    "start_time": "2024-05-30T16:26:34.324Z"
   },
   {
    "duration": 3,
    "start_time": "2024-05-30T16:26:55.483Z"
   },
   {
    "duration": 185,
    "start_time": "2024-05-30T16:26:55.807Z"
   },
   {
    "duration": 4,
    "start_time": "2024-05-30T16:26:55.994Z"
   },
   {
    "duration": 90,
    "start_time": "2024-05-30T16:26:56.130Z"
   },
   {
    "duration": 19,
    "start_time": "2024-05-30T16:26:56.303Z"
   },
   {
    "duration": 3,
    "start_time": "2024-05-30T16:26:57.157Z"
   },
   {
    "duration": 68,
    "start_time": "2024-05-30T16:26:57.508Z"
   },
   {
    "duration": 21,
    "start_time": "2024-05-30T16:26:57.838Z"
   },
   {
    "duration": 12,
    "start_time": "2024-05-30T16:26:58.200Z"
   },
   {
    "duration": 65,
    "start_time": "2024-05-30T16:29:49.058Z"
   },
   {
    "duration": 58,
    "start_time": "2024-05-30T16:29:59.886Z"
   },
   {
    "duration": 54,
    "start_time": "2024-05-30T16:30:11.701Z"
   },
   {
    "duration": 53,
    "start_time": "2024-05-30T16:30:22.255Z"
   },
   {
    "duration": 63,
    "start_time": "2024-05-30T16:30:55.832Z"
   },
   {
    "duration": 14,
    "start_time": "2024-05-30T16:35:28.484Z"
   },
   {
    "duration": 818,
    "start_time": "2024-05-30T16:35:36.435Z"
   },
   {
    "duration": 860,
    "start_time": "2024-05-30T16:35:49.596Z"
   },
   {
    "duration": 802,
    "start_time": "2024-05-30T16:36:01.747Z"
   },
   {
    "duration": 34,
    "start_time": "2024-05-30T16:36:14.375Z"
   },
   {
    "duration": 66,
    "start_time": "2024-05-30T16:37:29.344Z"
   },
   {
    "duration": 8,
    "start_time": "2024-05-30T16:40:48.812Z"
   },
   {
    "duration": 33,
    "start_time": "2024-05-30T16:40:56.278Z"
   },
   {
    "duration": 4,
    "start_time": "2024-05-30T16:46:47.582Z"
   },
   {
    "duration": 43,
    "start_time": "2024-05-30T16:48:41.063Z"
   },
   {
    "duration": 9,
    "start_time": "2024-05-30T16:48:47.767Z"
   },
   {
    "duration": 445,
    "start_time": "2024-05-31T12:33:35.455Z"
   },
   {
    "duration": 269,
    "start_time": "2024-05-31T12:33:35.901Z"
   },
   {
    "duration": 4,
    "start_time": "2024-05-31T12:33:36.171Z"
   },
   {
    "duration": 88,
    "start_time": "2024-05-31T12:33:36.181Z"
   },
   {
    "duration": 19,
    "start_time": "2024-05-31T12:33:36.385Z"
   },
   {
    "duration": 3,
    "start_time": "2024-05-31T12:33:37.763Z"
   },
   {
    "duration": 70,
    "start_time": "2024-05-31T12:33:38.094Z"
   },
   {
    "duration": 19,
    "start_time": "2024-05-31T12:33:38.455Z"
   },
   {
    "duration": 13,
    "start_time": "2024-05-31T12:33:38.798Z"
   },
   {
    "duration": 63,
    "start_time": "2024-05-31T12:33:39.568Z"
   },
   {
    "duration": 32,
    "start_time": "2024-05-31T12:33:40.114Z"
   },
   {
    "duration": 22,
    "start_time": "2024-05-31T12:33:41.564Z"
   },
   {
    "duration": 7,
    "start_time": "2024-05-31T12:33:43.583Z"
   },
   {
    "duration": 39,
    "start_time": "2024-05-31T12:33:43.804Z"
   },
   {
    "duration": 39,
    "start_time": "2024-05-31T12:34:07.254Z"
   },
   {
    "duration": 40,
    "start_time": "2024-05-31T12:34:25.546Z"
   },
   {
    "duration": 105,
    "start_time": "2024-05-31T12:35:16.695Z"
   },
   {
    "duration": 138,
    "start_time": "2024-05-31T12:35:47.830Z"
   },
   {
    "duration": 422,
    "start_time": "2024-05-31T12:35:51.710Z"
   },
   {
    "duration": 114,
    "start_time": "2024-05-31T12:36:59.736Z"
   },
   {
    "duration": 95,
    "start_time": "2024-05-31T12:37:48.090Z"
   },
   {
    "duration": 2,
    "start_time": "2024-05-31T12:44:26.276Z"
   },
   {
    "duration": 184,
    "start_time": "2024-05-31T12:44:26.281Z"
   },
   {
    "duration": 3,
    "start_time": "2024-05-31T12:44:26.467Z"
   },
   {
    "duration": 77,
    "start_time": "2024-05-31T12:44:26.471Z"
   },
   {
    "duration": 27,
    "start_time": "2024-05-31T12:44:26.549Z"
   },
   {
    "duration": 3,
    "start_time": "2024-05-31T12:44:26.578Z"
   },
   {
    "duration": 64,
    "start_time": "2024-05-31T12:44:26.583Z"
   },
   {
    "duration": 31,
    "start_time": "2024-05-31T12:44:26.648Z"
   },
   {
    "duration": 70,
    "start_time": "2024-05-31T12:44:26.681Z"
   },
   {
    "duration": 67,
    "start_time": "2024-05-31T12:44:26.753Z"
   },
   {
    "duration": 26,
    "start_time": "2024-05-31T12:44:26.822Z"
   },
   {
    "duration": 31,
    "start_time": "2024-05-31T12:44:26.849Z"
   },
   {
    "duration": 7,
    "start_time": "2024-05-31T12:44:26.881Z"
   },
   {
    "duration": 102,
    "start_time": "2024-05-31T12:44:26.889Z"
   },
   {
    "duration": 68,
    "start_time": "2024-05-31T12:53:24.927Z"
   },
   {
    "duration": 59,
    "start_time": "2024-05-31T12:53:29.831Z"
   },
   {
    "duration": 11,
    "start_time": "2024-05-31T12:53:47.813Z"
   },
   {
    "duration": 19,
    "start_time": "2024-05-31T12:54:24.172Z"
   },
   {
    "duration": 8,
    "start_time": "2024-05-31T12:54:33.882Z"
   },
   {
    "duration": 12,
    "start_time": "2024-05-31T12:54:38.803Z"
   },
   {
    "duration": 12,
    "start_time": "2024-05-31T12:54:50.027Z"
   },
   {
    "duration": 19,
    "start_time": "2024-05-31T13:52:53.166Z"
   },
   {
    "duration": 16,
    "start_time": "2024-05-31T13:53:11.594Z"
   },
   {
    "duration": 32,
    "start_time": "2024-05-31T13:54:09.401Z"
   },
   {
    "duration": 50,
    "start_time": "2024-05-31T13:56:42.198Z"
   },
   {
    "duration": 44,
    "start_time": "2024-05-31T13:56:56.525Z"
   },
   {
    "duration": 43,
    "start_time": "2024-05-31T13:59:58.608Z"
   },
   {
    "duration": 19,
    "start_time": "2024-05-31T14:05:44.862Z"
   },
   {
    "duration": 18,
    "start_time": "2024-05-31T14:05:57.572Z"
   },
   {
    "duration": 19,
    "start_time": "2024-05-31T14:06:12.934Z"
   },
   {
    "duration": 12,
    "start_time": "2024-05-31T14:06:34.654Z"
   },
   {
    "duration": 18,
    "start_time": "2024-05-31T14:06:58.902Z"
   },
   {
    "duration": 20,
    "start_time": "2024-05-31T14:09:06.167Z"
   },
   {
    "duration": 12,
    "start_time": "2024-05-31T14:09:13.412Z"
   },
   {
    "duration": 20,
    "start_time": "2024-05-31T14:09:32.305Z"
   },
   {
    "duration": 11,
    "start_time": "2024-05-31T14:09:33.003Z"
   },
   {
    "duration": 43,
    "start_time": "2024-05-31T14:09:33.160Z"
   },
   {
    "duration": 14,
    "start_time": "2024-05-31T14:09:33.324Z"
   },
   {
    "duration": 17,
    "start_time": "2024-05-31T14:10:13.332Z"
   },
   {
    "duration": 21,
    "start_time": "2024-05-31T14:10:26.619Z"
   },
   {
    "duration": 4,
    "start_time": "2024-05-31T14:10:39.384Z"
   },
   {
    "duration": 20,
    "start_time": "2024-05-31T14:11:18.278Z"
   },
   {
    "duration": 15,
    "start_time": "2024-05-31T14:12:08.094Z"
   },
   {
    "duration": 16,
    "start_time": "2024-05-31T14:12:16.080Z"
   },
   {
    "duration": 66,
    "start_time": "2024-05-31T14:12:29.520Z"
   },
   {
    "duration": 67,
    "start_time": "2024-05-31T14:13:06.287Z"
   },
   {
    "duration": 4,
    "start_time": "2024-05-31T14:14:51.562Z"
   },
   {
    "duration": 21,
    "start_time": "2024-05-31T14:14:57.261Z"
   },
   {
    "duration": 4,
    "start_time": "2024-05-31T14:15:18.541Z"
   },
   {
    "duration": 4,
    "start_time": "2024-05-31T14:16:19.581Z"
   },
   {
    "duration": 3,
    "start_time": "2024-05-31T14:16:26.747Z"
   },
   {
    "duration": 14,
    "start_time": "2024-05-31T14:17:19.546Z"
   },
   {
    "duration": 4,
    "start_time": "2024-05-31T14:18:06.858Z"
   },
   {
    "duration": 23,
    "start_time": "2024-05-31T14:18:42.992Z"
   },
   {
    "duration": 11,
    "start_time": "2024-05-31T14:22:37.036Z"
   },
   {
    "duration": 22,
    "start_time": "2024-05-31T14:22:48.004Z"
   },
   {
    "duration": 28,
    "start_time": "2024-05-31T14:24:00.149Z"
   },
   {
    "duration": 37,
    "start_time": "2024-05-31T14:26:44.136Z"
   },
   {
    "duration": 43,
    "start_time": "2024-05-31T14:27:14.887Z"
   },
   {
    "duration": 15,
    "start_time": "2024-05-31T16:09:28.281Z"
   },
   {
    "duration": 27,
    "start_time": "2024-05-31T16:09:38.931Z"
   },
   {
    "duration": 2,
    "start_time": "2024-05-31T16:09:51.481Z"
   },
   {
    "duration": 200,
    "start_time": "2024-05-31T16:09:51.485Z"
   },
   {
    "duration": 4,
    "start_time": "2024-05-31T16:09:51.687Z"
   },
   {
    "duration": 112,
    "start_time": "2024-05-31T16:09:51.693Z"
   },
   {
    "duration": 22,
    "start_time": "2024-05-31T16:09:51.807Z"
   },
   {
    "duration": 3,
    "start_time": "2024-05-31T16:09:51.831Z"
   },
   {
    "duration": 70,
    "start_time": "2024-05-31T16:09:51.836Z"
   },
   {
    "duration": 17,
    "start_time": "2024-05-31T16:09:51.908Z"
   },
   {
    "duration": 28,
    "start_time": "2024-05-31T16:09:51.927Z"
   },
   {
    "duration": 77,
    "start_time": "2024-05-31T16:09:51.956Z"
   },
   {
    "duration": 33,
    "start_time": "2024-05-31T16:09:52.036Z"
   },
   {
    "duration": 21,
    "start_time": "2024-05-31T16:09:52.071Z"
   },
   {
    "duration": 7,
    "start_time": "2024-05-31T16:09:52.094Z"
   },
   {
    "duration": 108,
    "start_time": "2024-05-31T16:09:52.102Z"
   },
   {
    "duration": 17,
    "start_time": "2024-05-31T16:09:52.211Z"
   },
   {
    "duration": 19,
    "start_time": "2024-05-31T16:09:52.229Z"
   },
   {
    "duration": 43,
    "start_time": "2024-05-31T16:09:52.264Z"
   },
   {
    "duration": 25,
    "start_time": "2024-05-31T16:09:52.308Z"
   },
   {
    "duration": 78,
    "start_time": "2024-05-31T16:09:52.334Z"
   },
   {
    "duration": 18,
    "start_time": "2024-05-31T16:09:52.413Z"
   },
   {
    "duration": 18,
    "start_time": "2024-05-31T16:11:15.430Z"
   },
   {
    "duration": 44,
    "start_time": "2024-05-31T16:11:30.289Z"
   },
   {
    "duration": 30,
    "start_time": "2024-05-31T16:11:43.493Z"
   },
   {
    "duration": 35,
    "start_time": "2024-05-31T16:12:04.928Z"
   },
   {
    "duration": 24,
    "start_time": "2024-05-31T16:12:30.234Z"
   },
   {
    "duration": 28,
    "start_time": "2024-05-31T16:12:38.095Z"
   },
   {
    "duration": 31,
    "start_time": "2024-05-31T16:12:59.161Z"
   },
   {
    "duration": 38,
    "start_time": "2024-05-31T16:13:04.840Z"
   },
   {
    "duration": 34,
    "start_time": "2024-05-31T16:13:35.460Z"
   },
   {
    "duration": 37,
    "start_time": "2024-05-31T16:14:06.663Z"
   },
   {
    "duration": 34,
    "start_time": "2024-05-31T16:14:20.785Z"
   },
   {
    "duration": 25,
    "start_time": "2024-05-31T16:15:30.034Z"
   },
   {
    "duration": 31,
    "start_time": "2024-05-31T16:15:35.844Z"
   },
   {
    "duration": 26,
    "start_time": "2024-05-31T16:15:41.646Z"
   },
   {
    "duration": 33,
    "start_time": "2024-05-31T16:16:45.569Z"
   },
   {
    "duration": 33,
    "start_time": "2024-05-31T16:17:04.660Z"
   },
   {
    "duration": 34,
    "start_time": "2024-05-31T16:17:25.247Z"
   },
   {
    "duration": 34,
    "start_time": "2024-05-31T16:17:34.714Z"
   },
   {
    "duration": 80,
    "start_time": "2024-05-31T16:17:42.841Z"
   },
   {
    "duration": 25,
    "start_time": "2024-05-31T16:21:28.479Z"
   },
   {
    "duration": 5,
    "start_time": "2024-05-31T16:21:36.528Z"
   },
   {
    "duration": 619,
    "start_time": "2024-05-31T16:24:01.446Z"
   },
   {
    "duration": 41,
    "start_time": "2024-05-31T16:25:46.084Z"
   },
   {
    "duration": 2,
    "start_time": "2024-05-31T16:26:14.137Z"
   },
   {
    "duration": 172,
    "start_time": "2024-05-31T16:26:20.474Z"
   },
   {
    "duration": 189,
    "start_time": "2024-05-31T16:26:43.186Z"
   },
   {
    "duration": 170,
    "start_time": "2024-05-31T16:29:57.292Z"
   },
   {
    "duration": 206,
    "start_time": "2024-05-31T16:31:08.869Z"
   },
   {
    "duration": 189,
    "start_time": "2024-05-31T16:31:44.898Z"
   },
   {
    "duration": 2,
    "start_time": "2024-05-31T16:33:11.901Z"
   },
   {
    "duration": 190,
    "start_time": "2024-05-31T16:33:16.294Z"
   },
   {
    "duration": 183,
    "start_time": "2024-05-31T16:33:23.923Z"
   },
   {
    "duration": 165,
    "start_time": "2024-05-31T16:37:39.569Z"
   },
   {
    "duration": 62,
    "start_time": "2024-05-31T16:38:09.672Z"
   },
   {
    "duration": 156,
    "start_time": "2024-05-31T16:38:16.257Z"
   },
   {
    "duration": 201,
    "start_time": "2024-05-31T17:17:52.130Z"
   },
   {
    "duration": 206,
    "start_time": "2024-05-31T17:18:00.596Z"
   },
   {
    "duration": 221,
    "start_time": "2024-05-31T17:19:22.225Z"
   },
   {
    "duration": 13,
    "start_time": "2024-05-31T17:21:11.424Z"
   },
   {
    "duration": 975,
    "start_time": "2024-05-31T17:21:28.527Z"
   },
   {
    "duration": 967,
    "start_time": "2024-05-31T17:21:48.160Z"
   },
   {
    "duration": 914,
    "start_time": "2024-05-31T17:22:09.261Z"
   },
   {
    "duration": 947,
    "start_time": "2024-05-31T17:22:45.442Z"
   },
   {
    "duration": 125,
    "start_time": "2024-05-31T17:23:45.611Z"
   },
   {
    "duration": 1011,
    "start_time": "2024-05-31T17:24:08.770Z"
   },
   {
    "duration": 320,
    "start_time": "2024-05-31T17:24:29.070Z"
   },
   {
    "duration": 156,
    "start_time": "2024-05-31T17:24:40.086Z"
   },
   {
    "duration": 180,
    "start_time": "2024-05-31T17:25:04.438Z"
   },
   {
    "duration": 165,
    "start_time": "2024-05-31T17:25:12.087Z"
   },
   {
    "duration": 1464,
    "start_time": "2024-06-01T15:38:56.714Z"
   },
   {
    "duration": 284,
    "start_time": "2024-06-01T15:38:58.180Z"
   },
   {
    "duration": 4,
    "start_time": "2024-06-01T15:38:58.465Z"
   },
   {
    "duration": 154,
    "start_time": "2024-06-01T15:38:58.470Z"
   },
   {
    "duration": 27,
    "start_time": "2024-06-01T15:38:58.627Z"
   },
   {
    "duration": 3,
    "start_time": "2024-06-01T15:38:58.656Z"
   },
   {
    "duration": 116,
    "start_time": "2024-06-01T15:38:58.661Z"
   },
   {
    "duration": 18,
    "start_time": "2024-06-01T15:38:58.779Z"
   },
   {
    "duration": 14,
    "start_time": "2024-06-01T15:38:58.799Z"
   },
   {
    "duration": 78,
    "start_time": "2024-06-01T15:38:58.815Z"
   },
   {
    "duration": 32,
    "start_time": "2024-06-01T15:38:58.895Z"
   },
   {
    "duration": 40,
    "start_time": "2024-06-01T15:38:58.928Z"
   },
   {
    "duration": 7,
    "start_time": "2024-06-01T15:38:58.969Z"
   },
   {
    "duration": 443,
    "start_time": "2024-06-01T15:38:58.979Z"
   },
   {
    "duration": 32,
    "start_time": "2024-06-01T15:38:59.424Z"
   },
   {
    "duration": 18,
    "start_time": "2024-06-01T15:38:59.457Z"
   },
   {
    "duration": 97,
    "start_time": "2024-06-01T15:38:59.477Z"
   },
   {
    "duration": 27,
    "start_time": "2024-06-01T15:38:59.575Z"
   },
   {
    "duration": 105,
    "start_time": "2024-06-01T15:38:59.603Z"
   },
   {
    "duration": 45,
    "start_time": "2024-06-01T15:38:59.709Z"
   },
   {
    "duration": 6,
    "start_time": "2024-06-01T15:38:59.755Z"
   },
   {
    "duration": 206,
    "start_time": "2024-06-01T15:38:59.763Z"
   },
   {
    "duration": 57,
    "start_time": "2024-06-01T15:58:54.572Z"
   },
   {
    "duration": 6,
    "start_time": "2024-06-01T15:58:58.912Z"
   },
   {
    "duration": 1232,
    "start_time": "2024-06-01T15:59:49.501Z"
   },
   {
    "duration": 7,
    "start_time": "2024-06-01T16:00:04.430Z"
   },
   {
    "duration": 54,
    "start_time": "2024-06-01T16:00:13.510Z"
   },
   {
    "duration": 8,
    "start_time": "2024-06-01T16:00:14.994Z"
   },
   {
    "duration": 1019,
    "start_time": "2024-06-01T16:00:16.693Z"
   },
   {
    "duration": 715,
    "start_time": "2024-06-01T16:00:36.309Z"
   },
   {
    "duration": 1096,
    "start_time": "2024-06-01T16:00:55.501Z"
   },
   {
    "duration": 2039,
    "start_time": "2024-06-01T16:01:17.241Z"
   },
   {
    "duration": 1050,
    "start_time": "2024-06-01T16:01:26.865Z"
   },
   {
    "duration": 250,
    "start_time": "2024-06-01T16:01:57.196Z"
   },
   {
    "duration": 186,
    "start_time": "2024-06-01T16:02:13.632Z"
   },
   {
    "duration": 196,
    "start_time": "2024-06-01T16:02:27.376Z"
   },
   {
    "duration": 196,
    "start_time": "2024-06-01T16:02:40.137Z"
   },
   {
    "duration": 191,
    "start_time": "2024-06-01T16:02:49.396Z"
   },
   {
    "duration": 300,
    "start_time": "2024-06-01T16:02:58.682Z"
   },
   {
    "duration": 1135,
    "start_time": "2024-06-01T16:04:34.083Z"
   },
   {
    "duration": 190,
    "start_time": "2024-06-01T16:04:38.284Z"
   },
   {
    "duration": 226,
    "start_time": "2024-06-01T16:05:50.720Z"
   },
   {
    "duration": 208,
    "start_time": "2024-06-01T16:08:33.963Z"
   },
   {
    "duration": 73,
    "start_time": "2024-06-01T16:28:18.467Z"
   },
   {
    "duration": 14,
    "start_time": "2024-06-01T16:28:23.038Z"
   },
   {
    "duration": 3,
    "start_time": "2024-06-01T16:28:32.340Z"
   },
   {
    "duration": 18,
    "start_time": "2024-06-01T16:28:35.762Z"
   },
   {
    "duration": 61,
    "start_time": "2024-06-01T16:30:41.117Z"
   },
   {
    "duration": 14,
    "start_time": "2024-06-01T16:30:49.863Z"
   },
   {
    "duration": 19,
    "start_time": "2024-06-01T16:34:36.194Z"
   },
   {
    "duration": 16,
    "start_time": "2024-06-01T16:35:11.381Z"
   },
   {
    "duration": 16,
    "start_time": "2024-06-01T16:35:24.652Z"
   },
   {
    "duration": 4,
    "start_time": "2024-06-01T16:35:53.157Z"
   },
   {
    "duration": 20,
    "start_time": "2024-06-01T16:36:04.043Z"
   },
   {
    "duration": 15,
    "start_time": "2024-06-01T16:36:33.072Z"
   },
   {
    "duration": 16,
    "start_time": "2024-06-01T16:36:42.088Z"
   },
   {
    "duration": 15,
    "start_time": "2024-06-01T16:37:47.601Z"
   },
   {
    "duration": 194,
    "start_time": "2024-06-01T16:38:52.643Z"
   },
   {
    "duration": 13,
    "start_time": "2024-06-01T16:40:38.665Z"
   },
   {
    "duration": 11,
    "start_time": "2024-06-01T16:42:09.413Z"
   },
   {
    "duration": 36,
    "start_time": "2024-06-01T16:49:02.687Z"
   },
   {
    "duration": 917,
    "start_time": "2024-06-01T16:49:28.425Z"
   },
   {
    "duration": 15,
    "start_time": "2024-06-01T16:49:41.445Z"
   },
   {
    "duration": 17,
    "start_time": "2024-06-01T16:50:53.111Z"
   },
   {
    "duration": 26,
    "start_time": "2024-06-01T17:04:42.047Z"
   },
   {
    "duration": 39,
    "start_time": "2024-06-01T17:05:03.847Z"
   },
   {
    "duration": 4,
    "start_time": "2024-06-01T17:06:40.688Z"
   },
   {
    "duration": 205,
    "start_time": "2024-06-01T17:06:40.694Z"
   },
   {
    "duration": 3,
    "start_time": "2024-06-01T17:06:40.900Z"
   },
   {
    "duration": 123,
    "start_time": "2024-06-01T17:06:40.905Z"
   },
   {
    "duration": 25,
    "start_time": "2024-06-01T17:06:41.031Z"
   },
   {
    "duration": 10,
    "start_time": "2024-06-01T17:06:41.058Z"
   },
   {
    "duration": 86,
    "start_time": "2024-06-01T17:06:41.070Z"
   },
   {
    "duration": 19,
    "start_time": "2024-06-01T17:06:41.158Z"
   },
   {
    "duration": 26,
    "start_time": "2024-06-01T17:06:41.178Z"
   },
   {
    "duration": 41,
    "start_time": "2024-06-01T17:06:41.206Z"
   },
   {
    "duration": 91,
    "start_time": "2024-06-01T17:06:41.248Z"
   },
   {
    "duration": 25,
    "start_time": "2024-06-01T17:06:41.341Z"
   },
   {
    "duration": 44,
    "start_time": "2024-06-01T17:06:41.368Z"
   },
   {
    "duration": 7,
    "start_time": "2024-06-01T17:06:41.415Z"
   },
   {
    "duration": 237,
    "start_time": "2024-06-01T17:06:41.424Z"
   },
   {
    "duration": 13,
    "start_time": "2024-06-01T17:06:41.663Z"
   },
   {
    "duration": 32,
    "start_time": "2024-06-01T17:06:41.678Z"
   },
   {
    "duration": 77,
    "start_time": "2024-06-01T17:06:41.712Z"
   },
   {
    "duration": 28,
    "start_time": "2024-06-01T17:06:41.791Z"
   },
   {
    "duration": 83,
    "start_time": "2024-06-01T17:06:41.821Z"
   },
   {
    "duration": 40,
    "start_time": "2024-06-01T17:06:41.906Z"
   },
   {
    "duration": 8,
    "start_time": "2024-06-01T17:06:41.947Z"
   },
   {
    "duration": 199,
    "start_time": "2024-06-01T17:06:41.957Z"
   },
   {
    "duration": 59,
    "start_time": "2024-06-01T17:06:42.157Z"
   },
   {
    "duration": 203,
    "start_time": "2024-06-01T17:06:42.218Z"
   },
   {
    "duration": 8,
    "start_time": "2024-06-01T17:06:42.423Z"
   },
   {
    "duration": 29,
    "start_time": "2024-06-01T17:06:42.433Z"
   },
   {
    "duration": 42,
    "start_time": "2024-06-01T17:06:42.464Z"
   },
   {
    "duration": 25,
    "start_time": "2024-06-01T17:06:53.757Z"
   },
   {
    "duration": 6,
    "start_time": "2024-06-01T17:55:50.428Z"
   },
   {
    "duration": 14,
    "start_time": "2024-06-01T17:56:13.399Z"
   },
   {
    "duration": 14,
    "start_time": "2024-06-01T17:56:20.459Z"
   },
   {
    "duration": 1422,
    "start_time": "2024-06-02T19:03:42.370Z"
   },
   {
    "duration": 4,
    "start_time": "2024-06-02T19:04:09.190Z"
   },
   {
    "duration": 862,
    "start_time": "2024-06-02T19:04:09.196Z"
   },
   {
    "duration": 6,
    "start_time": "2024-06-02T19:04:10.059Z"
   },
   {
    "duration": 107,
    "start_time": "2024-06-02T19:04:10.066Z"
   },
   {
    "duration": 24,
    "start_time": "2024-06-02T19:04:10.176Z"
   },
   {
    "duration": 19,
    "start_time": "2024-06-02T19:04:10.201Z"
   },
   {
    "duration": 106,
    "start_time": "2024-06-02T19:04:10.222Z"
   },
   {
    "duration": 35,
    "start_time": "2024-06-02T19:04:10.330Z"
   },
   {
    "duration": 14,
    "start_time": "2024-06-02T19:04:10.367Z"
   },
   {
    "duration": 20,
    "start_time": "2024-06-02T19:04:10.383Z"
   },
   {
    "duration": 86,
    "start_time": "2024-06-02T19:04:10.405Z"
   },
   {
    "duration": 28,
    "start_time": "2024-06-02T19:04:10.494Z"
   },
   {
    "duration": 41,
    "start_time": "2024-06-02T19:04:10.523Z"
   },
   {
    "duration": 7,
    "start_time": "2024-06-02T19:04:10.568Z"
   },
   {
    "duration": 464,
    "start_time": "2024-06-02T19:04:10.576Z"
   },
   {
    "duration": 28,
    "start_time": "2024-06-02T19:04:11.044Z"
   },
   {
    "duration": 25,
    "start_time": "2024-06-02T19:04:11.074Z"
   },
   {
    "duration": 102,
    "start_time": "2024-06-02T19:04:11.101Z"
   },
   {
    "duration": 74,
    "start_time": "2024-06-02T19:04:11.205Z"
   },
   {
    "duration": 79,
    "start_time": "2024-06-02T19:04:11.281Z"
   },
   {
    "duration": 25,
    "start_time": "2024-06-02T19:04:11.362Z"
   },
   {
    "duration": 6,
    "start_time": "2024-06-02T19:04:11.389Z"
   },
   {
    "duration": 221,
    "start_time": "2024-06-02T19:04:11.396Z"
   },
   {
    "duration": 65,
    "start_time": "2024-06-02T19:04:11.619Z"
   },
   {
    "duration": 259,
    "start_time": "2024-06-02T19:04:11.685Z"
   },
   {
    "duration": 10,
    "start_time": "2024-06-02T19:04:11.945Z"
   },
   {
    "duration": 14,
    "start_time": "2024-06-02T19:04:11.956Z"
   },
   {
    "duration": 24,
    "start_time": "2024-06-02T19:04:11.972Z"
   },
   {
    "duration": 5,
    "start_time": "2024-06-02T19:04:11.997Z"
   },
   {
    "duration": 195,
    "start_time": "2024-06-02T19:04:12.004Z"
   },
   {
    "duration": 45,
    "start_time": "2024-06-02T19:20:20.956Z"
   },
   {
    "duration": 34,
    "start_time": "2024-06-02T19:21:19.614Z"
   },
   {
    "duration": 25,
    "start_time": "2024-06-02T19:28:02.755Z"
   },
   {
    "duration": 31,
    "start_time": "2024-06-02T19:28:11.358Z"
   },
   {
    "duration": 25,
    "start_time": "2024-06-02T19:30:02.445Z"
   },
   {
    "duration": 12,
    "start_time": "2024-06-02T19:30:06.974Z"
   },
   {
    "duration": 44,
    "start_time": "2024-06-02T19:30:18.970Z"
   },
   {
    "duration": 9,
    "start_time": "2024-06-02T19:30:24.861Z"
   },
   {
    "duration": 28,
    "start_time": "2024-06-02T19:31:29.823Z"
   },
   {
    "duration": 29,
    "start_time": "2024-06-02T19:31:35.497Z"
   },
   {
    "duration": 27,
    "start_time": "2024-06-02T19:36:06.791Z"
   },
   {
    "duration": 7,
    "start_time": "2024-06-02T19:39:50.764Z"
   },
   {
    "duration": 43,
    "start_time": "2024-06-02T19:40:48.478Z"
   },
   {
    "duration": 106,
    "start_time": "2024-06-02T19:40:56.953Z"
   },
   {
    "duration": 17,
    "start_time": "2024-06-02T19:41:45.441Z"
   },
   {
    "duration": 89,
    "start_time": "2024-06-02T19:41:58.834Z"
   },
   {
    "duration": 76,
    "start_time": "2024-06-02T19:46:55.236Z"
   },
   {
    "duration": 73,
    "start_time": "2024-06-02T19:47:40.484Z"
   },
   {
    "duration": 27,
    "start_time": "2024-06-02T19:58:11.856Z"
   },
   {
    "duration": 27,
    "start_time": "2024-06-02T19:58:41.952Z"
   },
   {
    "duration": 7,
    "start_time": "2024-06-02T19:58:51.057Z"
   },
   {
    "duration": 99,
    "start_time": "2024-06-02T19:58:52.602Z"
   },
   {
    "duration": 72,
    "start_time": "2024-06-02T19:58:58.016Z"
   },
   {
    "duration": 75,
    "start_time": "2024-06-02T19:59:00.742Z"
   },
   {
    "duration": 10,
    "start_time": "2024-06-02T20:02:53.358Z"
   },
   {
    "duration": 104,
    "start_time": "2024-06-02T20:03:04.515Z"
   },
   {
    "duration": 36,
    "start_time": "2024-06-02T21:09:53.520Z"
   },
   {
    "duration": 6,
    "start_time": "2024-06-02T21:09:59.547Z"
   },
   {
    "duration": 93,
    "start_time": "2024-06-02T21:10:01.077Z"
   },
   {
    "duration": 80,
    "start_time": "2024-06-02T21:11:50.026Z"
   },
   {
    "duration": 74,
    "start_time": "2024-06-02T21:12:04.996Z"
   },
   {
    "duration": 102,
    "start_time": "2024-06-02T21:12:19.208Z"
   },
   {
    "duration": 1401,
    "start_time": "2024-06-02T21:34:56.022Z"
   },
   {
    "duration": 808,
    "start_time": "2024-06-02T21:34:57.425Z"
   },
   {
    "duration": 3,
    "start_time": "2024-06-02T21:34:58.235Z"
   },
   {
    "duration": 120,
    "start_time": "2024-06-02T21:34:58.240Z"
   },
   {
    "duration": 22,
    "start_time": "2024-06-02T21:34:58.361Z"
   },
   {
    "duration": 17,
    "start_time": "2024-06-02T21:34:58.385Z"
   },
   {
    "duration": 84,
    "start_time": "2024-06-02T21:34:58.404Z"
   },
   {
    "duration": 27,
    "start_time": "2024-06-02T21:34:58.490Z"
   },
   {
    "duration": 19,
    "start_time": "2024-06-02T21:34:58.519Z"
   },
   {
    "duration": 45,
    "start_time": "2024-06-02T21:34:58.541Z"
   },
   {
    "duration": 69,
    "start_time": "2024-06-02T21:34:58.588Z"
   },
   {
    "duration": 41,
    "start_time": "2024-06-02T21:34:58.659Z"
   },
   {
    "duration": 23,
    "start_time": "2024-06-02T21:34:58.702Z"
   },
   {
    "duration": 9,
    "start_time": "2024-06-02T21:34:58.727Z"
   },
   {
    "duration": 655,
    "start_time": "2024-06-02T21:34:58.737Z"
   },
   {
    "duration": 27,
    "start_time": "2024-06-02T21:34:59.396Z"
   },
   {
    "duration": 63,
    "start_time": "2024-06-02T21:34:59.425Z"
   },
   {
    "duration": 122,
    "start_time": "2024-06-02T21:34:59.490Z"
   },
   {
    "duration": 25,
    "start_time": "2024-06-02T21:34:59.613Z"
   },
   {
    "duration": 76,
    "start_time": "2024-06-02T21:34:59.640Z"
   },
   {
    "duration": 25,
    "start_time": "2024-06-02T21:34:59.718Z"
   },
   {
    "duration": 5,
    "start_time": "2024-06-02T21:34:59.745Z"
   },
   {
    "duration": 207,
    "start_time": "2024-06-02T21:34:59.752Z"
   },
   {
    "duration": 60,
    "start_time": "2024-06-02T21:34:59.961Z"
   },
   {
    "duration": 257,
    "start_time": "2024-06-02T21:35:00.023Z"
   },
   {
    "duration": 7,
    "start_time": "2024-06-02T21:35:00.281Z"
   },
   {
    "duration": 231,
    "start_time": "2024-06-02T21:35:00.290Z"
   },
   {
    "duration": 75,
    "start_time": "2024-06-02T21:35:00.525Z"
   },
   {
    "duration": 38,
    "start_time": "2024-06-02T21:35:00.601Z"
   },
   {
    "duration": 40,
    "start_time": "2024-06-02T21:35:00.641Z"
   },
   {
    "duration": 19,
    "start_time": "2024-06-02T21:35:00.683Z"
   },
   {
    "duration": 69,
    "start_time": "2024-06-02T21:35:00.703Z"
   },
   {
    "duration": 51,
    "start_time": "2024-06-02T21:35:00.774Z"
   },
   {
    "duration": 46,
    "start_time": "2024-06-02T21:35:00.827Z"
   },
   {
    "duration": 57,
    "start_time": "2024-06-02T21:35:00.875Z"
   },
   {
    "duration": 176,
    "start_time": "2024-06-02T21:35:00.934Z"
   },
   {
    "duration": 74,
    "start_time": "2024-06-02T21:35:01.112Z"
   },
   {
    "duration": 93,
    "start_time": "2024-06-02T21:35:01.187Z"
   },
   {
    "duration": 8,
    "start_time": "2024-06-02T21:35:01.281Z"
   },
   {
    "duration": 135,
    "start_time": "2024-06-02T21:35:01.290Z"
   },
   {
    "duration": 97,
    "start_time": "2024-06-02T22:09:31.358Z"
   },
   {
    "duration": 27,
    "start_time": "2024-06-02T22:10:45.496Z"
   },
   {
    "duration": 36,
    "start_time": "2024-06-02T22:11:17.550Z"
   },
   {
    "duration": 3,
    "start_time": "2024-06-02T22:12:34.659Z"
   },
   {
    "duration": 199,
    "start_time": "2024-06-02T22:12:34.667Z"
   },
   {
    "duration": 3,
    "start_time": "2024-06-02T22:12:34.868Z"
   },
   {
    "duration": 101,
    "start_time": "2024-06-02T22:12:34.872Z"
   },
   {
    "duration": 19,
    "start_time": "2024-06-02T22:12:34.975Z"
   },
   {
    "duration": 3,
    "start_time": "2024-06-02T22:12:34.996Z"
   },
   {
    "duration": 108,
    "start_time": "2024-06-02T22:12:35.001Z"
   },
   {
    "duration": 20,
    "start_time": "2024-06-02T22:12:35.111Z"
   },
   {
    "duration": 35,
    "start_time": "2024-06-02T22:12:35.132Z"
   },
   {
    "duration": 33,
    "start_time": "2024-06-02T22:12:35.170Z"
   },
   {
    "duration": 83,
    "start_time": "2024-06-02T22:12:35.207Z"
   },
   {
    "duration": 26,
    "start_time": "2024-06-02T22:12:35.292Z"
   },
   {
    "duration": 42,
    "start_time": "2024-06-02T22:12:35.320Z"
   },
   {
    "duration": 7,
    "start_time": "2024-06-02T22:12:35.364Z"
   },
   {
    "duration": 107,
    "start_time": "2024-06-02T22:12:35.373Z"
   },
   {
    "duration": 14,
    "start_time": "2024-06-02T22:12:35.482Z"
   },
   {
    "duration": 15,
    "start_time": "2024-06-02T22:12:35.498Z"
   },
   {
    "duration": 74,
    "start_time": "2024-06-02T22:12:35.514Z"
   },
   {
    "duration": 24,
    "start_time": "2024-06-02T22:12:35.590Z"
   },
   {
    "duration": 84,
    "start_time": "2024-06-02T22:12:35.616Z"
   },
   {
    "duration": 28,
    "start_time": "2024-06-02T22:12:35.702Z"
   },
   {
    "duration": 7,
    "start_time": "2024-06-02T22:12:35.731Z"
   },
   {
    "duration": 207,
    "start_time": "2024-06-02T22:12:35.756Z"
   },
   {
    "duration": 57,
    "start_time": "2024-06-02T22:12:35.964Z"
   },
   {
    "duration": 200,
    "start_time": "2024-06-02T22:12:36.023Z"
   },
   {
    "duration": 6,
    "start_time": "2024-06-02T22:12:36.225Z"
   },
   {
    "duration": 11,
    "start_time": "2024-06-02T22:12:36.256Z"
   },
   {
    "duration": 37,
    "start_time": "2024-06-02T22:12:36.268Z"
   },
   {
    "duration": 33,
    "start_time": "2024-06-02T22:12:36.308Z"
   },
   {
    "duration": 34,
    "start_time": "2024-06-02T22:12:36.355Z"
   },
   {
    "duration": 21,
    "start_time": "2024-06-02T22:12:36.390Z"
   },
   {
    "duration": 44,
    "start_time": "2024-06-02T22:12:36.413Z"
   },
   {
    "duration": 27,
    "start_time": "2024-06-02T22:12:36.458Z"
   },
   {
    "duration": 32,
    "start_time": "2024-06-02T22:12:36.487Z"
   },
   {
    "duration": 7,
    "start_time": "2024-06-02T22:12:36.521Z"
   },
   {
    "duration": 134,
    "start_time": "2024-06-02T22:12:36.529Z"
   },
   {
    "duration": 91,
    "start_time": "2024-06-02T22:12:36.665Z"
   },
   {
    "duration": 77,
    "start_time": "2024-06-02T22:12:36.758Z"
   },
   {
    "duration": 20,
    "start_time": "2024-06-02T22:12:36.836Z"
   },
   {
    "duration": 118,
    "start_time": "2024-06-02T22:12:36.857Z"
   },
   {
    "duration": 4,
    "start_time": "2024-06-02T22:12:46.631Z"
   },
   {
    "duration": 192,
    "start_time": "2024-06-02T22:12:46.639Z"
   },
   {
    "duration": 3,
    "start_time": "2024-06-02T22:12:46.833Z"
   },
   {
    "duration": 99,
    "start_time": "2024-06-02T22:12:46.838Z"
   },
   {
    "duration": 33,
    "start_time": "2024-06-02T22:12:46.939Z"
   },
   {
    "duration": 3,
    "start_time": "2024-06-02T22:12:46.974Z"
   },
   {
    "duration": 94,
    "start_time": "2024-06-02T22:12:46.979Z"
   },
   {
    "duration": 21,
    "start_time": "2024-06-02T22:12:47.074Z"
   },
   {
    "duration": 14,
    "start_time": "2024-06-02T22:12:47.096Z"
   },
   {
    "duration": 51,
    "start_time": "2024-06-02T22:12:47.112Z"
   },
   {
    "duration": 67,
    "start_time": "2024-06-02T22:12:47.167Z"
   },
   {
    "duration": 44,
    "start_time": "2024-06-02T22:12:47.236Z"
   },
   {
    "duration": 25,
    "start_time": "2024-06-02T22:12:47.282Z"
   },
   {
    "duration": 8,
    "start_time": "2024-06-02T22:12:47.309Z"
   },
   {
    "duration": 119,
    "start_time": "2024-06-02T22:12:47.319Z"
   },
   {
    "duration": 23,
    "start_time": "2024-06-02T22:12:47.439Z"
   },
   {
    "duration": 14,
    "start_time": "2024-06-02T22:12:47.463Z"
   },
   {
    "duration": 47,
    "start_time": "2024-06-02T22:12:47.478Z"
   },
   {
    "duration": 45,
    "start_time": "2024-06-02T22:12:47.527Z"
   },
   {
    "duration": 56,
    "start_time": "2024-06-02T22:12:47.574Z"
   },
   {
    "duration": 48,
    "start_time": "2024-06-02T22:12:47.631Z"
   },
   {
    "duration": 6,
    "start_time": "2024-06-02T22:12:47.680Z"
   },
   {
    "duration": 203,
    "start_time": "2024-06-02T22:12:47.688Z"
   },
   {
    "duration": 70,
    "start_time": "2024-06-02T22:12:47.893Z"
   },
   {
    "duration": 181,
    "start_time": "2024-06-02T22:12:47.964Z"
   },
   {
    "duration": 7,
    "start_time": "2024-06-02T22:12:48.154Z"
   },
   {
    "duration": 12,
    "start_time": "2024-06-02T22:12:48.162Z"
   },
   {
    "duration": 40,
    "start_time": "2024-06-02T22:12:48.175Z"
   },
   {
    "duration": 49,
    "start_time": "2024-06-02T22:12:48.218Z"
   },
   {
    "duration": 30,
    "start_time": "2024-06-02T22:12:48.268Z"
   },
   {
    "duration": 21,
    "start_time": "2024-06-02T22:12:48.300Z"
   },
   {
    "duration": 43,
    "start_time": "2024-06-02T22:12:48.323Z"
   },
   {
    "duration": 26,
    "start_time": "2024-06-02T22:12:48.368Z"
   },
   {
    "duration": 32,
    "start_time": "2024-06-02T22:12:48.397Z"
   },
   {
    "duration": 6,
    "start_time": "2024-06-02T22:12:48.431Z"
   },
   {
    "duration": 102,
    "start_time": "2024-06-02T22:12:48.439Z"
   },
   {
    "duration": 108,
    "start_time": "2024-06-02T22:12:48.555Z"
   },
   {
    "duration": 95,
    "start_time": "2024-06-02T22:12:48.666Z"
   },
   {
    "duration": 6,
    "start_time": "2024-06-02T22:12:48.763Z"
   },
   {
    "duration": 124,
    "start_time": "2024-06-02T22:12:48.771Z"
   },
   {
    "duration": 3,
    "start_time": "2024-06-02T22:13:13.752Z"
   },
   {
    "duration": 197,
    "start_time": "2024-06-02T22:13:13.759Z"
   },
   {
    "duration": 3,
    "start_time": "2024-06-02T22:13:13.958Z"
   },
   {
    "duration": 95,
    "start_time": "2024-06-02T22:13:13.963Z"
   },
   {
    "duration": 21,
    "start_time": "2024-06-02T22:13:14.060Z"
   },
   {
    "duration": 5,
    "start_time": "2024-06-02T22:13:14.083Z"
   },
   {
    "duration": 91,
    "start_time": "2024-06-02T22:13:14.089Z"
   },
   {
    "duration": 20,
    "start_time": "2024-06-02T22:13:14.181Z"
   },
   {
    "duration": 13,
    "start_time": "2024-06-02T22:13:14.203Z"
   },
   {
    "duration": 42,
    "start_time": "2024-06-02T22:13:14.218Z"
   },
   {
    "duration": 64,
    "start_time": "2024-06-02T22:13:14.263Z"
   },
   {
    "duration": 43,
    "start_time": "2024-06-02T22:13:14.329Z"
   },
   {
    "duration": 25,
    "start_time": "2024-06-02T22:13:14.373Z"
   },
   {
    "duration": 8,
    "start_time": "2024-06-02T22:13:14.399Z"
   },
   {
    "duration": 114,
    "start_time": "2024-06-02T22:13:14.409Z"
   },
   {
    "duration": 30,
    "start_time": "2024-06-02T22:13:14.525Z"
   },
   {
    "duration": 16,
    "start_time": "2024-06-02T22:13:14.557Z"
   },
   {
    "duration": 57,
    "start_time": "2024-06-02T22:13:14.575Z"
   },
   {
    "duration": 45,
    "start_time": "2024-06-02T22:13:14.634Z"
   },
   {
    "duration": 65,
    "start_time": "2024-06-02T22:13:14.681Z"
   },
   {
    "duration": 27,
    "start_time": "2024-06-02T22:13:14.755Z"
   },
   {
    "duration": 6,
    "start_time": "2024-06-02T22:13:14.784Z"
   },
   {
    "duration": 206,
    "start_time": "2024-06-02T22:13:14.791Z"
   },
   {
    "duration": 69,
    "start_time": "2024-06-02T22:13:14.998Z"
   },
   {
    "duration": 196,
    "start_time": "2024-06-02T22:13:15.069Z"
   },
   {
    "duration": 7,
    "start_time": "2024-06-02T22:13:15.267Z"
   },
   {
    "duration": 40,
    "start_time": "2024-06-02T22:13:15.276Z"
   },
   {
    "duration": 33,
    "start_time": "2024-06-02T22:13:15.318Z"
   },
   {
    "duration": 34,
    "start_time": "2024-06-02T22:13:15.355Z"
   },
   {
    "duration": 33,
    "start_time": "2024-06-02T22:13:15.391Z"
   },
   {
    "duration": 38,
    "start_time": "2024-06-02T22:13:15.425Z"
   },
   {
    "duration": 28,
    "start_time": "2024-06-02T22:13:15.464Z"
   },
   {
    "duration": 27,
    "start_time": "2024-06-02T22:13:15.493Z"
   },
   {
    "duration": 48,
    "start_time": "2024-06-02T22:13:15.522Z"
   },
   {
    "duration": 6,
    "start_time": "2024-06-02T22:13:15.572Z"
   },
   {
    "duration": 111,
    "start_time": "2024-06-02T22:13:15.579Z"
   },
   {
    "duration": 83,
    "start_time": "2024-06-02T22:13:15.692Z"
   },
   {
    "duration": 85,
    "start_time": "2024-06-02T22:13:15.777Z"
   },
   {
    "duration": 6,
    "start_time": "2024-06-02T22:13:15.864Z"
   },
   {
    "duration": 128,
    "start_time": "2024-06-02T22:13:15.871Z"
   },
   {
    "duration": 5,
    "start_time": "2024-06-02T22:15:27.881Z"
   },
   {
    "duration": 6,
    "start_time": "2024-06-02T22:15:36.900Z"
   },
   {
    "duration": 11,
    "start_time": "2024-06-02T22:15:41.691Z"
   },
   {
    "duration": 4,
    "start_time": "2024-06-02T22:16:10.573Z"
   },
   {
    "duration": 177,
    "start_time": "2024-06-02T22:16:11.131Z"
   },
   {
    "duration": 4,
    "start_time": "2024-06-02T22:16:11.315Z"
   },
   {
    "duration": 77,
    "start_time": "2024-06-02T22:16:11.494Z"
   },
   {
    "duration": 18,
    "start_time": "2024-06-02T22:16:11.691Z"
   },
   {
    "duration": 3,
    "start_time": "2024-06-02T22:16:12.817Z"
   },
   {
    "duration": 69,
    "start_time": "2024-06-02T22:16:13.398Z"
   },
   {
    "duration": 31,
    "start_time": "2024-06-02T22:16:13.820Z"
   },
   {
    "duration": 12,
    "start_time": "2024-06-02T22:16:14.191Z"
   },
   {
    "duration": 21,
    "start_time": "2024-06-02T22:16:15.975Z"
   },
   {
    "duration": 72,
    "start_time": "2024-06-02T22:16:17.102Z"
   },
   {
    "duration": 26,
    "start_time": "2024-06-02T22:16:17.462Z"
   },
   {
    "duration": 24,
    "start_time": "2024-06-02T22:16:17.838Z"
   },
   {
    "duration": 8,
    "start_time": "2024-06-02T22:16:18.497Z"
   },
   {
    "duration": 92,
    "start_time": "2024-06-02T22:16:18.708Z"
   },
   {
    "duration": 15,
    "start_time": "2024-06-02T22:16:19.005Z"
   },
   {
    "duration": 15,
    "start_time": "2024-06-02T22:16:19.223Z"
   },
   {
    "duration": 49,
    "start_time": "2024-06-02T22:16:19.425Z"
   },
   {
    "duration": 29,
    "start_time": "2024-06-02T22:16:20.187Z"
   },
   {
    "duration": 57,
    "start_time": "2024-06-02T22:16:20.356Z"
   },
   {
    "duration": 28,
    "start_time": "2024-06-02T22:16:21.876Z"
   },
   {
    "duration": 6,
    "start_time": "2024-06-02T22:16:22.043Z"
   },
   {
    "duration": 191,
    "start_time": "2024-06-02T22:16:22.379Z"
   },
   {
    "duration": 58,
    "start_time": "2024-06-02T22:16:27.306Z"
   },
   {
    "duration": 293,
    "start_time": "2024-06-02T22:16:27.634Z"
   },
   {
    "duration": 6,
    "start_time": "2024-06-02T22:16:27.929Z"
   },
   {
    "duration": 4,
    "start_time": "2024-06-02T22:16:31.019Z"
   },
   {
    "duration": 9,
    "start_time": "2024-06-02T22:16:32.160Z"
   },
   {
    "duration": 11,
    "start_time": "2024-06-02T22:16:33.021Z"
   },
   {
    "duration": 10,
    "start_time": "2024-06-02T22:17:42.261Z"
   },
   {
    "duration": 3,
    "start_time": "2024-06-02T22:18:05.134Z"
   },
   {
    "duration": 56,
    "start_time": "2024-06-02T22:18:12.732Z"
   },
   {
    "duration": 11,
    "start_time": "2024-06-02T22:18:13.682Z"
   },
   {
    "duration": 71,
    "start_time": "2024-06-02T22:24:25.678Z"
   },
   {
    "duration": 1564,
    "start_time": "2024-06-03T08:09:21.291Z"
   },
   {
    "duration": 352,
    "start_time": "2024-06-03T08:09:22.858Z"
   },
   {
    "duration": 4,
    "start_time": "2024-06-03T08:09:23.213Z"
   },
   {
    "duration": 156,
    "start_time": "2024-06-03T08:09:23.220Z"
   },
   {
    "duration": 21,
    "start_time": "2024-06-03T08:09:23.381Z"
   },
   {
    "duration": 4,
    "start_time": "2024-06-03T08:09:23.404Z"
   },
   {
    "duration": 111,
    "start_time": "2024-06-03T08:09:23.410Z"
   },
   {
    "duration": 21,
    "start_time": "2024-06-03T08:09:23.522Z"
   },
   {
    "duration": 14,
    "start_time": "2024-06-03T08:09:23.544Z"
   },
   {
    "duration": 39,
    "start_time": "2024-06-03T08:09:23.561Z"
   },
   {
    "duration": 67,
    "start_time": "2024-06-03T08:09:23.602Z"
   },
   {
    "duration": 27,
    "start_time": "2024-06-03T08:09:23.683Z"
   },
   {
    "duration": 25,
    "start_time": "2024-06-03T08:09:23.711Z"
   },
   {
    "duration": 8,
    "start_time": "2024-06-03T08:09:23.738Z"
   },
   {
    "duration": 713,
    "start_time": "2024-06-03T08:09:23.747Z"
   },
   {
    "duration": 32,
    "start_time": "2024-06-03T08:09:24.463Z"
   },
   {
    "duration": 22,
    "start_time": "2024-06-03T08:09:24.496Z"
   },
   {
    "duration": 166,
    "start_time": "2024-06-03T08:09:24.521Z"
   },
   {
    "duration": 29,
    "start_time": "2024-06-03T08:09:24.689Z"
   },
   {
    "duration": 107,
    "start_time": "2024-06-03T08:09:24.720Z"
   },
   {
    "duration": 54,
    "start_time": "2024-06-03T08:09:24.829Z"
   },
   {
    "duration": 8,
    "start_time": "2024-06-03T08:09:24.885Z"
   },
   {
    "duration": 213,
    "start_time": "2024-06-03T08:09:24.895Z"
   },
   {
    "duration": 72,
    "start_time": "2024-06-03T08:09:25.110Z"
   },
   {
    "duration": 266,
    "start_time": "2024-06-03T08:09:25.184Z"
   },
   {
    "duration": 6,
    "start_time": "2024-06-03T08:09:25.452Z"
   },
   {
    "duration": 10,
    "start_time": "2024-06-03T08:09:25.460Z"
   },
   {
    "duration": 7,
    "start_time": "2024-06-03T08:09:25.481Z"
   },
   {
    "duration": 58,
    "start_time": "2024-06-03T08:09:25.490Z"
   },
   {
    "duration": 37,
    "start_time": "2024-06-03T08:09:25.551Z"
   },
   {
    "duration": 37,
    "start_time": "2024-06-03T08:09:25.590Z"
   },
   {
    "duration": 46,
    "start_time": "2024-06-03T08:09:25.683Z"
   },
   {
    "duration": 36,
    "start_time": "2024-06-03T08:09:25.783Z"
   },
   {
    "duration": 20,
    "start_time": "2024-06-03T08:09:25.821Z"
   },
   {
    "duration": 64,
    "start_time": "2024-06-03T08:09:25.843Z"
   },
   {
    "duration": 38,
    "start_time": "2024-06-03T08:09:25.908Z"
   },
   {
    "duration": 46,
    "start_time": "2024-06-03T08:09:25.948Z"
   },
   {
    "duration": 7,
    "start_time": "2024-06-03T08:09:25.997Z"
   },
   {
    "duration": 106,
    "start_time": "2024-06-03T08:09:26.006Z"
   },
   {
    "duration": 91,
    "start_time": "2024-06-03T08:09:26.114Z"
   },
   {
    "duration": 89,
    "start_time": "2024-06-03T08:09:26.207Z"
   },
   {
    "duration": 13,
    "start_time": "2024-06-03T08:09:26.308Z"
   },
   {
    "duration": 122,
    "start_time": "2024-06-03T08:09:26.323Z"
   },
   {
    "duration": 1468,
    "start_time": "2024-06-20T14:30:39.900Z"
   },
   {
    "duration": 280,
    "start_time": "2024-06-20T14:30:41.370Z"
   },
   {
    "duration": 3,
    "start_time": "2024-06-20T14:30:41.651Z"
   },
   {
    "duration": 120,
    "start_time": "2024-06-20T14:30:41.656Z"
   },
   {
    "duration": 27,
    "start_time": "2024-06-20T14:30:41.778Z"
   },
   {
    "duration": 3,
    "start_time": "2024-06-20T14:30:41.806Z"
   },
   {
    "duration": 94,
    "start_time": "2024-06-20T14:30:41.810Z"
   },
   {
    "duration": 19,
    "start_time": "2024-06-20T14:30:41.905Z"
   },
   {
    "duration": 26,
    "start_time": "2024-06-20T14:30:41.926Z"
   },
   {
    "duration": 39,
    "start_time": "2024-06-20T14:30:41.954Z"
   },
   {
    "duration": 71,
    "start_time": "2024-06-20T14:30:41.994Z"
   },
   {
    "duration": 26,
    "start_time": "2024-06-20T14:30:42.067Z"
   },
   {
    "duration": 38,
    "start_time": "2024-06-20T14:30:42.095Z"
   },
   {
    "duration": 17,
    "start_time": "2024-06-20T14:30:42.136Z"
   },
   {
    "duration": 515,
    "start_time": "2024-06-20T14:30:42.155Z"
   },
   {
    "duration": 22,
    "start_time": "2024-06-20T14:30:42.672Z"
   },
   {
    "duration": 63,
    "start_time": "2024-06-20T14:30:42.696Z"
   },
   {
    "duration": 46,
    "start_time": "2024-06-20T14:30:42.760Z"
   },
   {
    "duration": 26,
    "start_time": "2024-06-20T14:30:42.846Z"
   },
   {
    "duration": 78,
    "start_time": "2024-06-20T14:30:42.874Z"
   },
   {
    "duration": 26,
    "start_time": "2024-06-20T14:30:42.953Z"
   },
   {
    "duration": 6,
    "start_time": "2024-06-20T14:30:42.981Z"
   },
   {
    "duration": 224,
    "start_time": "2024-06-20T14:30:42.988Z"
   },
   {
    "duration": 62,
    "start_time": "2024-06-20T14:30:43.213Z"
   },
   {
    "duration": 254,
    "start_time": "2024-06-20T14:30:43.276Z"
   },
   {
    "duration": 6,
    "start_time": "2024-06-20T14:30:43.532Z"
   },
   {
    "duration": 4,
    "start_time": "2024-06-20T14:30:43.545Z"
   },
   {
    "duration": 10,
    "start_time": "2024-06-20T14:30:43.551Z"
   },
   {
    "duration": 64,
    "start_time": "2024-06-20T14:30:43.562Z"
   },
   {
    "duration": 34,
    "start_time": "2024-06-20T14:30:43.629Z"
   },
   {
    "duration": 98,
    "start_time": "2024-06-20T14:30:43.665Z"
   },
   {
    "duration": 35,
    "start_time": "2024-06-20T14:30:43.765Z"
   },
   {
    "duration": 63,
    "start_time": "2024-06-20T14:30:43.801Z"
   },
   {
    "duration": 20,
    "start_time": "2024-06-20T14:30:43.866Z"
   },
   {
    "duration": 30,
    "start_time": "2024-06-20T14:30:43.888Z"
   },
   {
    "duration": 45,
    "start_time": "2024-06-20T14:30:43.920Z"
   },
   {
    "duration": 26,
    "start_time": "2024-06-20T14:30:43.967Z"
   },
   {
    "duration": 6,
    "start_time": "2024-06-20T14:30:43.994Z"
   },
   {
    "duration": 119,
    "start_time": "2024-06-20T14:30:44.002Z"
   },
   {
    "duration": 99,
    "start_time": "2024-06-20T14:30:44.122Z"
   },
   {
    "duration": 81,
    "start_time": "2024-06-20T14:30:44.226Z"
   },
   {
    "duration": 7,
    "start_time": "2024-06-20T14:30:44.309Z"
   },
   {
    "duration": 118,
    "start_time": "2024-06-20T14:30:44.317Z"
   },
   {
    "duration": 1319,
    "start_time": "2024-07-18T21:03:50.817Z"
   },
   {
    "duration": 704,
    "start_time": "2024-07-18T21:03:52.137Z"
   },
   {
    "duration": 3,
    "start_time": "2024-07-18T21:03:52.842Z"
   },
   {
    "duration": 88,
    "start_time": "2024-07-18T21:03:52.847Z"
   },
   {
    "duration": 22,
    "start_time": "2024-07-18T21:03:52.936Z"
   },
   {
    "duration": 2,
    "start_time": "2024-07-18T21:03:52.959Z"
   },
   {
    "duration": 70,
    "start_time": "2024-07-18T21:03:52.963Z"
   },
   {
    "duration": 35,
    "start_time": "2024-07-18T21:03:53.034Z"
   },
   {
    "duration": 11,
    "start_time": "2024-07-18T21:03:53.070Z"
   },
   {
    "duration": 17,
    "start_time": "2024-07-18T21:03:53.083Z"
   },
   {
    "duration": 68,
    "start_time": "2024-07-18T21:03:53.101Z"
   },
   {
    "duration": 25,
    "start_time": "2024-07-18T21:03:53.170Z"
   },
   {
    "duration": 19,
    "start_time": "2024-07-18T21:03:53.196Z"
   },
   {
    "duration": 7,
    "start_time": "2024-07-18T21:03:53.216Z"
   },
   {
    "duration": 401,
    "start_time": "2024-07-18T21:03:53.224Z"
   },
   {
    "duration": 35,
    "start_time": "2024-07-18T21:03:53.627Z"
   },
   {
    "duration": 20,
    "start_time": "2024-07-18T21:03:53.663Z"
   },
   {
    "duration": 102,
    "start_time": "2024-07-18T21:03:53.685Z"
   },
   {
    "duration": 24,
    "start_time": "2024-07-18T21:03:53.788Z"
   },
   {
    "duration": 69,
    "start_time": "2024-07-18T21:03:53.814Z"
   },
   {
    "duration": 24,
    "start_time": "2024-07-18T21:03:53.884Z"
   },
   {
    "duration": 6,
    "start_time": "2024-07-18T21:03:53.909Z"
   },
   {
    "duration": 195,
    "start_time": "2024-07-18T21:03:53.916Z"
   },
   {
    "duration": 62,
    "start_time": "2024-07-18T21:03:54.112Z"
   },
   {
    "duration": 219,
    "start_time": "2024-07-18T21:03:54.176Z"
   },
   {
    "duration": 8,
    "start_time": "2024-07-18T21:03:54.397Z"
   },
   {
    "duration": 9,
    "start_time": "2024-07-18T21:03:54.406Z"
   },
   {
    "duration": 7,
    "start_time": "2024-07-18T21:03:54.418Z"
   },
   {
    "duration": 66,
    "start_time": "2024-07-18T21:03:54.427Z"
   },
   {
    "duration": 12,
    "start_time": "2024-07-18T21:03:54.496Z"
   },
   {
    "duration": 59,
    "start_time": "2024-07-18T21:03:54.510Z"
   },
   {
    "duration": 29,
    "start_time": "2024-07-18T21:03:54.570Z"
   },
   {
    "duration": 91,
    "start_time": "2024-07-18T21:03:54.600Z"
   },
   {
    "duration": 21,
    "start_time": "2024-07-18T21:03:54.692Z"
   },
   {
    "duration": 25,
    "start_time": "2024-07-18T21:03:54.715Z"
   },
   {
    "duration": 37,
    "start_time": "2024-07-18T21:03:54.741Z"
   },
   {
    "duration": 47,
    "start_time": "2024-07-18T21:03:54.779Z"
   },
   {
    "duration": 6,
    "start_time": "2024-07-18T21:03:54.827Z"
   },
   {
    "duration": 74,
    "start_time": "2024-07-18T21:03:54.834Z"
   },
   {
    "duration": 65,
    "start_time": "2024-07-18T21:03:54.909Z"
   },
   {
    "duration": 59,
    "start_time": "2024-07-18T21:03:54.976Z"
   },
   {
    "duration": 25,
    "start_time": "2024-07-18T21:03:55.037Z"
   },
   {
    "duration": 98,
    "start_time": "2024-07-18T21:03:55.064Z"
   },
   {
    "duration": 2147,
    "start_time": "2024-07-21T15:24:31.490Z"
   },
   {
    "duration": 0,
    "start_time": "2024-07-21T15:24:33.652Z"
   },
   {
    "duration": 0,
    "start_time": "2024-07-21T15:24:33.653Z"
   },
   {
    "duration": 0,
    "start_time": "2024-07-21T15:24:33.654Z"
   },
   {
    "duration": 0,
    "start_time": "2024-07-21T15:24:33.656Z"
   },
   {
    "duration": 0,
    "start_time": "2024-07-21T15:24:33.656Z"
   },
   {
    "duration": 0,
    "start_time": "2024-07-21T15:24:33.660Z"
   },
   {
    "duration": 0,
    "start_time": "2024-07-21T15:24:33.663Z"
   },
   {
    "duration": 0,
    "start_time": "2024-07-21T15:24:33.664Z"
   },
   {
    "duration": 0,
    "start_time": "2024-07-21T15:24:33.664Z"
   },
   {
    "duration": 0,
    "start_time": "2024-07-21T15:24:33.667Z"
   },
   {
    "duration": 0,
    "start_time": "2024-07-21T15:24:33.668Z"
   },
   {
    "duration": 0,
    "start_time": "2024-07-21T15:24:33.669Z"
   },
   {
    "duration": 0,
    "start_time": "2024-07-21T15:24:33.671Z"
   },
   {
    "duration": 0,
    "start_time": "2024-07-21T15:24:33.672Z"
   },
   {
    "duration": 0,
    "start_time": "2024-07-21T15:24:33.673Z"
   },
   {
    "duration": 0,
    "start_time": "2024-07-21T15:24:33.673Z"
   },
   {
    "duration": 1,
    "start_time": "2024-07-21T15:24:33.677Z"
   },
   {
    "duration": 0,
    "start_time": "2024-07-21T15:24:33.678Z"
   },
   {
    "duration": 0,
    "start_time": "2024-07-21T15:24:33.679Z"
   },
   {
    "duration": 0,
    "start_time": "2024-07-21T15:24:33.680Z"
   },
   {
    "duration": 0,
    "start_time": "2024-07-21T15:24:33.681Z"
   },
   {
    "duration": 0,
    "start_time": "2024-07-21T15:24:33.683Z"
   },
   {
    "duration": 0,
    "start_time": "2024-07-21T15:24:33.684Z"
   },
   {
    "duration": 0,
    "start_time": "2024-07-21T15:24:33.685Z"
   },
   {
    "duration": 0,
    "start_time": "2024-07-21T15:24:33.686Z"
   },
   {
    "duration": 0,
    "start_time": "2024-07-21T15:24:33.687Z"
   },
   {
    "duration": 0,
    "start_time": "2024-07-21T15:24:33.688Z"
   },
   {
    "duration": 0,
    "start_time": "2024-07-21T15:24:33.689Z"
   },
   {
    "duration": 0,
    "start_time": "2024-07-21T15:24:33.690Z"
   },
   {
    "duration": 0,
    "start_time": "2024-07-21T15:24:33.691Z"
   },
   {
    "duration": 0,
    "start_time": "2024-07-21T15:24:33.692Z"
   },
   {
    "duration": 0,
    "start_time": "2024-07-21T15:24:33.693Z"
   },
   {
    "duration": 0,
    "start_time": "2024-07-21T15:24:33.694Z"
   },
   {
    "duration": 0,
    "start_time": "2024-07-21T15:24:33.695Z"
   },
   {
    "duration": 0,
    "start_time": "2024-07-21T15:24:33.696Z"
   },
   {
    "duration": 0,
    "start_time": "2024-07-21T15:24:33.697Z"
   },
   {
    "duration": 0,
    "start_time": "2024-07-21T15:24:33.698Z"
   },
   {
    "duration": 0,
    "start_time": "2024-07-21T15:24:33.700Z"
   },
   {
    "duration": 0,
    "start_time": "2024-07-21T15:24:33.701Z"
   },
   {
    "duration": 0,
    "start_time": "2024-07-21T15:24:33.702Z"
   },
   {
    "duration": 0,
    "start_time": "2024-07-21T15:24:33.703Z"
   },
   {
    "duration": 0,
    "start_time": "2024-07-21T15:24:33.755Z"
   }
  ],
  "kernelspec": {
   "display_name": "Python 3 (ipykernel)",
   "language": "python",
   "name": "python3"
  },
  "language_info": {
   "codemirror_mode": {
    "name": "ipython",
    "version": 3
   },
   "file_extension": ".py",
   "mimetype": "text/x-python",
   "name": "python",
   "nbconvert_exporter": "python",
   "pygments_lexer": "ipython3",
   "version": "3.9.5"
  },
  "toc": {
   "base_numbering": 1,
   "nav_menu": {},
   "number_sections": true,
   "sideBar": true,
   "skip_h1_title": true,
   "title_cell": "Table of Contents",
   "title_sidebar": "Contents",
   "toc_cell": false,
   "toc_position": {},
   "toc_section_display": true,
   "toc_window_display": false
  }
 },
 "nbformat": 4,
 "nbformat_minor": 2
}
